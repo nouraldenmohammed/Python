{
 "cells": [
  {
   "cell_type": "markdown",
   "metadata": {},
   "source": [
    "# 1.0- Data Visualization"
   ]
  },
  {
   "cell_type": "markdown",
   "metadata": {},
   "source": [
    "* Visualization enhances sharing of information in a clear and understable way. Visualization can be textual, tabular or graphical. \n",
    "\n",
    "* Visualization is a skills. \n",
    "<br><br>\n",
    "<font color=\"red\">\n",
    "<u><b>Learning Objectives</b></u>\n",
    "<ul>\n",
    "<li>Modes of data visualization.</li>\n",
    "<li>Principles in choosing type of visualization to use.</li>\n",
    "<li>Use of <font color=\"blue\">Matplotlib</font> for plots.</li>\n",
    "<li>Use of <font color=\"blue\">Pandas</font> for tables.</li>\n",
    "<li>Use of <font color=\"blue\">Networkx</font> for graphs.</li>\n",
    "</ul>\n",
    "</font>"
   ]
  },
  {
   "cell_type": "markdown",
   "metadata": {},
   "source": [
    "### <u>Principles</u>\n",
    "\n",
    "**In which case graphical visualization may be more appropriate than textual or tabular visualization?**\n",
    "\n",
    "**Which visualization is more appropriate for the following and why:**\n",
    "\n",
    "\n",
    "* the average of the ages of AIMS students over the last five years. \n",
    "* the total number of AIMS-ZA alumni per country since 2005. \n",
    "\n",
    "**Trust me, we can get different best answers...Just know how to do it...Uhm...Am I right?**"
   ]
  },
  {
   "cell_type": "code",
   "execution_count": null,
   "metadata": {
    "collapsed": true
   },
   "outputs": [],
   "source": [
    "#Answer"
   ]
  },
  {
   "cell_type": "markdown",
   "metadata": {},
   "source": [
    "**Do not do what you want, but what data require.**"
   ]
  },
  {
   "cell_type": "markdown",
   "metadata": {},
   "source": [
    "## A. Textual Visualization\n",
    "\n",
    "Text visualization is a collection of words that is complete in itself (or meaningful), conveying an information which, in some cases, may be a statement, a question or an exclamation."
   ]
  },
  {
   "cell_type": "code",
   "execution_count": null,
   "metadata": {
    "collapsed": true
   },
   "outputs": [],
   "source": []
  },
  {
   "cell_type": "markdown",
   "metadata": {},
   "source": [
    "#### Example"
   ]
  },
  {
   "cell_type": "code",
   "execution_count": 4,
   "metadata": {
    "collapsed": true
   },
   "outputs": [],
   "source": [
    "# structure: Name,Country, Background\n",
    "students=[[\"Kevin\",\"Kenya\", \"P.M\"],  \n",
    "          [\"Daniel\",\"Nigeria\", \"A.M\"], [\"Nouralden\",\"Soudan\", \"C.S\"]]"
   ]
  },
  {
   "cell_type": "code",
   "execution_count": 2,
   "metadata": {
    "collapsed": false
   },
   "outputs": [
    {
     "name": "stdout",
     "output_type": "stream",
     "text": [
      "[['Kevin', 'Kenya', 'P.M'], ['Daniel', 'Nigeria', 'A.M'], ['Nouralden', 'Soudan', 'C.S']]\n"
     ]
    }
   ],
   "source": [
    "# code to print items of the above list\n",
    "print(students)"
   ]
  },
  {
   "cell_type": "code",
   "execution_count": 9,
   "metadata": {
    "collapsed": false
   },
   "outputs": [
    {
     "name": "stdout",
     "output_type": "stream",
     "text": [
      "Kevin\tKenya\tP.M\t\n",
      "Daniel\tNigeria\tA.M\t\n",
      "Nouralden\tSoudan\tC.S\t\n"
     ]
    }
   ],
   "source": [
    "for i in students:\n",
    "    for j in i:\n",
    "        print(j,end='\\t')\n",
    "    print()"
   ]
  },
  {
   "cell_type": "code",
   "execution_count": 10,
   "metadata": {
    "collapsed": false
   },
   "outputs": [
    {
     "name": "stdout",
     "output_type": "stream",
     "text": [
      "Kevin Kenya P.M\n",
      "Daniel Nigeria A.M\n",
      "Nouralden Soudan C.S\n"
     ]
    }
   ],
   "source": [
    "for item in students:\n",
    "    print(item[0],item[1],item[2])"
   ]
  },
  {
   "cell_type": "markdown",
   "metadata": {},
   "source": [
    "**Does it look nice?**"
   ]
  },
  {
   "cell_type": "markdown",
   "metadata": {},
   "source": [
    "#### Formatted Output with Print"
   ]
  },
  {
   "cell_type": "markdown",
   "metadata": {},
   "source": [
    "The use of **%style** can be usefull. Style can be a string (%s), a float (%f), an integer (%d). The use of **%** or **format** helps to reference data to print."
   ]
  },
  {
   "cell_type": "markdown",
   "metadata": {},
   "source": [
    "**Padding:** makes it better. We can define the length of the different strings with **%length s**. "
   ]
  },
  {
   "cell_type": "code",
   "execution_count": 20,
   "metadata": {
    "collapsed": false
   },
   "outputs": [
    {
     "name": "stdout",
     "output_type": "stream",
     "text": [
      "Kevin           from Kenya           he did P.M            \n",
      "Daniel          from Nigeria         he did A.M            \n",
      "Nouralden       from Soudan          he did C.S            \n"
     ]
    }
   ],
   "source": [
    "for i in students:\n",
    "    print(\"%-15s from %-15s he did %-15s\"%(i[0],i[1],i[2]))"
   ]
  },
  {
   "cell_type": "markdown",
   "metadata": {},
   "source": [
    "The minus - indicate the left alignment and + is right and also we can specify the length"
   ]
  },
  {
   "cell_type": "markdown",
   "metadata": {},
   "source": [
    "or"
   ]
  },
  {
   "cell_type": "code",
   "execution_count": 21,
   "metadata": {
    "collapsed": false
   },
   "outputs": [
    {
     "name": "stdout",
     "output_type": "stream",
     "text": [
      "Kevin          Kenya          P.M            \n",
      "Daniel         Nigeria        A.M            \n",
      "Nouralden      Soudan         C.S            \n"
     ]
    }
   ],
   "source": [
    "for item in students:\n",
    "    print('{:<15}{:<15}{:<15}'.format(item[0],item[1],item[2]))"
   ]
  },
  {
   "cell_type": "markdown",
   "metadata": {},
   "source": [
    "In format style we use < for left alignment"
   ]
  },
  {
   "cell_type": "markdown",
   "metadata": {},
   "source": [
    "**Any idea for right alignment with format?**"
   ]
  },
  {
   "cell_type": "code",
   "execution_count": null,
   "metadata": {
    "collapsed": false
   },
   "outputs": [],
   "source": [
    "# your answer"
   ]
  },
  {
   "cell_type": "markdown",
   "metadata": {},
   "source": [
    "#### Truncate information:"
   ]
  },
  {
   "cell_type": "code",
   "execution_count": null,
   "metadata": {
    "collapsed": false
   },
   "outputs": [],
   "source": []
  },
  {
   "cell_type": "markdown",
   "metadata": {},
   "source": [
    "##### Formatted numbers"
   ]
  },
  {
   "cell_type": "code",
   "execution_count": 1,
   "metadata": {
    "collapsed": false
   },
   "outputs": [
    {
     "name": "stdout",
     "output_type": "stream",
     "text": [
      "12.255\n"
     ]
    }
   ],
   "source": [
    "print('%.3f'%(12.254585445))"
   ]
  },
  {
   "cell_type": "markdown",
   "metadata": {},
   "source": [
    "#### Get the above result with **format.**"
   ]
  },
  {
   "cell_type": "code",
   "execution_count": null,
   "metadata": {
    "collapsed": false
   },
   "outputs": [],
   "source": []
  },
  {
   "cell_type": "markdown",
   "metadata": {},
   "source": [
    "## B. Tabular Output: Pandas\n",
    "\n",
    "pandas is a data analysis open source library for Python."
   ]
  },
  {
   "cell_type": "markdown",
   "metadata": {},
   "source": [
    "#### Tabular visualization with Pandas"
   ]
  },
  {
   "cell_type": "code",
   "execution_count": 2,
   "metadata": {
    "collapsed": false
   },
   "outputs": [],
   "source": [
    "#library for pandas use\n",
    "import pandas as pd\n"
   ]
  },
  {
   "cell_type": "code",
   "execution_count": 5,
   "metadata": {
    "collapsed": false
   },
   "outputs": [],
   "source": [
    "#create index of the table\n",
    "ids=[n for n in range(1,4)]\n",
    "# create a dataframe\n",
    "data=pd.DataFrame(students,columns=['Name','Country','Backgraound'],index=ids)\n"
   ]
  },
  {
   "cell_type": "code",
   "execution_count": 30,
   "metadata": {
    "collapsed": false
   },
   "outputs": [
    {
     "data": {
      "text/html": [
       "<div>\n",
       "<style scoped>\n",
       "    .dataframe tbody tr th:only-of-type {\n",
       "        vertical-align: middle;\n",
       "    }\n",
       "\n",
       "    .dataframe tbody tr th {\n",
       "        vertical-align: top;\n",
       "    }\n",
       "\n",
       "    .dataframe thead th {\n",
       "        text-align: right;\n",
       "    }\n",
       "</style>\n",
       "<table border=\"1\" class=\"dataframe\">\n",
       "  <thead>\n",
       "    <tr style=\"text-align: right;\">\n",
       "      <th></th>\n",
       "      <th>Name</th>\n",
       "      <th>Country</th>\n",
       "      <th>Backgraound</th>\n",
       "    </tr>\n",
       "  </thead>\n",
       "  <tbody>\n",
       "    <tr>\n",
       "      <th>1</th>\n",
       "      <td>Kevin</td>\n",
       "      <td>Kenya</td>\n",
       "      <td>P.M</td>\n",
       "    </tr>\n",
       "    <tr>\n",
       "      <th>2</th>\n",
       "      <td>Daniel</td>\n",
       "      <td>Nigeria</td>\n",
       "      <td>A.M</td>\n",
       "    </tr>\n",
       "    <tr>\n",
       "      <th>3</th>\n",
       "      <td>Nouralden</td>\n",
       "      <td>Soudan</td>\n",
       "      <td>C.S</td>\n",
       "    </tr>\n",
       "  </tbody>\n",
       "</table>\n",
       "</div>"
      ],
      "text/plain": [
       "        Name  Country Backgraound\n",
       "1      Kevin    Kenya         P.M\n",
       "2     Daniel  Nigeria         A.M\n",
       "3  Nouralden   Soudan         C.S"
      ]
     },
     "execution_count": 30,
     "metadata": {},
     "output_type": "execute_result"
    }
   ],
   "source": [
    "data"
   ]
  },
  {
   "cell_type": "markdown",
   "metadata": {},
   "source": [
    "We can save the result into an external file such as csv."
   ]
  },
  {
   "cell_type": "code",
   "execution_count": 19,
   "metadata": {
    "collapsed": false
   },
   "outputs": [
    {
     "data": {
      "text/html": [
       "<div>\n",
       "<style scoped>\n",
       "    .dataframe tbody tr th:only-of-type {\n",
       "        vertical-align: middle;\n",
       "    }\n",
       "\n",
       "    .dataframe tbody tr th {\n",
       "        vertical-align: top;\n",
       "    }\n",
       "\n",
       "    .dataframe thead th {\n",
       "        text-align: right;\n",
       "    }\n",
       "</style>\n",
       "<table border=\"1\" class=\"dataframe\">\n",
       "  <thead>\n",
       "    <tr style=\"text-align: right;\">\n",
       "      <th></th>\n",
       "      <th>Name</th>\n",
       "      <th>Country</th>\n",
       "      <th>Backgraound</th>\n",
       "      <th>resuls</th>\n",
       "    </tr>\n",
       "  </thead>\n",
       "  <tbody>\n",
       "    <tr>\n",
       "      <th>1</th>\n",
       "      <td>Kevin</td>\n",
       "      <td>Kenya</td>\n",
       "      <td>P.M</td>\n",
       "      <td>1</td>\n",
       "    </tr>\n",
       "    <tr>\n",
       "      <th>2</th>\n",
       "      <td>Daniel</td>\n",
       "      <td>Nigeria</td>\n",
       "      <td>A.M</td>\n",
       "      <td>2</td>\n",
       "    </tr>\n",
       "    <tr>\n",
       "      <th>3</th>\n",
       "      <td>Nouralden</td>\n",
       "      <td>Soudan</td>\n",
       "      <td>C.S</td>\n",
       "      <td>3</td>\n",
       "    </tr>\n",
       "  </tbody>\n",
       "</table>\n",
       "</div>"
      ],
      "text/plain": [
       "        Name  Country Backgraound resuls\n",
       "1      Kevin    Kenya         P.M      1\n",
       "2     Daniel  Nigeria         A.M      2\n",
       "3  Nouralden   Soudan         C.S      3"
      ]
     },
     "execution_count": 19,
     "metadata": {},
     "output_type": "execute_result"
    }
   ],
   "source": [
    "data['resuls']=['1','2','3'];data"
   ]
  },
  {
   "cell_type": "markdown",
   "metadata": {},
   "source": [
    "### B.0. Statistical Analysis of tabular data"
   ]
  },
  {
   "cell_type": "markdown",
   "metadata": {},
   "source": [
    "**As dataset for statistical analysis, we use: <font color=\"blue\">GDP per continent</font>.** GDP (Gross Domestic Product) is a monetary measure of the market value of all final goods and services produced within a period of time. It is often used to estimate the economic wealth of a country."
   ]
  },
  {
   "cell_type": "code",
   "execution_count": 6,
   "metadata": {
    "collapsed": false
   },
   "outputs": [],
   "source": [
    "gdp_africa=pd.read_csv('gapminder_gdp_africa.csv',index_col='country');\n"
   ]
  },
  {
   "cell_type": "code",
   "execution_count": 37,
   "metadata": {
    "collapsed": false
   },
   "outputs": [
    {
     "name": "stdout",
     "output_type": "stream",
     "text": [
      "<class 'pandas.core.frame.DataFrame'>\n",
      "Index: 52 entries, Algeria to Zimbabwe\n",
      "Data columns (total 12 columns):\n",
      "gdpPercap_1952    52 non-null float64\n",
      "gdpPercap_1957    52 non-null float64\n",
      "gdpPercap_1962    52 non-null float64\n",
      "gdpPercap_1967    52 non-null float64\n",
      "gdpPercap_1972    52 non-null float64\n",
      "gdpPercap_1977    52 non-null float64\n",
      "gdpPercap_1982    52 non-null float64\n",
      "gdpPercap_1987    52 non-null float64\n",
      "gdpPercap_1992    52 non-null float64\n",
      "gdpPercap_1997    52 non-null float64\n",
      "gdpPercap_2002    52 non-null float64\n",
      "gdpPercap_2007    52 non-null float64\n",
      "dtypes: float64(12)\n",
      "memory usage: 5.3+ KB\n"
     ]
    }
   ],
   "source": []
  },
  {
   "cell_type": "markdown",
   "metadata": {},
   "source": [
    "#### Data information and description\n",
    "\n",
    "* **DataFrame.info()** to find out more about a dataframe.\n",
    "* **DataFrame.describe()** gets the summary statistics of only the columns that have numerical data. All other columns are ignored.\n",
    "* **DataFrame.columns** variable stores information about the dataframe’s columns."
   ]
  },
  {
   "cell_type": "code",
   "execution_count": 7,
   "metadata": {
    "collapsed": false,
    "scrolled": true
   },
   "outputs": [
    {
     "name": "stdout",
     "output_type": "stream",
     "text": [
      "<class 'pandas.core.frame.DataFrame'>\n",
      "Index: 52 entries, Algeria to Zimbabwe\n",
      "Data columns (total 12 columns):\n",
      "gdpPercap_1952    52 non-null float64\n",
      "gdpPercap_1957    52 non-null float64\n",
      "gdpPercap_1962    52 non-null float64\n",
      "gdpPercap_1967    52 non-null float64\n",
      "gdpPercap_1972    52 non-null float64\n",
      "gdpPercap_1977    52 non-null float64\n",
      "gdpPercap_1982    52 non-null float64\n",
      "gdpPercap_1987    52 non-null float64\n",
      "gdpPercap_1992    52 non-null float64\n",
      "gdpPercap_1997    52 non-null float64\n",
      "gdpPercap_2002    52 non-null float64\n",
      "gdpPercap_2007    52 non-null float64\n",
      "dtypes: float64(12)\n",
      "memory usage: 5.3+ KB\n"
     ]
    }
   ],
   "source": [
    "# information of the data\n",
    "gdp_africa.info()"
   ]
  },
  {
   "cell_type": "code",
   "execution_count": 8,
   "metadata": {
    "collapsed": false,
    "scrolled": true
   },
   "outputs": [
    {
     "data": {
      "text/html": [
       "<div>\n",
       "<style scoped>\n",
       "    .dataframe tbody tr th:only-of-type {\n",
       "        vertical-align: middle;\n",
       "    }\n",
       "\n",
       "    .dataframe tbody tr th {\n",
       "        vertical-align: top;\n",
       "    }\n",
       "\n",
       "    .dataframe thead th {\n",
       "        text-align: right;\n",
       "    }\n",
       "</style>\n",
       "<table border=\"1\" class=\"dataframe\">\n",
       "  <thead>\n",
       "    <tr style=\"text-align: right;\">\n",
       "      <th></th>\n",
       "      <th>gdpPercap_1952</th>\n",
       "      <th>gdpPercap_1957</th>\n",
       "      <th>gdpPercap_1962</th>\n",
       "      <th>gdpPercap_1967</th>\n",
       "      <th>gdpPercap_1972</th>\n",
       "      <th>gdpPercap_1977</th>\n",
       "      <th>gdpPercap_1982</th>\n",
       "      <th>gdpPercap_1987</th>\n",
       "      <th>gdpPercap_1992</th>\n",
       "      <th>gdpPercap_1997</th>\n",
       "      <th>gdpPercap_2002</th>\n",
       "      <th>gdpPercap_2007</th>\n",
       "    </tr>\n",
       "  </thead>\n",
       "  <tbody>\n",
       "    <tr>\n",
       "      <th>count</th>\n",
       "      <td>52.000000</td>\n",
       "      <td>52.000000</td>\n",
       "      <td>52.000000</td>\n",
       "      <td>52.000000</td>\n",
       "      <td>52.000000</td>\n",
       "      <td>52.000000</td>\n",
       "      <td>52.000000</td>\n",
       "      <td>52.000000</td>\n",
       "      <td>52.000000</td>\n",
       "      <td>52.000000</td>\n",
       "      <td>52.000000</td>\n",
       "      <td>52.000000</td>\n",
       "    </tr>\n",
       "    <tr>\n",
       "      <th>mean</th>\n",
       "      <td>1252.572466</td>\n",
       "      <td>1385.236062</td>\n",
       "      <td>1598.078825</td>\n",
       "      <td>2050.363801</td>\n",
       "      <td>2339.615674</td>\n",
       "      <td>2585.938508</td>\n",
       "      <td>2481.592960</td>\n",
       "      <td>2282.668991</td>\n",
       "      <td>2281.810333</td>\n",
       "      <td>2378.759555</td>\n",
       "      <td>2599.385159</td>\n",
       "      <td>3089.032605</td>\n",
       "    </tr>\n",
       "    <tr>\n",
       "      <th>std</th>\n",
       "      <td>982.952116</td>\n",
       "      <td>1134.508918</td>\n",
       "      <td>1461.839189</td>\n",
       "      <td>2847.717603</td>\n",
       "      <td>3286.853884</td>\n",
       "      <td>4142.398707</td>\n",
       "      <td>3242.632753</td>\n",
       "      <td>2566.531947</td>\n",
       "      <td>2644.075602</td>\n",
       "      <td>2820.728117</td>\n",
       "      <td>2972.651308</td>\n",
       "      <td>3618.163491</td>\n",
       "    </tr>\n",
       "    <tr>\n",
       "      <th>min</th>\n",
       "      <td>298.846212</td>\n",
       "      <td>335.997115</td>\n",
       "      <td>355.203227</td>\n",
       "      <td>412.977514</td>\n",
       "      <td>464.099504</td>\n",
       "      <td>502.319733</td>\n",
       "      <td>462.211415</td>\n",
       "      <td>389.876185</td>\n",
       "      <td>410.896824</td>\n",
       "      <td>312.188423</td>\n",
       "      <td>241.165877</td>\n",
       "      <td>277.551859</td>\n",
       "    </tr>\n",
       "    <tr>\n",
       "      <th>25%</th>\n",
       "      <td>534.990554</td>\n",
       "      <td>606.954355</td>\n",
       "      <td>673.329046</td>\n",
       "      <td>779.815648</td>\n",
       "      <td>815.919804</td>\n",
       "      <td>805.612125</td>\n",
       "      <td>828.656854</td>\n",
       "      <td>764.598759</td>\n",
       "      <td>743.908497</td>\n",
       "      <td>791.901966</td>\n",
       "      <td>780.577824</td>\n",
       "      <td>862.951537</td>\n",
       "    </tr>\n",
       "    <tr>\n",
       "      <th>50%</th>\n",
       "      <td>987.025569</td>\n",
       "      <td>1024.022987</td>\n",
       "      <td>1133.783677</td>\n",
       "      <td>1210.376379</td>\n",
       "      <td>1443.372508</td>\n",
       "      <td>1399.638836</td>\n",
       "      <td>1323.728306</td>\n",
       "      <td>1219.585563</td>\n",
       "      <td>1161.631357</td>\n",
       "      <td>1179.883114</td>\n",
       "      <td>1215.683217</td>\n",
       "      <td>1452.267078</td>\n",
       "    </tr>\n",
       "    <tr>\n",
       "      <th>75%</th>\n",
       "      <td>1454.886645</td>\n",
       "      <td>1573.040442</td>\n",
       "      <td>1702.219247</td>\n",
       "      <td>1890.112274</td>\n",
       "      <td>2292.258613</td>\n",
       "      <td>2841.282025</td>\n",
       "      <td>2787.582271</td>\n",
       "      <td>2786.310885</td>\n",
       "      <td>2707.896077</td>\n",
       "      <td>2856.386031</td>\n",
       "      <td>3314.887180</td>\n",
       "      <td>3993.501583</td>\n",
       "    </tr>\n",
       "    <tr>\n",
       "      <th>max</th>\n",
       "      <td>4725.295531</td>\n",
       "      <td>5487.104219</td>\n",
       "      <td>6757.030816</td>\n",
       "      <td>18772.751690</td>\n",
       "      <td>21011.497210</td>\n",
       "      <td>21951.211760</td>\n",
       "      <td>17364.275380</td>\n",
       "      <td>11864.408440</td>\n",
       "      <td>13522.157520</td>\n",
       "      <td>14722.841880</td>\n",
       "      <td>12521.713920</td>\n",
       "      <td>13206.484520</td>\n",
       "    </tr>\n",
       "  </tbody>\n",
       "</table>\n",
       "</div>"
      ],
      "text/plain": [
       "       gdpPercap_1952  gdpPercap_1957  gdpPercap_1962  gdpPercap_1967  \\\n",
       "count       52.000000       52.000000       52.000000       52.000000   \n",
       "mean      1252.572466     1385.236062     1598.078825     2050.363801   \n",
       "std        982.952116     1134.508918     1461.839189     2847.717603   \n",
       "min        298.846212      335.997115      355.203227      412.977514   \n",
       "25%        534.990554      606.954355      673.329046      779.815648   \n",
       "50%        987.025569     1024.022987     1133.783677     1210.376379   \n",
       "75%       1454.886645     1573.040442     1702.219247     1890.112274   \n",
       "max       4725.295531     5487.104219     6757.030816    18772.751690   \n",
       "\n",
       "       gdpPercap_1972  gdpPercap_1977  gdpPercap_1982  gdpPercap_1987  \\\n",
       "count       52.000000       52.000000       52.000000       52.000000   \n",
       "mean      2339.615674     2585.938508     2481.592960     2282.668991   \n",
       "std       3286.853884     4142.398707     3242.632753     2566.531947   \n",
       "min        464.099504      502.319733      462.211415      389.876185   \n",
       "25%        815.919804      805.612125      828.656854      764.598759   \n",
       "50%       1443.372508     1399.638836     1323.728306     1219.585563   \n",
       "75%       2292.258613     2841.282025     2787.582271     2786.310885   \n",
       "max      21011.497210    21951.211760    17364.275380    11864.408440   \n",
       "\n",
       "       gdpPercap_1992  gdpPercap_1997  gdpPercap_2002  gdpPercap_2007  \n",
       "count       52.000000       52.000000       52.000000       52.000000  \n",
       "mean      2281.810333     2378.759555     2599.385159     3089.032605  \n",
       "std       2644.075602     2820.728117     2972.651308     3618.163491  \n",
       "min        410.896824      312.188423      241.165877      277.551859  \n",
       "25%        743.908497      791.901966      780.577824      862.951537  \n",
       "50%       1161.631357     1179.883114     1215.683217     1452.267078  \n",
       "75%       2707.896077     2856.386031     3314.887180     3993.501583  \n",
       "max      13522.157520    14722.841880    12521.713920    13206.484520  "
      ]
     },
     "execution_count": 8,
     "metadata": {},
     "output_type": "execute_result"
    }
   ],
   "source": [
    "# description of the data\n",
    "gdp_africa.describe()"
   ]
  },
  {
   "cell_type": "markdown",
   "metadata": {},
   "source": [
    "iloc=index location"
   ]
  },
  {
   "cell_type": "code",
   "execution_count": 9,
   "metadata": {
    "collapsed": false
   },
   "outputs": [
    {
     "data": {
      "text/plain": [
       "2449.008185"
      ]
     },
     "execution_count": 9,
     "metadata": {},
     "output_type": "execute_result"
    }
   ],
   "source": [
    "# select values by numerical index\n",
    "gdp_africa.iloc[0,0]"
   ]
  },
  {
   "cell_type": "code",
   "execution_count": 12,
   "metadata": {
    "collapsed": false
   },
   "outputs": [
    {
     "data": {
      "text/plain": [
       "9269.657808"
      ]
     },
     "execution_count": 12,
     "metadata": {},
     "output_type": "execute_result"
    }
   ],
   "source": [
    "# select values by name\n",
    "gdp_africa.loc['South Africa','gdpPercap_2007']"
   ]
  },
  {
   "cell_type": "code",
   "execution_count": 49,
   "metadata": {
    "collapsed": false
   },
   "outputs": [
    {
     "data": {
      "text/plain": [
       "gdpPercap_1952    4725.295531\n",
       "gdpPercap_1957    5487.104219\n",
       "gdpPercap_1962    5768.729717\n",
       "gdpPercap_1967    7114.477971\n",
       "gdpPercap_1972    7765.962636\n",
       "gdpPercap_1977    8028.651439\n",
       "gdpPercap_1982    8568.266228\n",
       "gdpPercap_1987    7825.823398\n",
       "gdpPercap_1992    7225.069258\n",
       "gdpPercap_1997    7479.188244\n",
       "gdpPercap_2002    7710.946444\n",
       "gdpPercap_2007    9269.657808\n",
       "Name: South Africa, dtype: float64"
      ]
     },
     "execution_count": 49,
     "metadata": {},
     "output_type": "execute_result"
    }
   ],
   "source": [
    "# get all columns or all rows for a particular value\n",
    "gdp_africa.loc['South Africa',:]\n",
    "#gdp_africa.loc['South Africa',]"
   ]
  },
  {
   "cell_type": "code",
   "execution_count": 13,
   "metadata": {
    "collapsed": false
   },
   "outputs": [
    {
     "data": {
      "text/plain": [
       "country\n",
       "Algeria                     3013.976023\n",
       "Angola                      3827.940465\n",
       "Benin                        959.601080\n",
       "Botswana                     918.232535\n",
       "Burkina Faso                 617.183465\n",
       "Burundi                      379.564628\n",
       "Cameroon                    1313.048099\n",
       "Central African Republic    1190.844328\n",
       "Chad                        1308.495577\n",
       "Comoros                     1211.148548\n",
       "Congo Dem. Rep.              905.860230\n",
       "Congo Rep.                  2315.056572\n",
       "Cote d'Ivoire               1500.895925\n",
       "Djibouti                    2864.969076\n",
       "Egypt                       1458.915272\n",
       "Equatorial Guinea            426.096408\n",
       "Eritrea                      344.161886\n",
       "Ethiopia                     378.904163\n",
       "Gabon                       4976.198099\n",
       "Gambia                       520.926711\n",
       "Ghana                       1043.561537\n",
       "Guinea                       576.267025\n",
       "Guinea-Bissau                431.790457\n",
       "Kenya                        944.438315\n",
       "Lesotho                      335.997115\n",
       "Liberia                      620.969990\n",
       "Libya                       3448.284395\n",
       "Madagascar                  1589.202750\n",
       "Malawi                       416.369806\n",
       "Mali                         490.382187\n",
       "Mauritania                   846.120261\n",
       "Mauritius                   2034.037981\n",
       "Morocco                     1642.002314\n",
       "Mozambique                   495.586833\n",
       "Namibia                     2621.448058\n",
       "Niger                        835.523403\n",
       "Nigeria                     1100.592563\n",
       "Reunion                     2769.451844\n",
       "Rwanda                       540.289398\n",
       "Sao Tome and Principe        860.736903\n",
       "Senegal                     1567.653006\n",
       "Sierra Leone                1004.484437\n",
       "Somalia                     1258.147413\n",
       "South Africa                5487.104219\n",
       "Sudan                       1770.337074\n",
       "Swaziland                   1244.708364\n",
       "Tanzania                     698.535607\n",
       "Togo                         925.908320\n",
       "Tunisia                     1395.232468\n",
       "Uganda                       774.371069\n",
       "Zambia                      1311.956766\n",
       "Zimbabwe                     518.764268\n",
       "Name: gdpPercap_1957, dtype: float64"
      ]
     },
     "execution_count": 13,
     "metadata": {},
     "output_type": "execute_result"
    }
   ],
   "source": [
    "gdp_africa.loc[:,'gdpPercap_1957']"
   ]
  },
  {
   "cell_type": "markdown",
   "metadata": {},
   "source": [
    "Since it's a column, you can get the same result with"
   ]
  },
  {
   "cell_type": "code",
   "execution_count": 14,
   "metadata": {
    "collapsed": false
   },
   "outputs": [
    {
     "data": {
      "text/plain": [
       "country\n",
       "Algeria                     3013.976023\n",
       "Angola                      3827.940465\n",
       "Benin                        959.601080\n",
       "Botswana                     918.232535\n",
       "Burkina Faso                 617.183465\n",
       "Burundi                      379.564628\n",
       "Cameroon                    1313.048099\n",
       "Central African Republic    1190.844328\n",
       "Chad                        1308.495577\n",
       "Comoros                     1211.148548\n",
       "Congo Dem. Rep.              905.860230\n",
       "Congo Rep.                  2315.056572\n",
       "Cote d'Ivoire               1500.895925\n",
       "Djibouti                    2864.969076\n",
       "Egypt                       1458.915272\n",
       "Equatorial Guinea            426.096408\n",
       "Eritrea                      344.161886\n",
       "Ethiopia                     378.904163\n",
       "Gabon                       4976.198099\n",
       "Gambia                       520.926711\n",
       "Ghana                       1043.561537\n",
       "Guinea                       576.267025\n",
       "Guinea-Bissau                431.790457\n",
       "Kenya                        944.438315\n",
       "Lesotho                      335.997115\n",
       "Liberia                      620.969990\n",
       "Libya                       3448.284395\n",
       "Madagascar                  1589.202750\n",
       "Malawi                       416.369806\n",
       "Mali                         490.382187\n",
       "Mauritania                   846.120261\n",
       "Mauritius                   2034.037981\n",
       "Morocco                     1642.002314\n",
       "Mozambique                   495.586833\n",
       "Namibia                     2621.448058\n",
       "Niger                        835.523403\n",
       "Nigeria                     1100.592563\n",
       "Reunion                     2769.451844\n",
       "Rwanda                       540.289398\n",
       "Sao Tome and Principe        860.736903\n",
       "Senegal                     1567.653006\n",
       "Sierra Leone                1004.484437\n",
       "Somalia                     1258.147413\n",
       "South Africa                5487.104219\n",
       "Sudan                       1770.337074\n",
       "Swaziland                   1244.708364\n",
       "Tanzania                     698.535607\n",
       "Togo                         925.908320\n",
       "Tunisia                     1395.232468\n",
       "Uganda                       774.371069\n",
       "Zambia                      1311.956766\n",
       "Zimbabwe                     518.764268\n",
       "Name: gdpPercap_1957, dtype: float64"
      ]
     },
     "execution_count": 14,
     "metadata": {},
     "output_type": "execute_result"
    }
   ],
   "source": [
    "gdp_africa.gdpPercap_1957"
   ]
  },
  {
   "cell_type": "code",
   "execution_count": 15,
   "metadata": {
    "collapsed": false
   },
   "outputs": [
    {
     "data": {
      "text/html": [
       "<div>\n",
       "<style scoped>\n",
       "    .dataframe tbody tr th:only-of-type {\n",
       "        vertical-align: middle;\n",
       "    }\n",
       "\n",
       "    .dataframe tbody tr th {\n",
       "        vertical-align: top;\n",
       "    }\n",
       "\n",
       "    .dataframe thead th {\n",
       "        text-align: right;\n",
       "    }\n",
       "</style>\n",
       "<table border=\"1\" class=\"dataframe\">\n",
       "  <thead>\n",
       "    <tr style=\"text-align: right;\">\n",
       "      <th></th>\n",
       "      <th>gdpPercap_1997</th>\n",
       "      <th>gdpPercap_2002</th>\n",
       "    </tr>\n",
       "    <tr>\n",
       "      <th>country</th>\n",
       "      <th></th>\n",
       "      <th></th>\n",
       "    </tr>\n",
       "  </thead>\n",
       "  <tbody>\n",
       "    <tr>\n",
       "      <th>Algeria</th>\n",
       "      <td>4797.295051</td>\n",
       "      <td>5288.040382</td>\n",
       "    </tr>\n",
       "    <tr>\n",
       "      <th>Angola</th>\n",
       "      <td>2277.140884</td>\n",
       "      <td>2773.287312</td>\n",
       "    </tr>\n",
       "    <tr>\n",
       "      <th>Benin</th>\n",
       "      <td>1232.975292</td>\n",
       "      <td>1372.877931</td>\n",
       "    </tr>\n",
       "    <tr>\n",
       "      <th>Botswana</th>\n",
       "      <td>8647.142313</td>\n",
       "      <td>11003.605080</td>\n",
       "    </tr>\n",
       "    <tr>\n",
       "      <th>Burkina Faso</th>\n",
       "      <td>946.294962</td>\n",
       "      <td>1037.645221</td>\n",
       "    </tr>\n",
       "    <tr>\n",
       "      <th>Burundi</th>\n",
       "      <td>463.115148</td>\n",
       "      <td>446.403513</td>\n",
       "    </tr>\n",
       "    <tr>\n",
       "      <th>Cameroon</th>\n",
       "      <td>1694.337469</td>\n",
       "      <td>1934.011449</td>\n",
       "    </tr>\n",
       "    <tr>\n",
       "      <th>Central African Republic</th>\n",
       "      <td>740.506332</td>\n",
       "      <td>738.690607</td>\n",
       "    </tr>\n",
       "    <tr>\n",
       "      <th>Chad</th>\n",
       "      <td>1004.961353</td>\n",
       "      <td>1156.181860</td>\n",
       "    </tr>\n",
       "    <tr>\n",
       "      <th>Comoros</th>\n",
       "      <td>1173.618235</td>\n",
       "      <td>1075.811558</td>\n",
       "    </tr>\n",
       "    <tr>\n",
       "      <th>Congo Dem. Rep.</th>\n",
       "      <td>312.188423</td>\n",
       "      <td>241.165877</td>\n",
       "    </tr>\n",
       "    <tr>\n",
       "      <th>Congo Rep.</th>\n",
       "      <td>3484.164376</td>\n",
       "      <td>3484.061970</td>\n",
       "    </tr>\n",
       "    <tr>\n",
       "      <th>Cote d'Ivoire</th>\n",
       "      <td>1786.265407</td>\n",
       "      <td>1648.800823</td>\n",
       "    </tr>\n",
       "    <tr>\n",
       "      <th>Djibouti</th>\n",
       "      <td>1895.016984</td>\n",
       "      <td>1908.260867</td>\n",
       "    </tr>\n",
       "    <tr>\n",
       "      <th>Egypt</th>\n",
       "      <td>4173.181797</td>\n",
       "      <td>4754.604414</td>\n",
       "    </tr>\n",
       "    <tr>\n",
       "      <th>Equatorial Guinea</th>\n",
       "      <td>2814.480755</td>\n",
       "      <td>7703.495900</td>\n",
       "    </tr>\n",
       "    <tr>\n",
       "      <th>Eritrea</th>\n",
       "      <td>913.470790</td>\n",
       "      <td>765.350001</td>\n",
       "    </tr>\n",
       "    <tr>\n",
       "      <th>Ethiopia</th>\n",
       "      <td>515.889401</td>\n",
       "      <td>530.053532</td>\n",
       "    </tr>\n",
       "    <tr>\n",
       "      <th>Gabon</th>\n",
       "      <td>14722.841880</td>\n",
       "      <td>12521.713920</td>\n",
       "    </tr>\n",
       "    <tr>\n",
       "      <th>Gambia</th>\n",
       "      <td>653.730170</td>\n",
       "      <td>660.585600</td>\n",
       "    </tr>\n",
       "    <tr>\n",
       "      <th>Ghana</th>\n",
       "      <td>1005.245812</td>\n",
       "      <td>1111.984578</td>\n",
       "    </tr>\n",
       "    <tr>\n",
       "      <th>Guinea</th>\n",
       "      <td>869.449767</td>\n",
       "      <td>945.583584</td>\n",
       "    </tr>\n",
       "    <tr>\n",
       "      <th>Guinea-Bissau</th>\n",
       "      <td>796.664468</td>\n",
       "      <td>575.704718</td>\n",
       "    </tr>\n",
       "    <tr>\n",
       "      <th>Kenya</th>\n",
       "      <td>1360.485021</td>\n",
       "      <td>1287.514732</td>\n",
       "    </tr>\n",
       "    <tr>\n",
       "      <th>Lesotho</th>\n",
       "      <td>1186.147994</td>\n",
       "      <td>1275.184575</td>\n",
       "    </tr>\n",
       "    <tr>\n",
       "      <th>Liberia</th>\n",
       "      <td>609.173951</td>\n",
       "      <td>531.482368</td>\n",
       "    </tr>\n",
       "    <tr>\n",
       "      <th>Libya</th>\n",
       "      <td>9467.446056</td>\n",
       "      <td>9534.677467</td>\n",
       "    </tr>\n",
       "    <tr>\n",
       "      <th>Madagascar</th>\n",
       "      <td>986.295896</td>\n",
       "      <td>894.637082</td>\n",
       "    </tr>\n",
       "    <tr>\n",
       "      <th>Malawi</th>\n",
       "      <td>692.275810</td>\n",
       "      <td>665.423119</td>\n",
       "    </tr>\n",
       "    <tr>\n",
       "      <th>Mali</th>\n",
       "      <td>790.257985</td>\n",
       "      <td>951.409752</td>\n",
       "    </tr>\n",
       "    <tr>\n",
       "      <th>Mauritania</th>\n",
       "      <td>1483.136136</td>\n",
       "      <td>1579.019543</td>\n",
       "    </tr>\n",
       "    <tr>\n",
       "      <th>Mauritius</th>\n",
       "      <td>7425.705295</td>\n",
       "      <td>9021.815894</td>\n",
       "    </tr>\n",
       "    <tr>\n",
       "      <th>Morocco</th>\n",
       "      <td>2982.101858</td>\n",
       "      <td>3258.495584</td>\n",
       "    </tr>\n",
       "    <tr>\n",
       "      <th>Mozambique</th>\n",
       "      <td>472.346077</td>\n",
       "      <td>633.617947</td>\n",
       "    </tr>\n",
       "    <tr>\n",
       "      <th>Namibia</th>\n",
       "      <td>3899.524260</td>\n",
       "      <td>4072.324751</td>\n",
       "    </tr>\n",
       "    <tr>\n",
       "      <th>Niger</th>\n",
       "      <td>580.305209</td>\n",
       "      <td>601.074501</td>\n",
       "    </tr>\n",
       "    <tr>\n",
       "      <th>Nigeria</th>\n",
       "      <td>1624.941275</td>\n",
       "      <td>1615.286395</td>\n",
       "    </tr>\n",
       "    <tr>\n",
       "      <th>Reunion</th>\n",
       "      <td>6071.941411</td>\n",
       "      <td>6316.165200</td>\n",
       "    </tr>\n",
       "    <tr>\n",
       "      <th>Rwanda</th>\n",
       "      <td>589.944505</td>\n",
       "      <td>785.653765</td>\n",
       "    </tr>\n",
       "    <tr>\n",
       "      <th>Sao Tome and Principe</th>\n",
       "      <td>1339.076036</td>\n",
       "      <td>1353.092390</td>\n",
       "    </tr>\n",
       "    <tr>\n",
       "      <th>Senegal</th>\n",
       "      <td>1392.368347</td>\n",
       "      <td>1519.635262</td>\n",
       "    </tr>\n",
       "    <tr>\n",
       "      <th>Sierra Leone</th>\n",
       "      <td>574.648158</td>\n",
       "      <td>699.489713</td>\n",
       "    </tr>\n",
       "    <tr>\n",
       "      <th>Somalia</th>\n",
       "      <td>930.596428</td>\n",
       "      <td>882.081822</td>\n",
       "    </tr>\n",
       "    <tr>\n",
       "      <th>South Africa</th>\n",
       "      <td>7479.188244</td>\n",
       "      <td>7710.946444</td>\n",
       "    </tr>\n",
       "    <tr>\n",
       "      <th>Sudan</th>\n",
       "      <td>1632.210764</td>\n",
       "      <td>1993.398314</td>\n",
       "    </tr>\n",
       "  </tbody>\n",
       "</table>\n",
       "</div>"
      ],
      "text/plain": [
       "                          gdpPercap_1997  gdpPercap_2002\n",
       "country                                                 \n",
       "Algeria                      4797.295051     5288.040382\n",
       "Angola                       2277.140884     2773.287312\n",
       "Benin                        1232.975292     1372.877931\n",
       "Botswana                     8647.142313    11003.605080\n",
       "Burkina Faso                  946.294962     1037.645221\n",
       "Burundi                       463.115148      446.403513\n",
       "Cameroon                     1694.337469     1934.011449\n",
       "Central African Republic      740.506332      738.690607\n",
       "Chad                         1004.961353     1156.181860\n",
       "Comoros                      1173.618235     1075.811558\n",
       "Congo Dem. Rep.               312.188423      241.165877\n",
       "Congo Rep.                   3484.164376     3484.061970\n",
       "Cote d'Ivoire                1786.265407     1648.800823\n",
       "Djibouti                     1895.016984     1908.260867\n",
       "Egypt                        4173.181797     4754.604414\n",
       "Equatorial Guinea            2814.480755     7703.495900\n",
       "Eritrea                       913.470790      765.350001\n",
       "Ethiopia                      515.889401      530.053532\n",
       "Gabon                       14722.841880    12521.713920\n",
       "Gambia                        653.730170      660.585600\n",
       "Ghana                        1005.245812     1111.984578\n",
       "Guinea                        869.449767      945.583584\n",
       "Guinea-Bissau                 796.664468      575.704718\n",
       "Kenya                        1360.485021     1287.514732\n",
       "Lesotho                      1186.147994     1275.184575\n",
       "Liberia                       609.173951      531.482368\n",
       "Libya                        9467.446056     9534.677467\n",
       "Madagascar                    986.295896      894.637082\n",
       "Malawi                        692.275810      665.423119\n",
       "Mali                          790.257985      951.409752\n",
       "Mauritania                   1483.136136     1579.019543\n",
       "Mauritius                    7425.705295     9021.815894\n",
       "Morocco                      2982.101858     3258.495584\n",
       "Mozambique                    472.346077      633.617947\n",
       "Namibia                      3899.524260     4072.324751\n",
       "Niger                         580.305209      601.074501\n",
       "Nigeria                      1624.941275     1615.286395\n",
       "Reunion                      6071.941411     6316.165200\n",
       "Rwanda                        589.944505      785.653765\n",
       "Sao Tome and Principe        1339.076036     1353.092390\n",
       "Senegal                      1392.368347     1519.635262\n",
       "Sierra Leone                  574.648158      699.489713\n",
       "Somalia                       930.596428      882.081822\n",
       "South Africa                 7479.188244     7710.946444\n",
       "Sudan                        1632.210764     1993.398314"
      ]
     },
     "execution_count": 15,
     "metadata": {},
     "output_type": "execute_result"
    }
   ],
   "source": [
    "gdp_africa.loc[:'Sudan','gdpPercap_1997':'gdpPercap_2002']"
   ]
  },
  {
   "cell_type": "markdown",
   "metadata": {},
   "source": [
    "Select multiple columns or rows using **DataFrame.loc** and a named slice"
   ]
  },
  {
   "cell_type": "code",
   "execution_count": null,
   "metadata": {
    "collapsed": false
   },
   "outputs": [],
   "source": []
  },
  {
   "cell_type": "markdown",
   "metadata": {},
   "source": [
    "**Question:** Get the above result but with **DataFrame.iloc**"
   ]
  },
  {
   "cell_type": "code",
   "execution_count": null,
   "metadata": {
    "collapsed": true
   },
   "outputs": [],
   "source": [
    "#your answer"
   ]
  },
  {
   "cell_type": "code",
   "execution_count": null,
   "metadata": {
    "collapsed": false
   },
   "outputs": [],
   "source": []
  },
  {
   "cell_type": "code",
   "execution_count": 16,
   "metadata": {
    "collapsed": false
   },
   "outputs": [
    {
     "data": {
      "text/plain": [
       "gdpPercap_1952    South Africa\n",
       "gdpPercap_1957    South Africa\n",
       "gdpPercap_1962           Libya\n",
       "gdpPercap_1967           Libya\n",
       "gdpPercap_1972           Libya\n",
       "gdpPercap_1977           Libya\n",
       "gdpPercap_1982           Libya\n",
       "gdpPercap_1987           Gabon\n",
       "gdpPercap_1992           Gabon\n",
       "gdpPercap_1997           Gabon\n",
       "gdpPercap_2002           Gabon\n",
       "gdpPercap_2007           Gabon\n",
       "dtype: object"
      ]
     },
     "execution_count": 16,
     "metadata": {},
     "output_type": "execute_result"
    }
   ],
   "source": [
    "gdp_africa.idxmax()"
   ]
  },
  {
   "cell_type": "markdown",
   "metadata": {},
   "source": [
    "Select data based on value (comparison)"
   ]
  },
  {
   "cell_type": "code",
   "execution_count": null,
   "metadata": {
    "collapsed": false
   },
   "outputs": [],
   "source": []
  },
  {
   "cell_type": "code",
   "execution_count": null,
   "metadata": {
    "collapsed": false,
    "scrolled": true
   },
   "outputs": [],
   "source": []
  },
  {
   "cell_type": "markdown",
   "metadata": {},
   "source": [
    "### Filtering"
   ]
  },
  {
   "cell_type": "code",
   "execution_count": 1,
   "metadata": {
    "collapsed": false
   },
   "outputs": [
    {
     "ename": "NameError",
     "evalue": "name 'gdp_africa' is not defined",
     "output_type": "error",
     "traceback": [
      "\u001b[0;31m---------------------------------------------------------------------------\u001b[0m",
      "\u001b[0;31mNameError\u001b[0m                                 Traceback (most recent call last)",
      "\u001b[0;32m<ipython-input-1-ed6f7f905b07>\u001b[0m in \u001b[0;36m<module>\u001b[0;34m()\u001b[0m\n\u001b[1;32m      1\u001b[0m \u001b[0;31m# get GDP from Angola to Egypt for years in 1962 to 1972\u001b[0m\u001b[0;34m\u001b[0m\u001b[0;34m\u001b[0m\u001b[0m\n\u001b[0;32m----> 2\u001b[0;31m \u001b[0msubset\u001b[0m\u001b[0;34m=\u001b[0m\u001b[0mgdp_africa\u001b[0m\u001b[0;34m.\u001b[0m\u001b[0mloc\u001b[0m\u001b[0;34m[\u001b[0m\u001b[0;34m:\u001b[0m\u001b[0;34m,\u001b[0m\u001b[0;34m'gdpPercap_1997'\u001b[0m\u001b[0;34m:\u001b[0m\u001b[0;34m'gdpPercap_2002'\u001b[0m\u001b[0;34m]\u001b[0m\u001b[0;34m\u001b[0m\u001b[0m\n\u001b[0m",
      "\u001b[0;31mNameError\u001b[0m: name 'gdp_africa' is not defined"
     ]
    }
   ],
   "source": [
    "# get GDP from Angola to Egypt for years in 1962 to 1972\n",
    "subset=gdp_africa.loc[:,'gdpPercap_1997':'gdpPercap_2002']"
   ]
  },
  {
   "cell_type": "code",
   "execution_count": 58,
   "metadata": {
    "collapsed": false
   },
   "outputs": [
    {
     "data": {
      "text/html": [
       "<div>\n",
       "<style scoped>\n",
       "    .dataframe tbody tr th:only-of-type {\n",
       "        vertical-align: middle;\n",
       "    }\n",
       "\n",
       "    .dataframe tbody tr th {\n",
       "        vertical-align: top;\n",
       "    }\n",
       "\n",
       "    .dataframe thead th {\n",
       "        text-align: right;\n",
       "    }\n",
       "</style>\n",
       "<table border=\"1\" class=\"dataframe\">\n",
       "  <thead>\n",
       "    <tr style=\"text-align: right;\">\n",
       "      <th></th>\n",
       "      <th>gdpPercap_1997</th>\n",
       "      <th>gdpPercap_2002</th>\n",
       "    </tr>\n",
       "    <tr>\n",
       "      <th>country</th>\n",
       "      <th></th>\n",
       "      <th></th>\n",
       "    </tr>\n",
       "  </thead>\n",
       "  <tbody>\n",
       "    <tr>\n",
       "      <th>Angola</th>\n",
       "      <td>True</td>\n",
       "      <td>True</td>\n",
       "    </tr>\n",
       "    <tr>\n",
       "      <th>Benin</th>\n",
       "      <td>False</td>\n",
       "      <td>False</td>\n",
       "    </tr>\n",
       "    <tr>\n",
       "      <th>Botswana</th>\n",
       "      <td>True</td>\n",
       "      <td>True</td>\n",
       "    </tr>\n",
       "    <tr>\n",
       "      <th>Burkina Faso</th>\n",
       "      <td>False</td>\n",
       "      <td>False</td>\n",
       "    </tr>\n",
       "    <tr>\n",
       "      <th>Burundi</th>\n",
       "      <td>False</td>\n",
       "      <td>False</td>\n",
       "    </tr>\n",
       "    <tr>\n",
       "      <th>Cameroon</th>\n",
       "      <td>False</td>\n",
       "      <td>False</td>\n",
       "    </tr>\n",
       "    <tr>\n",
       "      <th>Central African Republic</th>\n",
       "      <td>False</td>\n",
       "      <td>False</td>\n",
       "    </tr>\n",
       "    <tr>\n",
       "      <th>Chad</th>\n",
       "      <td>False</td>\n",
       "      <td>False</td>\n",
       "    </tr>\n",
       "    <tr>\n",
       "      <th>Comoros</th>\n",
       "      <td>False</td>\n",
       "      <td>False</td>\n",
       "    </tr>\n",
       "    <tr>\n",
       "      <th>Congo Dem. Rep.</th>\n",
       "      <td>False</td>\n",
       "      <td>False</td>\n",
       "    </tr>\n",
       "    <tr>\n",
       "      <th>Congo Rep.</th>\n",
       "      <td>True</td>\n",
       "      <td>True</td>\n",
       "    </tr>\n",
       "    <tr>\n",
       "      <th>Cote d'Ivoire</th>\n",
       "      <td>False</td>\n",
       "      <td>False</td>\n",
       "    </tr>\n",
       "    <tr>\n",
       "      <th>Djibouti</th>\n",
       "      <td>False</td>\n",
       "      <td>False</td>\n",
       "    </tr>\n",
       "    <tr>\n",
       "      <th>Egypt</th>\n",
       "      <td>True</td>\n",
       "      <td>True</td>\n",
       "    </tr>\n",
       "    <tr>\n",
       "      <th>Equatorial Guinea</th>\n",
       "      <td>True</td>\n",
       "      <td>True</td>\n",
       "    </tr>\n",
       "    <tr>\n",
       "      <th>Eritrea</th>\n",
       "      <td>False</td>\n",
       "      <td>False</td>\n",
       "    </tr>\n",
       "    <tr>\n",
       "      <th>Ethiopia</th>\n",
       "      <td>False</td>\n",
       "      <td>False</td>\n",
       "    </tr>\n",
       "    <tr>\n",
       "      <th>Gabon</th>\n",
       "      <td>True</td>\n",
       "      <td>True</td>\n",
       "    </tr>\n",
       "    <tr>\n",
       "      <th>Gambia</th>\n",
       "      <td>False</td>\n",
       "      <td>False</td>\n",
       "    </tr>\n",
       "    <tr>\n",
       "      <th>Ghana</th>\n",
       "      <td>False</td>\n",
       "      <td>False</td>\n",
       "    </tr>\n",
       "    <tr>\n",
       "      <th>Guinea</th>\n",
       "      <td>False</td>\n",
       "      <td>False</td>\n",
       "    </tr>\n",
       "    <tr>\n",
       "      <th>Guinea-Bissau</th>\n",
       "      <td>False</td>\n",
       "      <td>False</td>\n",
       "    </tr>\n",
       "    <tr>\n",
       "      <th>Kenya</th>\n",
       "      <td>False</td>\n",
       "      <td>False</td>\n",
       "    </tr>\n",
       "    <tr>\n",
       "      <th>Lesotho</th>\n",
       "      <td>False</td>\n",
       "      <td>False</td>\n",
       "    </tr>\n",
       "    <tr>\n",
       "      <th>Liberia</th>\n",
       "      <td>False</td>\n",
       "      <td>False</td>\n",
       "    </tr>\n",
       "    <tr>\n",
       "      <th>Libya</th>\n",
       "      <td>True</td>\n",
       "      <td>True</td>\n",
       "    </tr>\n",
       "    <tr>\n",
       "      <th>Madagascar</th>\n",
       "      <td>False</td>\n",
       "      <td>False</td>\n",
       "    </tr>\n",
       "    <tr>\n",
       "      <th>Malawi</th>\n",
       "      <td>False</td>\n",
       "      <td>False</td>\n",
       "    </tr>\n",
       "    <tr>\n",
       "      <th>Mali</th>\n",
       "      <td>False</td>\n",
       "      <td>False</td>\n",
       "    </tr>\n",
       "    <tr>\n",
       "      <th>Mauritania</th>\n",
       "      <td>False</td>\n",
       "      <td>False</td>\n",
       "    </tr>\n",
       "    <tr>\n",
       "      <th>Mauritius</th>\n",
       "      <td>True</td>\n",
       "      <td>True</td>\n",
       "    </tr>\n",
       "    <tr>\n",
       "      <th>Morocco</th>\n",
       "      <td>True</td>\n",
       "      <td>True</td>\n",
       "    </tr>\n",
       "    <tr>\n",
       "      <th>Mozambique</th>\n",
       "      <td>False</td>\n",
       "      <td>False</td>\n",
       "    </tr>\n",
       "    <tr>\n",
       "      <th>Namibia</th>\n",
       "      <td>True</td>\n",
       "      <td>True</td>\n",
       "    </tr>\n",
       "    <tr>\n",
       "      <th>Niger</th>\n",
       "      <td>False</td>\n",
       "      <td>False</td>\n",
       "    </tr>\n",
       "    <tr>\n",
       "      <th>Nigeria</th>\n",
       "      <td>False</td>\n",
       "      <td>False</td>\n",
       "    </tr>\n",
       "    <tr>\n",
       "      <th>Reunion</th>\n",
       "      <td>True</td>\n",
       "      <td>True</td>\n",
       "    </tr>\n",
       "    <tr>\n",
       "      <th>Rwanda</th>\n",
       "      <td>False</td>\n",
       "      <td>False</td>\n",
       "    </tr>\n",
       "    <tr>\n",
       "      <th>Sao Tome and Principe</th>\n",
       "      <td>False</td>\n",
       "      <td>False</td>\n",
       "    </tr>\n",
       "    <tr>\n",
       "      <th>Senegal</th>\n",
       "      <td>False</td>\n",
       "      <td>False</td>\n",
       "    </tr>\n",
       "    <tr>\n",
       "      <th>Sierra Leone</th>\n",
       "      <td>False</td>\n",
       "      <td>False</td>\n",
       "    </tr>\n",
       "    <tr>\n",
       "      <th>Somalia</th>\n",
       "      <td>False</td>\n",
       "      <td>False</td>\n",
       "    </tr>\n",
       "    <tr>\n",
       "      <th>South Africa</th>\n",
       "      <td>True</td>\n",
       "      <td>True</td>\n",
       "    </tr>\n",
       "    <tr>\n",
       "      <th>Sudan</th>\n",
       "      <td>False</td>\n",
       "      <td>False</td>\n",
       "    </tr>\n",
       "  </tbody>\n",
       "</table>\n",
       "</div>"
      ],
      "text/plain": [
       "                          gdpPercap_1997  gdpPercap_2002\n",
       "country                                                 \n",
       "Angola                              True            True\n",
       "Benin                              False           False\n",
       "Botswana                            True            True\n",
       "Burkina Faso                       False           False\n",
       "Burundi                            False           False\n",
       "Cameroon                           False           False\n",
       "Central African Republic           False           False\n",
       "Chad                               False           False\n",
       "Comoros                            False           False\n",
       "Congo Dem. Rep.                    False           False\n",
       "Congo Rep.                          True            True\n",
       "Cote d'Ivoire                      False           False\n",
       "Djibouti                           False           False\n",
       "Egypt                               True            True\n",
       "Equatorial Guinea                   True            True\n",
       "Eritrea                            False           False\n",
       "Ethiopia                           False           False\n",
       "Gabon                               True            True\n",
       "Gambia                             False           False\n",
       "Ghana                              False           False\n",
       "Guinea                             False           False\n",
       "Guinea-Bissau                      False           False\n",
       "Kenya                              False           False\n",
       "Lesotho                            False           False\n",
       "Liberia                            False           False\n",
       "Libya                               True            True\n",
       "Madagascar                         False           False\n",
       "Malawi                             False           False\n",
       "Mali                               False           False\n",
       "Mauritania                         False           False\n",
       "Mauritius                           True            True\n",
       "Morocco                             True            True\n",
       "Mozambique                         False           False\n",
       "Namibia                             True            True\n",
       "Niger                              False           False\n",
       "Nigeria                            False           False\n",
       "Reunion                             True            True\n",
       "Rwanda                             False           False\n",
       "Sao Tome and Principe              False           False\n",
       "Senegal                            False           False\n",
       "Sierra Leone                       False           False\n",
       "Somalia                            False           False\n",
       "South Africa                        True            True\n",
       "Sudan                              False           False"
      ]
     },
     "execution_count": 58,
     "metadata": {},
     "output_type": "execute_result"
    }
   ],
   "source": [
    "# Which values are greater than 2000?\n",
    "subset>2000"
   ]
  },
  {
   "cell_type": "code",
   "execution_count": 62,
   "metadata": {
    "collapsed": false
   },
   "outputs": [
    {
     "data": {
      "text/html": [
       "<div>\n",
       "<style scoped>\n",
       "    .dataframe tbody tr th:only-of-type {\n",
       "        vertical-align: middle;\n",
       "    }\n",
       "\n",
       "    .dataframe tbody tr th {\n",
       "        vertical-align: top;\n",
       "    }\n",
       "\n",
       "    .dataframe thead th {\n",
       "        text-align: right;\n",
       "    }\n",
       "</style>\n",
       "<table border=\"1\" class=\"dataframe\">\n",
       "  <thead>\n",
       "    <tr style=\"text-align: right;\">\n",
       "      <th></th>\n",
       "      <th>gdpPercap_1997</th>\n",
       "      <th>gdpPercap_2002</th>\n",
       "    </tr>\n",
       "    <tr>\n",
       "      <th>country</th>\n",
       "      <th></th>\n",
       "      <th></th>\n",
       "    </tr>\n",
       "  </thead>\n",
       "  <tbody>\n",
       "    <tr>\n",
       "      <th>Angola</th>\n",
       "      <td>2277.140884</td>\n",
       "      <td>2773.287312</td>\n",
       "    </tr>\n",
       "    <tr>\n",
       "      <th>Benin</th>\n",
       "      <td>NaN</td>\n",
       "      <td>NaN</td>\n",
       "    </tr>\n",
       "    <tr>\n",
       "      <th>Botswana</th>\n",
       "      <td>8647.142313</td>\n",
       "      <td>11003.605080</td>\n",
       "    </tr>\n",
       "    <tr>\n",
       "      <th>Burkina Faso</th>\n",
       "      <td>NaN</td>\n",
       "      <td>NaN</td>\n",
       "    </tr>\n",
       "    <tr>\n",
       "      <th>Burundi</th>\n",
       "      <td>NaN</td>\n",
       "      <td>NaN</td>\n",
       "    </tr>\n",
       "    <tr>\n",
       "      <th>Cameroon</th>\n",
       "      <td>NaN</td>\n",
       "      <td>NaN</td>\n",
       "    </tr>\n",
       "    <tr>\n",
       "      <th>Central African Republic</th>\n",
       "      <td>NaN</td>\n",
       "      <td>NaN</td>\n",
       "    </tr>\n",
       "    <tr>\n",
       "      <th>Chad</th>\n",
       "      <td>NaN</td>\n",
       "      <td>NaN</td>\n",
       "    </tr>\n",
       "    <tr>\n",
       "      <th>Comoros</th>\n",
       "      <td>NaN</td>\n",
       "      <td>NaN</td>\n",
       "    </tr>\n",
       "    <tr>\n",
       "      <th>Congo Dem. Rep.</th>\n",
       "      <td>NaN</td>\n",
       "      <td>NaN</td>\n",
       "    </tr>\n",
       "    <tr>\n",
       "      <th>Congo Rep.</th>\n",
       "      <td>3484.164376</td>\n",
       "      <td>3484.061970</td>\n",
       "    </tr>\n",
       "    <tr>\n",
       "      <th>Cote d'Ivoire</th>\n",
       "      <td>NaN</td>\n",
       "      <td>NaN</td>\n",
       "    </tr>\n",
       "    <tr>\n",
       "      <th>Djibouti</th>\n",
       "      <td>NaN</td>\n",
       "      <td>NaN</td>\n",
       "    </tr>\n",
       "    <tr>\n",
       "      <th>Egypt</th>\n",
       "      <td>4173.181797</td>\n",
       "      <td>4754.604414</td>\n",
       "    </tr>\n",
       "    <tr>\n",
       "      <th>Equatorial Guinea</th>\n",
       "      <td>2814.480755</td>\n",
       "      <td>7703.495900</td>\n",
       "    </tr>\n",
       "    <tr>\n",
       "      <th>Eritrea</th>\n",
       "      <td>NaN</td>\n",
       "      <td>NaN</td>\n",
       "    </tr>\n",
       "    <tr>\n",
       "      <th>Ethiopia</th>\n",
       "      <td>NaN</td>\n",
       "      <td>NaN</td>\n",
       "    </tr>\n",
       "    <tr>\n",
       "      <th>Gabon</th>\n",
       "      <td>14722.841880</td>\n",
       "      <td>12521.713920</td>\n",
       "    </tr>\n",
       "    <tr>\n",
       "      <th>Gambia</th>\n",
       "      <td>NaN</td>\n",
       "      <td>NaN</td>\n",
       "    </tr>\n",
       "    <tr>\n",
       "      <th>Ghana</th>\n",
       "      <td>NaN</td>\n",
       "      <td>NaN</td>\n",
       "    </tr>\n",
       "    <tr>\n",
       "      <th>Guinea</th>\n",
       "      <td>NaN</td>\n",
       "      <td>NaN</td>\n",
       "    </tr>\n",
       "    <tr>\n",
       "      <th>Guinea-Bissau</th>\n",
       "      <td>NaN</td>\n",
       "      <td>NaN</td>\n",
       "    </tr>\n",
       "    <tr>\n",
       "      <th>Kenya</th>\n",
       "      <td>NaN</td>\n",
       "      <td>NaN</td>\n",
       "    </tr>\n",
       "    <tr>\n",
       "      <th>Lesotho</th>\n",
       "      <td>NaN</td>\n",
       "      <td>NaN</td>\n",
       "    </tr>\n",
       "    <tr>\n",
       "      <th>Liberia</th>\n",
       "      <td>NaN</td>\n",
       "      <td>NaN</td>\n",
       "    </tr>\n",
       "    <tr>\n",
       "      <th>Libya</th>\n",
       "      <td>9467.446056</td>\n",
       "      <td>9534.677467</td>\n",
       "    </tr>\n",
       "    <tr>\n",
       "      <th>Madagascar</th>\n",
       "      <td>NaN</td>\n",
       "      <td>NaN</td>\n",
       "    </tr>\n",
       "    <tr>\n",
       "      <th>Malawi</th>\n",
       "      <td>NaN</td>\n",
       "      <td>NaN</td>\n",
       "    </tr>\n",
       "    <tr>\n",
       "      <th>Mali</th>\n",
       "      <td>NaN</td>\n",
       "      <td>NaN</td>\n",
       "    </tr>\n",
       "    <tr>\n",
       "      <th>Mauritania</th>\n",
       "      <td>NaN</td>\n",
       "      <td>NaN</td>\n",
       "    </tr>\n",
       "    <tr>\n",
       "      <th>Mauritius</th>\n",
       "      <td>7425.705295</td>\n",
       "      <td>9021.815894</td>\n",
       "    </tr>\n",
       "    <tr>\n",
       "      <th>Morocco</th>\n",
       "      <td>2982.101858</td>\n",
       "      <td>3258.495584</td>\n",
       "    </tr>\n",
       "    <tr>\n",
       "      <th>Mozambique</th>\n",
       "      <td>NaN</td>\n",
       "      <td>NaN</td>\n",
       "    </tr>\n",
       "    <tr>\n",
       "      <th>Namibia</th>\n",
       "      <td>3899.524260</td>\n",
       "      <td>4072.324751</td>\n",
       "    </tr>\n",
       "    <tr>\n",
       "      <th>Niger</th>\n",
       "      <td>NaN</td>\n",
       "      <td>NaN</td>\n",
       "    </tr>\n",
       "    <tr>\n",
       "      <th>Nigeria</th>\n",
       "      <td>NaN</td>\n",
       "      <td>NaN</td>\n",
       "    </tr>\n",
       "    <tr>\n",
       "      <th>Reunion</th>\n",
       "      <td>6071.941411</td>\n",
       "      <td>6316.165200</td>\n",
       "    </tr>\n",
       "    <tr>\n",
       "      <th>Rwanda</th>\n",
       "      <td>NaN</td>\n",
       "      <td>NaN</td>\n",
       "    </tr>\n",
       "    <tr>\n",
       "      <th>Sao Tome and Principe</th>\n",
       "      <td>NaN</td>\n",
       "      <td>NaN</td>\n",
       "    </tr>\n",
       "    <tr>\n",
       "      <th>Senegal</th>\n",
       "      <td>NaN</td>\n",
       "      <td>NaN</td>\n",
       "    </tr>\n",
       "    <tr>\n",
       "      <th>Sierra Leone</th>\n",
       "      <td>NaN</td>\n",
       "      <td>NaN</td>\n",
       "    </tr>\n",
       "    <tr>\n",
       "      <th>Somalia</th>\n",
       "      <td>NaN</td>\n",
       "      <td>NaN</td>\n",
       "    </tr>\n",
       "    <tr>\n",
       "      <th>South Africa</th>\n",
       "      <td>7479.188244</td>\n",
       "      <td>7710.946444</td>\n",
       "    </tr>\n",
       "    <tr>\n",
       "      <th>Sudan</th>\n",
       "      <td>NaN</td>\n",
       "      <td>NaN</td>\n",
       "    </tr>\n",
       "  </tbody>\n",
       "</table>\n",
       "</div>"
      ],
      "text/plain": [
       "                          gdpPercap_1997  gdpPercap_2002\n",
       "country                                                 \n",
       "Angola                       2277.140884     2773.287312\n",
       "Benin                                NaN             NaN\n",
       "Botswana                     8647.142313    11003.605080\n",
       "Burkina Faso                         NaN             NaN\n",
       "Burundi                              NaN             NaN\n",
       "Cameroon                             NaN             NaN\n",
       "Central African Republic             NaN             NaN\n",
       "Chad                                 NaN             NaN\n",
       "Comoros                              NaN             NaN\n",
       "Congo Dem. Rep.                      NaN             NaN\n",
       "Congo Rep.                   3484.164376     3484.061970\n",
       "Cote d'Ivoire                        NaN             NaN\n",
       "Djibouti                             NaN             NaN\n",
       "Egypt                        4173.181797     4754.604414\n",
       "Equatorial Guinea            2814.480755     7703.495900\n",
       "Eritrea                              NaN             NaN\n",
       "Ethiopia                             NaN             NaN\n",
       "Gabon                       14722.841880    12521.713920\n",
       "Gambia                               NaN             NaN\n",
       "Ghana                                NaN             NaN\n",
       "Guinea                               NaN             NaN\n",
       "Guinea-Bissau                        NaN             NaN\n",
       "Kenya                                NaN             NaN\n",
       "Lesotho                              NaN             NaN\n",
       "Liberia                              NaN             NaN\n",
       "Libya                        9467.446056     9534.677467\n",
       "Madagascar                           NaN             NaN\n",
       "Malawi                               NaN             NaN\n",
       "Mali                                 NaN             NaN\n",
       "Mauritania                           NaN             NaN\n",
       "Mauritius                    7425.705295     9021.815894\n",
       "Morocco                      2982.101858     3258.495584\n",
       "Mozambique                           NaN             NaN\n",
       "Namibia                      3899.524260     4072.324751\n",
       "Niger                                NaN             NaN\n",
       "Nigeria                              NaN             NaN\n",
       "Reunion                      6071.941411     6316.165200\n",
       "Rwanda                               NaN             NaN\n",
       "Sao Tome and Principe                NaN             NaN\n",
       "Senegal                              NaN             NaN\n",
       "Sierra Leone                         NaN             NaN\n",
       "Somalia                              NaN             NaN\n",
       "South Africa                 7479.188244     7710.946444\n",
       "Sudan                                NaN             NaN"
      ]
     },
     "execution_count": 62,
     "metadata": {},
     "output_type": "execute_result"
    }
   ],
   "source": [
    "mask=subset>2000\n",
    "filtered_data=subset[mask];filtered_data"
   ]
  },
  {
   "cell_type": "code",
   "execution_count": 67,
   "metadata": {
    "collapsed": true
   },
   "outputs": [],
   "source": [
    "import numpy as np"
   ]
  },
  {
   "cell_type": "markdown",
   "metadata": {},
   "source": [
    "Select values or NaN using a Boolean mask"
   ]
  },
  {
   "cell_type": "code",
   "execution_count": 69,
   "metadata": {
    "collapsed": false
   },
   "outputs": [
    {
     "data": {
      "text/html": [
       "<div>\n",
       "<style scoped>\n",
       "    .dataframe tbody tr th:only-of-type {\n",
       "        vertical-align: middle;\n",
       "    }\n",
       "\n",
       "    .dataframe tbody tr th {\n",
       "        vertical-align: top;\n",
       "    }\n",
       "\n",
       "    .dataframe thead th {\n",
       "        text-align: right;\n",
       "    }\n",
       "</style>\n",
       "<table border=\"1\" class=\"dataframe\">\n",
       "  <thead>\n",
       "    <tr style=\"text-align: right;\">\n",
       "      <th></th>\n",
       "      <th>gdpPercap_1997</th>\n",
       "      <th>gdpPercap_2002</th>\n",
       "    </tr>\n",
       "    <tr>\n",
       "      <th>country</th>\n",
       "      <th></th>\n",
       "      <th></th>\n",
       "    </tr>\n",
       "  </thead>\n",
       "  <tbody>\n",
       "    <tr>\n",
       "      <th>Angola</th>\n",
       "      <td>2277.140884</td>\n",
       "      <td>2773.287312</td>\n",
       "    </tr>\n",
       "    <tr>\n",
       "      <th>Benin</th>\n",
       "      <td>0.000000</td>\n",
       "      <td>0.000000</td>\n",
       "    </tr>\n",
       "    <tr>\n",
       "      <th>Botswana</th>\n",
       "      <td>8647.142313</td>\n",
       "      <td>11003.605080</td>\n",
       "    </tr>\n",
       "    <tr>\n",
       "      <th>Burkina Faso</th>\n",
       "      <td>0.000000</td>\n",
       "      <td>0.000000</td>\n",
       "    </tr>\n",
       "    <tr>\n",
       "      <th>Burundi</th>\n",
       "      <td>0.000000</td>\n",
       "      <td>0.000000</td>\n",
       "    </tr>\n",
       "    <tr>\n",
       "      <th>Cameroon</th>\n",
       "      <td>0.000000</td>\n",
       "      <td>0.000000</td>\n",
       "    </tr>\n",
       "    <tr>\n",
       "      <th>Central African Republic</th>\n",
       "      <td>0.000000</td>\n",
       "      <td>0.000000</td>\n",
       "    </tr>\n",
       "    <tr>\n",
       "      <th>Chad</th>\n",
       "      <td>0.000000</td>\n",
       "      <td>0.000000</td>\n",
       "    </tr>\n",
       "    <tr>\n",
       "      <th>Comoros</th>\n",
       "      <td>0.000000</td>\n",
       "      <td>0.000000</td>\n",
       "    </tr>\n",
       "    <tr>\n",
       "      <th>Congo Dem. Rep.</th>\n",
       "      <td>0.000000</td>\n",
       "      <td>0.000000</td>\n",
       "    </tr>\n",
       "    <tr>\n",
       "      <th>Congo Rep.</th>\n",
       "      <td>3484.164376</td>\n",
       "      <td>3484.061970</td>\n",
       "    </tr>\n",
       "    <tr>\n",
       "      <th>Cote d'Ivoire</th>\n",
       "      <td>0.000000</td>\n",
       "      <td>0.000000</td>\n",
       "    </tr>\n",
       "    <tr>\n",
       "      <th>Djibouti</th>\n",
       "      <td>0.000000</td>\n",
       "      <td>0.000000</td>\n",
       "    </tr>\n",
       "    <tr>\n",
       "      <th>Egypt</th>\n",
       "      <td>4173.181797</td>\n",
       "      <td>4754.604414</td>\n",
       "    </tr>\n",
       "    <tr>\n",
       "      <th>Equatorial Guinea</th>\n",
       "      <td>2814.480755</td>\n",
       "      <td>7703.495900</td>\n",
       "    </tr>\n",
       "    <tr>\n",
       "      <th>Eritrea</th>\n",
       "      <td>0.000000</td>\n",
       "      <td>0.000000</td>\n",
       "    </tr>\n",
       "    <tr>\n",
       "      <th>Ethiopia</th>\n",
       "      <td>0.000000</td>\n",
       "      <td>0.000000</td>\n",
       "    </tr>\n",
       "    <tr>\n",
       "      <th>Gabon</th>\n",
       "      <td>14722.841880</td>\n",
       "      <td>12521.713920</td>\n",
       "    </tr>\n",
       "    <tr>\n",
       "      <th>Gambia</th>\n",
       "      <td>0.000000</td>\n",
       "      <td>0.000000</td>\n",
       "    </tr>\n",
       "    <tr>\n",
       "      <th>Ghana</th>\n",
       "      <td>0.000000</td>\n",
       "      <td>0.000000</td>\n",
       "    </tr>\n",
       "    <tr>\n",
       "      <th>Guinea</th>\n",
       "      <td>0.000000</td>\n",
       "      <td>0.000000</td>\n",
       "    </tr>\n",
       "    <tr>\n",
       "      <th>Guinea-Bissau</th>\n",
       "      <td>0.000000</td>\n",
       "      <td>0.000000</td>\n",
       "    </tr>\n",
       "    <tr>\n",
       "      <th>Kenya</th>\n",
       "      <td>0.000000</td>\n",
       "      <td>0.000000</td>\n",
       "    </tr>\n",
       "    <tr>\n",
       "      <th>Lesotho</th>\n",
       "      <td>0.000000</td>\n",
       "      <td>0.000000</td>\n",
       "    </tr>\n",
       "    <tr>\n",
       "      <th>Liberia</th>\n",
       "      <td>0.000000</td>\n",
       "      <td>0.000000</td>\n",
       "    </tr>\n",
       "    <tr>\n",
       "      <th>Libya</th>\n",
       "      <td>9467.446056</td>\n",
       "      <td>9534.677467</td>\n",
       "    </tr>\n",
       "    <tr>\n",
       "      <th>Madagascar</th>\n",
       "      <td>0.000000</td>\n",
       "      <td>0.000000</td>\n",
       "    </tr>\n",
       "    <tr>\n",
       "      <th>Malawi</th>\n",
       "      <td>0.000000</td>\n",
       "      <td>0.000000</td>\n",
       "    </tr>\n",
       "    <tr>\n",
       "      <th>Mali</th>\n",
       "      <td>0.000000</td>\n",
       "      <td>0.000000</td>\n",
       "    </tr>\n",
       "    <tr>\n",
       "      <th>Mauritania</th>\n",
       "      <td>0.000000</td>\n",
       "      <td>0.000000</td>\n",
       "    </tr>\n",
       "    <tr>\n",
       "      <th>Mauritius</th>\n",
       "      <td>7425.705295</td>\n",
       "      <td>9021.815894</td>\n",
       "    </tr>\n",
       "    <tr>\n",
       "      <th>Morocco</th>\n",
       "      <td>2982.101858</td>\n",
       "      <td>3258.495584</td>\n",
       "    </tr>\n",
       "    <tr>\n",
       "      <th>Mozambique</th>\n",
       "      <td>0.000000</td>\n",
       "      <td>0.000000</td>\n",
       "    </tr>\n",
       "    <tr>\n",
       "      <th>Namibia</th>\n",
       "      <td>3899.524260</td>\n",
       "      <td>4072.324751</td>\n",
       "    </tr>\n",
       "    <tr>\n",
       "      <th>Niger</th>\n",
       "      <td>0.000000</td>\n",
       "      <td>0.000000</td>\n",
       "    </tr>\n",
       "    <tr>\n",
       "      <th>Nigeria</th>\n",
       "      <td>0.000000</td>\n",
       "      <td>0.000000</td>\n",
       "    </tr>\n",
       "    <tr>\n",
       "      <th>Reunion</th>\n",
       "      <td>6071.941411</td>\n",
       "      <td>6316.165200</td>\n",
       "    </tr>\n",
       "    <tr>\n",
       "      <th>Rwanda</th>\n",
       "      <td>0.000000</td>\n",
       "      <td>0.000000</td>\n",
       "    </tr>\n",
       "    <tr>\n",
       "      <th>Sao Tome and Principe</th>\n",
       "      <td>0.000000</td>\n",
       "      <td>0.000000</td>\n",
       "    </tr>\n",
       "    <tr>\n",
       "      <th>Senegal</th>\n",
       "      <td>0.000000</td>\n",
       "      <td>0.000000</td>\n",
       "    </tr>\n",
       "    <tr>\n",
       "      <th>Sierra Leone</th>\n",
       "      <td>0.000000</td>\n",
       "      <td>0.000000</td>\n",
       "    </tr>\n",
       "    <tr>\n",
       "      <th>Somalia</th>\n",
       "      <td>0.000000</td>\n",
       "      <td>0.000000</td>\n",
       "    </tr>\n",
       "    <tr>\n",
       "      <th>South Africa</th>\n",
       "      <td>7479.188244</td>\n",
       "      <td>7710.946444</td>\n",
       "    </tr>\n",
       "    <tr>\n",
       "      <th>Sudan</th>\n",
       "      <td>0.000000</td>\n",
       "      <td>0.000000</td>\n",
       "    </tr>\n",
       "  </tbody>\n",
       "</table>\n",
       "</div>"
      ],
      "text/plain": [
       "                          gdpPercap_1997  gdpPercap_2002\n",
       "country                                                 \n",
       "Angola                       2277.140884     2773.287312\n",
       "Benin                           0.000000        0.000000\n",
       "Botswana                     8647.142313    11003.605080\n",
       "Burkina Faso                    0.000000        0.000000\n",
       "Burundi                         0.000000        0.000000\n",
       "Cameroon                        0.000000        0.000000\n",
       "Central African Republic        0.000000        0.000000\n",
       "Chad                            0.000000        0.000000\n",
       "Comoros                         0.000000        0.000000\n",
       "Congo Dem. Rep.                 0.000000        0.000000\n",
       "Congo Rep.                   3484.164376     3484.061970\n",
       "Cote d'Ivoire                   0.000000        0.000000\n",
       "Djibouti                        0.000000        0.000000\n",
       "Egypt                        4173.181797     4754.604414\n",
       "Equatorial Guinea            2814.480755     7703.495900\n",
       "Eritrea                         0.000000        0.000000\n",
       "Ethiopia                        0.000000        0.000000\n",
       "Gabon                       14722.841880    12521.713920\n",
       "Gambia                          0.000000        0.000000\n",
       "Ghana                           0.000000        0.000000\n",
       "Guinea                          0.000000        0.000000\n",
       "Guinea-Bissau                   0.000000        0.000000\n",
       "Kenya                           0.000000        0.000000\n",
       "Lesotho                         0.000000        0.000000\n",
       "Liberia                         0.000000        0.000000\n",
       "Libya                        9467.446056     9534.677467\n",
       "Madagascar                      0.000000        0.000000\n",
       "Malawi                          0.000000        0.000000\n",
       "Mali                            0.000000        0.000000\n",
       "Mauritania                      0.000000        0.000000\n",
       "Mauritius                    7425.705295     9021.815894\n",
       "Morocco                      2982.101858     3258.495584\n",
       "Mozambique                      0.000000        0.000000\n",
       "Namibia                      3899.524260     4072.324751\n",
       "Niger                           0.000000        0.000000\n",
       "Nigeria                         0.000000        0.000000\n",
       "Reunion                      6071.941411     6316.165200\n",
       "Rwanda                          0.000000        0.000000\n",
       "Sao Tome and Principe           0.000000        0.000000\n",
       "Senegal                         0.000000        0.000000\n",
       "Sierra Leone                    0.000000        0.000000\n",
       "Somalia                         0.000000        0.000000\n",
       "South Africa                 7479.188244     7710.946444\n",
       "Sudan                           0.000000        0.000000"
      ]
     },
     "execution_count": 69,
     "metadata": {},
     "output_type": "execute_result"
    }
   ],
   "source": [
    "filtered_data.replace(to_replace=np.NaN,value=0)"
   ]
  },
  {
   "cell_type": "markdown",
   "metadata": {},
   "source": [
    "### Q1: Get the lowest and the highset gdp of your country using Pandas"
   ]
  },
  {
   "cell_type": "code",
   "execution_count": 17,
   "metadata": {
    "collapsed": false
   },
   "outputs": [
    {
     "data": {
      "text/plain": [
       "2602.394995"
      ]
     },
     "execution_count": 17,
     "metadata": {},
     "output_type": "execute_result"
    }
   ],
   "source": [
    "max(gdp_africa.loc['Sudan',]) "
   ]
  },
  {
   "cell_type": "code",
   "execution_count": 84,
   "metadata": {
    "collapsed": false
   },
   "outputs": [
    {
     "data": {
      "text/plain": [
       "'gdpPercap_2007'"
      ]
     },
     "execution_count": 84,
     "metadata": {},
     "output_type": "execute_result"
    }
   ],
   "source": [
    "su=gdp_africa.loc['Sudan',]\n",
    "su.idxmax()"
   ]
  },
  {
   "cell_type": "code",
   "execution_count": 81,
   "metadata": {
    "collapsed": false
   },
   "outputs": [
    {
     "data": {
      "text/plain": [
       "1492.197043"
      ]
     },
     "execution_count": 81,
     "metadata": {},
     "output_type": "execute_result"
    }
   ],
   "source": [
    "min(gdp_africa.loc['Sudan',])"
   ]
  },
  {
   "cell_type": "code",
   "execution_count": 86,
   "metadata": {
    "collapsed": false
   },
   "outputs": [
    {
     "data": {
      "text/plain": [
       "'gdpPercap_1992'"
      ]
     },
     "execution_count": 86,
     "metadata": {},
     "output_type": "execute_result"
    }
   ],
   "source": [
    "su.idxmin()"
   ]
  },
  {
   "cell_type": "code",
   "execution_count": null,
   "metadata": {
    "collapsed": true
   },
   "outputs": [],
   "source": []
  },
  {
   "cell_type": "markdown",
   "metadata": {},
   "source": [
    "Replace a value with Pandas"
   ]
  },
  {
   "cell_type": "code",
   "execution_count": null,
   "metadata": {
    "collapsed": false
   },
   "outputs": [],
   "source": []
  },
  {
   "cell_type": "markdown",
   "metadata": {},
   "source": [
    "## C. Graphical Output\n",
    "\n",
    "In general, graphics show the underlying distribution of data, the frequency of occurrences of values, correlation between variables or summary of a large data.\n",
    "\n",
    "### C.0. Matplot\n",
    "\n",
    "Matplot is a Python library for plotting"
   ]
  },
  {
   "cell_type": "code",
   "execution_count": 3,
   "metadata": {
    "collapsed": false
   },
   "outputs": [],
   "source": [
    "# Python library for plotting\n",
    "import matplotlib.pyplot as plt"
   ]
  },
  {
   "cell_type": "markdown",
   "metadata": {},
   "source": [
    "Print **Ages** vector versus **Percentages** vector: the two lists must have the same size."
   ]
  },
  {
   "cell_type": "code",
   "execution_count": 10,
   "metadata": {
    "collapsed": false
   },
   "outputs": [
    {
     "data": {
      "image/png": "[encoded data removed]",
      "text/plain": [
       "<Figure size 432x288 with 1 Axes>"
      ]
     },
     "metadata": {},
     "output_type": "display_data"
    }
   ],
   "source": [
    "import numpy as np\n",
    "x=np.linspace(0,5,100)\n",
    "ages=np.exp(x)\n",
    "\n",
    "#weights=[62.1,57,86,100,45,39]\n",
    "plt.xlabel(\"the number of students\")\n",
    "plt.ylabel(\"Ages and weight\")\n",
    "plt.plot(x,ages,label='ages')\n",
    "#plt.plot(x,weights,label='weights')\n",
    "plt.legend(loc='best')\n",
    "plt.show()"
   ]
  },
  {
   "cell_type": "markdown",
   "metadata": {},
   "source": [
    "**Figure axis: **any idea on why the following code does not show the graph? Fix it if applicable."
   ]
  },
  {
   "cell_type": "code",
   "execution_count": 13,
   "metadata": {
    "collapsed": false
   },
   "outputs": [
    {
     "data": {
      "image/png": "[encoded data removed]",
      "text/plain": [
       "<Figure size 432x288 with 1 Axes>"
      ]
     },
     "metadata": {},
     "output_type": "display_data"
    }
   ],
   "source": [
    "plt.plot(x, ages, 'k*')\n",
    "plt.axis([1, 13, 1, 56])\n",
    "plt.show()"
   ]
  },
  {
   "cell_type": "markdown",
   "metadata": {},
   "source": [
    "In the paramater **bo**, b defines the color of graph (b=blue) and o the type of point."
   ]
  },
  {
   "cell_type": "markdown",
   "metadata": {},
   "source": [
    "**Labels, title, text, axis, figure size and grid**"
   ]
  },
  {
   "cell_type": "code",
   "execution_count": 52,
   "metadata": {
    "collapsed": false
   },
   "outputs": [
    {
     "data": {
      "image/png": "[encoded data removed]",
      "text/plain": [
       "<Figure size 864x576 with 1 Axes>"
      ]
     },
     "metadata": {},
     "output_type": "display_data"
    }
   ],
   "source": [
    "plt.figure(figsize=(12,8))\n",
    "plt.xlabel('number of students')\n",
    "plt.ylabel('countries ID')\n",
    "plt.title('Histogram of Frequency')\n",
    "plt.text(3, 4, 'Comment')\n",
    "plt.axis([0, 10, 1, 54])\n",
    "plt.grid(True)\n",
    "plt.show()\n",
    "#plt.text(starting corrdinate,ending corrdinate,the comment or the text)"
   ]
  },
  {
   "cell_type": "markdown",
   "metadata": {},
   "source": [
    "**Disable axis and enable legend**"
   ]
  },
  {
   "cell_type": "code",
   "execution_count": 56,
   "metadata": {
    "collapsed": false
   },
   "outputs": [
    {
     "data": {
      "image/png": "[encoded data removed]",
      "text/plain": [
       "<Figure size 432x288 with 1 Axes>"
      ]
     },
     "metadata": {},
     "output_type": "display_data"
    }
   ],
   "source": [
    "plt.plot([1,2,3], label=\"Line 1\")\n",
    "plt.plot([1,1,1],[3,2,1], label=\"Line 2\")\n",
    "plt.axis('off') #disable axis\n",
    "plt.legend(loc='best')\n",
    "plt.show()"
   ]
  },
  {
   "cell_type": "markdown",
   "metadata": {},
   "source": [
    "**Latex in Matplotlib**: \n",
    "\n",
    "**r'\\$latex command$'**"
   ]
  },
  {
   "cell_type": "code",
   "execution_count": 15,
   "metadata": {
    "collapsed": false
   },
   "outputs": [
    {
     "data": {
      "image/png": "[encoded data removed]",
      "text/plain": [
       "<Figure size 432x288 with 1 Axes>"
      ]
     },
     "metadata": {},
     "output_type": "display_data"
    }
   ],
   "source": [
    "plt.xlabel('number of students ('r'$\\delta$)')\n",
    "plt.ylabel('countries ID ('r'$\\mu$)')\n",
    "plt.title('Histogram of Frequency')\n",
    "plt.text(3, 30, r'$\\mu=54,\\ \\delta=56$')\n",
    "plt.axis([0, 10, 1, 54])\n",
    "plt.grid(True)\n",
    "plt.show()"
   ]
  },
  {
   "cell_type": "markdown",
   "metadata": {},
   "source": [
    "**Multi subfigures**"
   ]
  },
  {
   "cell_type": "code",
   "execution_count": 16,
   "metadata": {
    "collapsed": true
   },
   "outputs": [],
   "source": [
    "import numpy as np\n",
    "data=[x for x in np.arange(1., 20., .75)]\n",
    "squareddata=np.power(data, 2)\n",
    "cubeddata=np.power(data, 3)"
   ]
  },
  {
   "cell_type": "code",
   "execution_count": 60,
   "metadata": {
    "collapsed": false
   },
   "outputs": [
    {
     "data": {
      "image/png": "[encoded data removed]",
      "text/plain": [
       "<Figure size 432x288 with 1 Axes>"
      ]
     },
     "metadata": {},
     "output_type": "display_data"
    }
   ],
   "source": [
    "plt.plot(data, data, 'bo', data, squareddata, 'r*', data, cubeddata, 'g^')\n",
    "plt.show()"
   ]
  },
  {
   "cell_type": "markdown",
   "metadata": {},
   "source": [
    "**Subfigures in a figure**\n",
    "\n",
    "The function **subplot(nrows, ncols, plot_number)** defines subfigures within a figure. Its parameters *nrows* and *ncols* are used to split the figure into **nrows * ncols** sub-axes, and *plot_number* is used to identify the particular subplot within the grid."
   ]
  },
  {
   "cell_type": "code",
   "execution_count": 62,
   "metadata": {
    "collapsed": false
   },
   "outputs": [
    {
     "data": {
      "image/png": "[encoded data removed]",
      "text/plain": [
       "<Figure size 432x432 with 4 Axes>"
      ]
     },
     "metadata": {},
     "output_type": "display_data"
    }
   ],
   "source": [
    "plt.figure(figsize=(6, 6))\n",
    "plt.subplot(2, 2, 1)\n",
    "plt.subplot(2, 2, 2)\n",
    "plt.subplot(2, 2, 3)\n",
    "plt.subplot(224)\n",
    "plt.show()"
   ]
  },
  {
   "cell_type": "markdown",
   "metadata": {},
   "source": [
    "**What will happen with the following code? Explaination...**"
   ]
  },
  {
   "cell_type": "code",
   "execution_count": 63,
   "metadata": {
    "collapsed": false
   },
   "outputs": [
    {
     "ename": "ValueError",
     "evalue": "num must be 1 <= num <= 4, not 5",
     "output_type": "error",
     "traceback": [
      "\u001b[0;31m---------------------------------------------------------------------------\u001b[0m",
      "\u001b[0;31mValueError\u001b[0m                                Traceback (most recent call last)",
      "\u001b[0;32m<ipython-input-63-09cde88c73e0>\u001b[0m in \u001b[0;36m<module>\u001b[0;34m()\u001b[0m\n\u001b[0;32m----> 1\u001b[0;31m \u001b[0mplt\u001b[0m\u001b[0;34m.\u001b[0m\u001b[0msubplot\u001b[0m\u001b[0;34m(\u001b[0m\u001b[0;36m2\u001b[0m\u001b[0;34m,\u001b[0m \u001b[0;36m2\u001b[0m\u001b[0;34m,\u001b[0m \u001b[0;36m5\u001b[0m\u001b[0;34m)\u001b[0m\u001b[0;34m\u001b[0m\u001b[0m\n\u001b[0m",
      "\u001b[0;32m/usr/local/lib/python3.5/dist-packages/matplotlib/pyplot.py\u001b[0m in \u001b[0;36msubplot\u001b[0;34m(*args, **kwargs)\u001b[0m\n\u001b[1;32m   1070\u001b[0m \u001b[0;34m\u001b[0m\u001b[0m\n\u001b[1;32m   1071\u001b[0m     \u001b[0mfig\u001b[0m \u001b[0;34m=\u001b[0m \u001b[0mgcf\u001b[0m\u001b[0;34m(\u001b[0m\u001b[0;34m)\u001b[0m\u001b[0;34m\u001b[0m\u001b[0m\n\u001b[0;32m-> 1072\u001b[0;31m     \u001b[0ma\u001b[0m \u001b[0;34m=\u001b[0m \u001b[0mfig\u001b[0m\u001b[0;34m.\u001b[0m\u001b[0madd_subplot\u001b[0m\u001b[0;34m(\u001b[0m\u001b[0;34m*\u001b[0m\u001b[0margs\u001b[0m\u001b[0;34m,\u001b[0m \u001b[0;34m**\u001b[0m\u001b[0mkwargs\u001b[0m\u001b[0;34m)\u001b[0m\u001b[0;34m\u001b[0m\u001b[0m\n\u001b[0m\u001b[1;32m   1073\u001b[0m     \u001b[0mbbox\u001b[0m \u001b[0;34m=\u001b[0m \u001b[0ma\u001b[0m\u001b[0;34m.\u001b[0m\u001b[0mbbox\u001b[0m\u001b[0;34m\u001b[0m\u001b[0m\n\u001b[1;32m   1074\u001b[0m     \u001b[0mbyebye\u001b[0m \u001b[0;34m=\u001b[0m \u001b[0;34m[\u001b[0m\u001b[0;34m]\u001b[0m\u001b[0;34m\u001b[0m\u001b[0m\n",
      "\u001b[0;32m/usr/local/lib/python3.5/dist-packages/matplotlib/figure.py\u001b[0m in \u001b[0;36madd_subplot\u001b[0;34m(self, *args, **kwargs)\u001b[0m\n\u001b[1;32m   1237\u001b[0m                     \u001b[0mself\u001b[0m\u001b[0;34m.\u001b[0m\u001b[0m_axstack\u001b[0m\u001b[0;34m.\u001b[0m\u001b[0mremove\u001b[0m\u001b[0;34m(\u001b[0m\u001b[0max\u001b[0m\u001b[0;34m)\u001b[0m\u001b[0;34m\u001b[0m\u001b[0m\n\u001b[1;32m   1238\u001b[0m \u001b[0;34m\u001b[0m\u001b[0m\n\u001b[0;32m-> 1239\u001b[0;31m             \u001b[0ma\u001b[0m \u001b[0;34m=\u001b[0m \u001b[0msubplot_class_factory\u001b[0m\u001b[0;34m(\u001b[0m\u001b[0mprojection_class\u001b[0m\u001b[0;34m)\u001b[0m\u001b[0;34m(\u001b[0m\u001b[0mself\u001b[0m\u001b[0;34m,\u001b[0m \u001b[0;34m*\u001b[0m\u001b[0margs\u001b[0m\u001b[0;34m,\u001b[0m \u001b[0;34m**\u001b[0m\u001b[0mkwargs\u001b[0m\u001b[0;34m)\u001b[0m\u001b[0;34m\u001b[0m\u001b[0m\n\u001b[0m\u001b[1;32m   1240\u001b[0m         \u001b[0mself\u001b[0m\u001b[0;34m.\u001b[0m\u001b[0m_axstack\u001b[0m\u001b[0;34m.\u001b[0m\u001b[0madd\u001b[0m\u001b[0;34m(\u001b[0m\u001b[0mkey\u001b[0m\u001b[0;34m,\u001b[0m \u001b[0ma\u001b[0m\u001b[0;34m)\u001b[0m\u001b[0;34m\u001b[0m\u001b[0m\n\u001b[1;32m   1241\u001b[0m         \u001b[0mself\u001b[0m\u001b[0;34m.\u001b[0m\u001b[0msca\u001b[0m\u001b[0;34m(\u001b[0m\u001b[0ma\u001b[0m\u001b[0;34m)\u001b[0m\u001b[0;34m\u001b[0m\u001b[0m\n",
      "\u001b[0;32m/usr/local/lib/python3.5/dist-packages/matplotlib/axes/_subplots.py\u001b[0m in \u001b[0;36m__init__\u001b[0;34m(self, fig, *args, **kwargs)\u001b[0m\n\u001b[1;32m     65\u001b[0m                     raise ValueError(\n\u001b[1;32m     66\u001b[0m                         (\"num must be 1 <= num <= {maxn}, not {num}\"\n\u001b[0;32m---> 67\u001b[0;31m                         ).format(maxn=rows*cols, num=num))\n\u001b[0m\u001b[1;32m     68\u001b[0m                 self._subplotspec = GridSpec(\n\u001b[1;32m     69\u001b[0m                         rows, cols, figure=self.figure)[int(num) - 1]\n",
      "\u001b[0;31mValueError\u001b[0m: num must be 1 <= num <= 4, not 5"
     ]
    }
   ],
   "source": [
    "plt.subplot(2, 2, 5)"
   ]
  },
  {
   "cell_type": "markdown",
   "metadata": {},
   "source": [
    "**Why are not the first and second subplots showed? How to fix it?**"
   ]
  },
  {
   "cell_type": "code",
   "execution_count": 22,
   "metadata": {
    "collapsed": false
   },
   "outputs": [],
   "source": [
    "#function defintion\n",
    "def f(x):\n",
    "    return np.exp(-x) * np.cos(2*np.pi*x)"
   ]
  },
  {
   "cell_type": "code",
   "execution_count": 23,
   "metadata": {
    "collapsed": false
   },
   "outputs": [
    {
     "name": "stderr",
     "output_type": "stream",
     "text": [
      "/usr/local/lib/python3.5/dist-packages/matplotlib/cbook/deprecation.py:107: MatplotlibDeprecationWarning: Adding an axes using the same arguments as a previous axes currently reuses the earlier instance.  In a future version, a new instance will always be created and returned.  Meanwhile, this warning can be suppressed, and the future behavior ensured, by passing a unique label to each axes instance.\n",
      "  warnings.warn(message, mplDeprecation, stacklevel=1)\n"
     ]
    },
    {
     "data": {
      "image/png": "[encoded data removed]",
      "text/plain": [
       "<Figure size 432x288 with 1 Axes>"
      ]
     },
     "metadata": {},
     "output_type": "display_data"
    }
   ],
   "source": [
    "xdata = np.arange(0.0, 5.0, 0.1)\n",
    "ydata= np.arange(0.0, 5.0, 0.02)\n",
    "\n",
    "plt.subplot(131)\n",
    "plt.plot(xdata, f(xdata), 'bo', ydata, f(ydata), 'k')\n",
    "\n",
    "plt.subplot(212)\n",
    "plt.plot(ydata, np.cos(2*np.pi*ydata), 'r--')\n",
    "\n",
    "plt.subplot(133)\n",
    "plt.plot(xdata, np.cos(2*np.pi*xdata), 'ro')\n",
    "plt.show()"
   ]
  },
  {
   "cell_type": "code",
   "execution_count": 20,
   "metadata": {
    "collapsed": false
   },
   "outputs": [
    {
     "name": "stdout",
     "output_type": "stream",
     "text": [
      "Help on built-in function arange in module numpy.core.multiarray:\n",
      "\n",
      "arange(...)\n",
      "    arange([start,] stop[, step,], dtype=None)\n",
      "    \n",
      "    Return evenly spaced values within a given interval.\n",
      "    \n",
      "    Values are generated within the half-open interval ``[start, stop)``\n",
      "    (in other words, the interval including `start` but excluding `stop`).\n",
      "    For integer arguments the function is equivalent to the Python built-in\n",
      "    `range <http://docs.python.org/lib/built-in-funcs.html>`_ function,\n",
      "    but returns an ndarray rather than a list.\n",
      "    \n",
      "    When using a non-integer step, such as 0.1, the results will often not\n",
      "    be consistent.  It is better to use ``linspace`` for these cases.\n",
      "    \n",
      "    Parameters\n",
      "    ----------\n",
      "    start : number, optional\n",
      "        Start of interval.  The interval includes this value.  The default\n",
      "        start value is 0.\n",
      "    stop : number\n",
      "        End of interval.  The interval does not include this value, except\n",
      "        in some cases where `step` is not an integer and floating point\n",
      "        round-off affects the length of `out`.\n",
      "    step : number, optional\n",
      "        Spacing between values.  For any output `out`, this is the distance\n",
      "        between two adjacent values, ``out[i+1] - out[i]``.  The default\n",
      "        step size is 1.  If `step` is specified as a position argument,\n",
      "        `start` must also be given.\n",
      "    dtype : dtype\n",
      "        The type of the output array.  If `dtype` is not given, infer the data\n",
      "        type from the other input arguments.\n",
      "    \n",
      "    Returns\n",
      "    -------\n",
      "    arange : ndarray\n",
      "        Array of evenly spaced values.\n",
      "    \n",
      "        For floating point arguments, the length of the result is\n",
      "        ``ceil((stop - start)/step)``.  Because of floating point overflow,\n",
      "        this rule may result in the last element of `out` being greater\n",
      "        than `stop`.\n",
      "    \n",
      "    See Also\n",
      "    --------\n",
      "    linspace : Evenly spaced numbers with careful handling of endpoints.\n",
      "    ogrid: Arrays of evenly spaced numbers in N-dimensions.\n",
      "    mgrid: Grid-shaped arrays of evenly spaced numbers in N-dimensions.\n",
      "    \n",
      "    Examples\n",
      "    --------\n",
      "    >>> np.arange(3)\n",
      "    array([0, 1, 2])\n",
      "    >>> np.arange(3.0)\n",
      "    array([ 0.,  1.,  2.])\n",
      "    >>> np.arange(3,7)\n",
      "    array([3, 4, 5, 6])\n",
      "    >>> np.arange(3,7,2)\n",
      "    array([3, 5])\n",
      "\n"
     ]
    }
   ],
   "source": [
    "help(np.arange)"
   ]
  },
  {
   "cell_type": "code",
   "execution_count": 24,
   "metadata": {
    "collapsed": false
   },
   "outputs": [
    {
     "data": {
      "image/png": "[encoded data removed]",
      "text/plain": [
       "<Figure size 720x432 with 3 Axes>"
      ]
     },
     "metadata": {},
     "output_type": "display_data"
    }
   ],
   "source": [
    "xdata = np.arange(0.0, 5.0, 0.1)\n",
    "ydata= np.arange(0.0, 5.0, 0.02)\n",
    "plt.figure(figsize=(10,6))\n",
    "plt.subplot(131)\n",
    "plt.plot(xdata, f(xdata), 'bo', ydata, f(ydata), 'k')\n",
    "\n",
    "plt.subplot(132)\n",
    "plt.plot(ydata, np.cos(2*np.pi*ydata), 'r--')\n",
    "\n",
    "plt.subplot(133)\n",
    "plt.plot(xdata, np.cos(2*np.pi*xdata), 'ro')\n",
    "plt.show()"
   ]
  },
  {
   "cell_type": "markdown",
   "metadata": {},
   "source": [
    "**Scatter:** it attemps to show the correlation between variables (or to compare a large number of data points)."
   ]
  },
  {
   "cell_type": "code",
   "execution_count": 69,
   "metadata": {
    "collapsed": false
   },
   "outputs": [
    {
     "data": {
      "image/png": "[encoded data removed]",
      "text/plain": [
       "<Figure size 432x288 with 1 Axes>"
      ]
     },
     "metadata": {},
     "output_type": "display_data"
    }
   ],
   "source": [
    "points=np.random.uniform(0, 2, (1000,2))\n",
    "plt.xlabel('x')\n",
    "plt.ylabel('y')\n",
    "plt.scatter(points[:,0], points[:,1], \n",
    "            marker=',', edgecolor='r', s=3)\n",
    "plt.plot([i for i in np.arange(0, 2)], \n",
    "            [i for i in np.arange(0, 2)])\n",
    "plt.show()"
   ]
  },
  {
   "cell_type": "markdown",
   "metadata": {},
   "source": [
    "**Histogram:** is used to plot the frequency of occurrences in a continuous data. It can help in perceiving the underlying distribution of data."
   ]
  },
  {
   "cell_type": "code",
   "execution_count": 41,
   "metadata": {
    "collapsed": false,
    "scrolled": true
   },
   "outputs": [
    {
     "data": {
      "image/png": "[encoded data removed]",
      "text/plain": [
       "<Figure size 432x288 with 1 Axes>"
      ]
     },
     "metadata": {},
     "output_type": "display_data"
    }
   ],
   "source": [
    "x =120 + 22 * np.random.randn(200)\n",
    "n, bins, patches =plt.hist(x, bins=10, facecolor='r')\n",
    "plt.xlabel('Interval')\n",
    "plt.ylabel('Frequency')\n",
    "plt.title('Histogram')\n",
    "plt.axis([40, 160, 0, 30])\n",
    "plt.grid(True)\n",
    "plt.show()"
   ]
  },
  {
   "cell_type": "code",
   "execution_count": null,
   "metadata": {
    "collapsed": false
   },
   "outputs": [],
   "source": []
  },
  {
   "cell_type": "code",
   "execution_count": 30,
   "metadata": {
    "collapsed": false
   },
   "outputs": [],
   "source": [
    "x =120 + 22 * np.random.randn(200);"
   ]
  },
  {
   "cell_type": "markdown",
   "metadata": {},
   "source": [
    "**Histogram with multiple datasets**"
   ]
  },
  {
   "cell_type": "code",
   "execution_count": 79,
   "metadata": {
    "collapsed": false
   },
   "outputs": [
    {
     "data": {
      "image/png": "[encoded data removed]",
      "text/plain": [
       "<Figure size 432x288 with 1 Axes>"
      ]
     },
     "metadata": {},
     "output_type": "display_data"
    }
   ],
   "source": [
    "y = 130 + 15*np.random.randn(300)\n",
    "n, bins, patches = plt.hist([x, y])\n",
    "plt.show()"
   ]
  },
  {
   "cell_type": "markdown",
   "metadata": {},
   "source": [
    "**Bar Chart:** it is used to show the frequency of occurences in ordinal and nominal variables."
   ]
  },
  {
   "cell_type": "code",
   "execution_count": 46,
   "metadata": {
    "collapsed": false
   },
   "outputs": [
    {
     "data": {
      "image/png": "[encoded data removed]",
      "text/plain": [
       "<Figure size 432x288 with 1 Axes>"
      ]
     },
     "metadata": {},
     "output_type": "display_data"
    }
   ],
   "source": [
    "countries = ('RSA', 'Benin', 'Botswana', 'Zambia', 'Swaziland', 'Madagascar')\n",
    "y_pos = np.arange(len(countries))\n",
    "effectives = [2,1,3,2,2,4]\n",
    " \n",
    "plt.bar(y_pos, effectives, align='center', alpha=0.5)\n",
    "plt.xticks(y_pos, countries, rotation=45)#rotation=45,  any angle you want\n",
    "plt.ylabel('Effective')\n",
    "plt.title('AIMS Students')\n",
    " \n",
    "plt.show()"
   ]
  },
  {
   "cell_type": "markdown",
   "metadata": {},
   "source": [
    "**Boxplot:** It shows the statistical summary of data: minimum, first quartile, median, third quartile, and maximum."
   ]
  },
  {
   "cell_type": "code",
   "execution_count": 82,
   "metadata": {
    "collapsed": false
   },
   "outputs": [
    {
     "data": {
      "text/plain": [
       "array([[2.43201165e-01, 4.22814846e-02],\n",
       "       [1.44237415e-01, 8.85848857e-01],\n",
       "       [4.56189062e-01, 5.05506921e-01],\n",
       "       [5.84008011e-01, 9.84829185e-01],\n",
       "       [1.38973507e-01, 8.65080268e-01],\n",
       "       [9.09029981e-02, 3.12848488e-04],\n",
       "       [1.87469891e-01, 9.08550996e-01],\n",
       "       [7.71730363e-01, 4.04663969e-01],\n",
       "       [9.87244237e-01, 1.05502739e-01],\n",
       "       [4.85832487e-01, 6.74070853e-01]])"
      ]
     },
     "execution_count": 82,
     "metadata": {},
     "output_type": "execute_result"
    }
   ],
   "source": [
    "data=np.random.rand(10, 2)\n",
    "data"
   ]
  },
  {
   "cell_type": "code",
   "execution_count": 83,
   "metadata": {
    "collapsed": false
   },
   "outputs": [
    {
     "data": {
      "image/png": "[encoded data removed]",
      "text/plain": [
       "<Figure size 432x288 with 1 Axes>"
      ]
     },
     "metadata": {},
     "output_type": "display_data"
    }
   ],
   "source": [
    "plt.boxplot(data)\n",
    "plt.show()"
   ]
  },
  {
   "cell_type": "markdown",
   "metadata": {},
   "source": [
    "**How can one interpret this boxplot?**"
   ]
  },
  {
   "cell_type": "code",
   "execution_count": null,
   "metadata": {
    "collapsed": true
   },
   "outputs": [],
   "source": [
    "#Answer"
   ]
  },
  {
   "cell_type": "markdown",
   "metadata": {},
   "source": [
    "### Exercise\n",
    "\n",
    "Combine the two histograms, the pie and the boxplot above within a single figure."
   ]
  },
  {
   "cell_type": "code",
   "execution_count": null,
   "metadata": {
    "collapsed": true
   },
   "outputs": [],
   "source": [
    "#answer"
   ]
  },
  {
   "cell_type": "markdown",
   "metadata": {},
   "source": [
    "### C.1. Graph with Networkx"
   ]
  },
  {
   "cell_type": "markdown",
   "metadata": {},
   "source": [
    "**What is a graph?**\n",
    "\n",
    "Graph is used to model relations in physical, biological, social and information systems."
   ]
  },
  {
   "cell_type": "code",
   "execution_count": null,
   "metadata": {
    "collapsed": true
   },
   "outputs": [],
   "source": [
    "# library for the use of graph\n"
   ]
  },
  {
   "cell_type": "markdown",
   "metadata": {},
   "source": [
    "Create an empty graph with networkx"
   ]
  },
  {
   "cell_type": "code",
   "execution_count": null,
   "metadata": {
    "collapsed": false
   },
   "outputs": [],
   "source": []
  },
  {
   "cell_type": "markdown",
   "metadata": {},
   "source": [
    "Add a single node"
   ]
  },
  {
   "cell_type": "code",
   "execution_count": null,
   "metadata": {
    "collapsed": true
   },
   "outputs": [],
   "source": []
  },
  {
   "cell_type": "markdown",
   "metadata": {},
   "source": [
    "Get nodes from G"
   ]
  },
  {
   "cell_type": "code",
   "execution_count": null,
   "metadata": {
    "collapsed": false
   },
   "outputs": [],
   "source": []
  },
  {
   "cell_type": "markdown",
   "metadata": {},
   "source": [
    "Add a list of nodes"
   ]
  },
  {
   "cell_type": "code",
   "execution_count": null,
   "metadata": {
    "collapsed": true
   },
   "outputs": [],
   "source": []
  },
  {
   "cell_type": "markdown",
   "metadata": {},
   "source": [
    "Add a single edge"
   ]
  },
  {
   "cell_type": "code",
   "execution_count": null,
   "metadata": {
    "collapsed": true
   },
   "outputs": [],
   "source": []
  },
  {
   "cell_type": "markdown",
   "metadata": {},
   "source": [
    "Get edge of G"
   ]
  },
  {
   "cell_type": "code",
   "execution_count": null,
   "metadata": {
    "collapsed": false
   },
   "outputs": [],
   "source": []
  },
  {
   "cell_type": "markdown",
   "metadata": {},
   "source": [
    "Add a list of edges"
   ]
  },
  {
   "cell_type": "code",
   "execution_count": null,
   "metadata": {
    "collapsed": false
   },
   "outputs": [],
   "source": []
  },
  {
   "cell_type": "markdown",
   "metadata": {},
   "source": [
    "**What will happen with the following code?**"
   ]
  },
  {
   "cell_type": "code",
   "execution_count": null,
   "metadata": {
    "collapsed": false
   },
   "outputs": [],
   "source": []
  },
  {
   "cell_type": "markdown",
   "metadata": {},
   "source": [
    "Check whether G has node A and edge (\"D\",\"E\")"
   ]
  },
  {
   "cell_type": "code",
   "execution_count": null,
   "metadata": {
    "collapsed": false
   },
   "outputs": [],
   "source": [
    " "
   ]
  },
  {
   "cell_type": "markdown",
   "metadata": {},
   "source": [
    "Draw a graph"
   ]
  },
  {
   "cell_type": "code",
   "execution_count": null,
   "metadata": {
    "collapsed": false
   },
   "outputs": [],
   "source": []
  },
  {
   "cell_type": "markdown",
   "metadata": {},
   "source": [
    "Create a path graph of length n=10"
   ]
  },
  {
   "cell_type": "code",
   "execution_count": null,
   "metadata": {
    "collapsed": true
   },
   "outputs": [],
   "source": []
  },
  {
   "cell_type": "markdown",
   "metadata": {},
   "source": [
    "Add nodes to G from an existing graph P"
   ]
  },
  {
   "cell_type": "code",
   "execution_count": null,
   "metadata": {
    "collapsed": true
   },
   "outputs": [],
   "source": []
  },
  {
   "cell_type": "markdown",
   "metadata": {},
   "source": [
    "Add edges to G from an existing graph P"
   ]
  },
  {
   "cell_type": "code",
   "execution_count": null,
   "metadata": {
    "collapsed": true
   },
   "outputs": [],
   "source": []
  },
  {
   "cell_type": "markdown",
   "metadata": {},
   "source": [
    "Clear graph G"
   ]
  },
  {
   "cell_type": "code",
   "execution_count": null,
   "metadata": {
    "collapsed": true
   },
   "outputs": [],
   "source": []
  }
 ],
 "metadata": {
  "kernelspec": {
   "display_name": "Python 3",
   "language": "python",
   "name": "python3"
  },
  "language_info": {
   "codemirror_mode": {
    "name": "ipython",
    "version": 3
   },
   "file_extension": ".py",
   "mimetype": "text/x-python",
   "name": "python",
   "nbconvert_exporter": "python",
   "pygments_lexer": "ipython3",
   "version": "3.5.3"
  }
 },
 "nbformat": 4,
 "nbformat_minor": 1
}
