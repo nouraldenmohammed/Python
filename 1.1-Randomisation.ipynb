{
 "cells": [
  {
   "cell_type": "markdown",
   "metadata": {},
   "source": [
    "# <font color=\"blue\">1.1- Randomisation</font>\n",
    "\n",
    "One defines a deterministic model as a mathematical model in which outputs are precisely determined through known relationships among states and events. In such models, a given input $x$ will always produce the same output. \n",
    "\n",
    "E.g. $f(p, q)=p\\times q$ where $p$, $q$ and $f(p, q)$ denote the price, quantity and the total amount of an item respectively. So $f(5, 2)=10$, always.\n",
    "\n",
    "On the other hand, random models use values in the form of probability distributions, the outputs may (partially) or not depend on the input. \n",
    "\n",
    "E.g. $f(p, q) = r( [r_{min}, r_{max}])$ where $r$ denotes a random function that picts a value in the range. So $f(5, 2)=8$ or $f(5, 2)=12$ or $f(5, 2)=9$. This may become interesting if over different random experiments, we still have the same output.\n",
    "\n",
    "<b>Randomisation is a sampling method used in scientific experiments to:</b>\n",
    "\n",
    "<br>\n",
    "<font color=\"blue\">\n",
    "<ul>\n",
    "<li>Reduce selection bias.</li>\n",
    "<li>Control temporal effects.</li>\n",
    "<li>Perform statistical inference.</li>\n",
    "</ul>\n",
    "</font>\n",
    "\n",
    "<br>\n",
    "<font color=\"red\">\n",
    "<u><b>Learning Objectives</b></u>\n",
    "<div class=\"panel-body\">\n",
    "<ul>\n",
    "<li>Importance of randomisation.</li>\n",
    "<li>Use of randomisation and its applications.</li>\n",
    "</ul>\n",
    "</div>\n",
    "</font>"
   ]
  },
  {
   "cell_type": "markdown",
   "metadata": {},
   "source": [
    "## <font color=\"blue\">A-Random Walk (RW)</font>\n",
    "\n",
    "RW (or stochastic process) is a mathematical method that describes a path that consists of a succession of random steps or positions. \n",
    "\n",
    "<u>Examples:</u>\n",
    "<ul>\n",
    "<li>The walk of a drunk.</li>\n",
    "<li>The travel of a molecule in a liquid.</li>\n",
    "<li>The price of a fluctuating stock of an item.</li>\n",
    "<li>...</li>\n",
    "</ul>"
   ]
  },
  {
   "cell_type": "code",
   "execution_count": 6,
   "metadata": {
    "collapsed": true
   },
   "outputs": [],
   "source": [
    "#import libraries\n",
    "import numpy as np"
   ]
  },
  {
   "cell_type": "code",
   "execution_count": 9,
   "metadata": {
    "collapsed": false
   },
   "outputs": [
    {
     "data": {
      "text/plain": [
       "array([[1.5306779 , 2.64117149, 2.6321327 , 1.67368182],\n",
       "       [2.07142385, 1.90112655, 3.85759821, 3.02709344],\n",
       "       [2.74451891, 2.17796784, 2.72564725, 2.23786602],\n",
       "       [1.34488063, 3.52052211, 2.13189523, 1.13082513]])"
      ]
     },
     "execution_count": 9,
     "metadata": {},
     "output_type": "execute_result"
    }
   ],
   "source": [
    "np.random.uniform(low=1,high=4,size=(4,4))"
   ]
  },
  {
   "cell_type": "code",
   "execution_count": 10,
   "metadata": {
    "collapsed": true
   },
   "outputs": [],
   "source": [
    "x=[1,5,3,2,1,8,9]"
   ]
  },
  {
   "cell_type": "code",
   "execution_count": 13,
   "metadata": {
    "collapsed": false
   },
   "outputs": [
    {
     "data": {
      "text/plain": [
       "8"
      ]
     },
     "execution_count": 13,
     "metadata": {},
     "output_type": "execute_result"
    }
   ],
   "source": [
    "np.random.choice(x)"
   ]
  },
  {
   "cell_type": "code",
   "execution_count": 66,
   "metadata": {
    "collapsed": false
   },
   "outputs": [
    {
     "data": {
      "text/plain": [
       "array([[-1.20845163,  1.28145972],\n",
       "       [ 0.97930818, -0.37849184],\n",
       "       [-0.65317039, -1.11253618],\n",
       "       [ 0.01926303,  0.36301373],\n",
       "       [-0.42591815,  1.65009177]])"
      ]
     },
     "execution_count": 66,
     "metadata": {},
     "output_type": "execute_result"
    }
   ],
   "source": [
    "np.random.randn(5,2)\n"
   ]
  },
  {
   "cell_type": "code",
   "execution_count": null,
   "metadata": {
    "collapsed": true
   },
   "outputs": [],
   "source": []
  },
  {
   "cell_type": "markdown",
   "metadata": {},
   "source": [
    "## Walk in a graph\n",
    "\n",
    "Given the following graph $G$, one needs extract a walk of a path of length $n$."
   ]
  },
  {
   "cell_type": "code",
   "execution_count": 67,
   "metadata": {
    "collapsed": true
   },
   "outputs": [],
   "source": [
    "import networkx as nx"
   ]
  },
  {
   "cell_type": "code",
   "execution_count": 72,
   "metadata": {
    "collapsed": false
   },
   "outputs": [],
   "source": [
    "G =nx.Graph()\n",
    "G.add_edge(0,1)\n",
    "G.add_edge(0,2)\n",
    "G.add_edge(0,3)\n",
    "G.add_edge(1,0)\n",
    "G.add_edge(1,3)\n",
    "G.add_edge(3,0)\n",
    "G.add_edge(3,1)\n",
    "G.add_edge(2,0)\n",
    "\n"
   ]
  },
  {
   "cell_type": "code",
   "execution_count": 5,
   "metadata": {
    "collapsed": false
   },
   "outputs": [
    {
     "ename": "NameError",
     "evalue": "name 'nx' is not defined",
     "output_type": "error",
     "traceback": [
      "\u001b[0;31m---------------------------------------------------------------------------\u001b[0m",
      "\u001b[0;31mNameError\u001b[0m                                 Traceback (most recent call last)",
      "\u001b[0;32m<ipython-input-5-eb2411727b27>\u001b[0m in \u001b[0;36m<module>\u001b[0;34m()\u001b[0m\n\u001b[1;32m      1\u001b[0m \u001b[0;32mimport\u001b[0m \u001b[0mmatplotlib\u001b[0m\u001b[0;34m.\u001b[0m\u001b[0mpyplot\u001b[0m \u001b[0;32mas\u001b[0m \u001b[0mplt\u001b[0m\u001b[0;34m\u001b[0m\u001b[0m\n\u001b[0;32m----> 2\u001b[0;31m \u001b[0mnx\u001b[0m\u001b[0;34m.\u001b[0m\u001b[0mdraw_networkx\u001b[0m\u001b[0;34m(\u001b[0m\u001b[0mG\u001b[0m\u001b[0;34m,\u001b[0m\u001b[0mwith_labels\u001b[0m\u001b[0;34m=\u001b[0m\u001b[0;32mTrue\u001b[0m\u001b[0;34m)\u001b[0m\u001b[0;34m\u001b[0m\u001b[0m\n\u001b[0m\u001b[1;32m      3\u001b[0m \u001b[0mplt\u001b[0m\u001b[0;34m.\u001b[0m\u001b[0maxis\u001b[0m\u001b[0;34m(\u001b[0m\u001b[0;34m'off'\u001b[0m\u001b[0;34m)\u001b[0m\u001b[0;34m\u001b[0m\u001b[0m\n\u001b[1;32m      4\u001b[0m \u001b[0mplt\u001b[0m\u001b[0;34m.\u001b[0m\u001b[0mshow\u001b[0m\u001b[0;34m(\u001b[0m\u001b[0;34m)\u001b[0m\u001b[0;34m\u001b[0m\u001b[0m\n",
      "\u001b[0;31mNameError\u001b[0m: name 'nx' is not defined"
     ]
    }
   ],
   "source": [
    "import matplotlib.pyplot as plt\n",
    "nx.draw_networkx(G,with_labels=True)\n",
    "plt.axis('off')\n",
    "plt.show()"
   ]
  },
  {
   "cell_type": "code",
   "execution_count": 98,
   "metadata": {
    "collapsed": false
   },
   "outputs": [
    {
     "data": {
      "text/plain": [
       "NodeView((0, 1, 2, 3))"
      ]
     },
     "execution_count": 98,
     "metadata": {},
     "output_type": "execute_result"
    }
   ],
   "source": [
    "G.nodes()"
   ]
  },
  {
   "cell_type": "markdown",
   "metadata": {},
   "source": [
    "### b) Random walk"
   ]
  },
  {
   "cell_type": "code",
   "execution_count": 157,
   "metadata": {
    "collapsed": false
   },
   "outputs": [
    {
     "data": {
      "text/plain": [
       "[2, 0, 2, 0, 2, 0, 3, 0]"
      ]
     },
     "execution_count": 157,
     "metadata": {},
     "output_type": "execute_result"
    }
   ],
   "source": [
    "n_step=8\n",
    "rand_path=[]\n",
    "current_node=np.random.choice(G.node())\n",
    "for i in range(n_step):\n",
    "    rand_path.append(current_node)\n",
    "    current_node=np.random.choice(list(G.neighbors(current_node)))\n",
    "rand_path"
   ]
  },
  {
   "cell_type": "code",
   "execution_count": 103,
   "metadata": {
    "collapsed": false
   },
   "outputs": [
    {
     "data": {
      "text/plain": [
       "{0: [1, 2, 3], 1: [0, 3], 2: [0], 3: [0, 1]}"
      ]
     },
     "execution_count": 103,
     "metadata": {},
     "output_type": "execute_result"
    }
   ],
   "source": [
    "dict_G={}\n",
    "for node in G.nodes():\n",
    "    dict_G[node]=list(G.neighbors(node))\n",
    "dict_G"
   ]
  },
  {
   "cell_type": "markdown",
   "metadata": {},
   "source": [
    "## <font color=\"blue\">B-Monte Carlo (MC)</font>\n",
    "\n",
    "MC is a computational method that relies on generated random sampling to obtain numerical results. It uses randomness to solve problems that might be deterministic. They are most useful when it is difficult or impossible to use other approaches. \n",
    "\n",
    "<b>Monte Carlo:</b>\n",
    "<font color=\"blue\">\n",
    "<ul>\n",
    "<li>Optimizes.</li>\n",
    "<li>Performs numerical integration.</li>\n",
    "<li>Generates samples from a probability distribution.</li>\n",
    "</ul>\n",
    "</font>"
   ]
  },
  {
   "cell_type": "markdown",
   "metadata": {},
   "source": [
    "## B.0- Numerical Integration\n",
    "\n",
    "Integrals are trivial to compute using a MC. A bounded integration of a function is the area under this function within a polygone. Thus, to find the area under a curve (function), one needs to create a bounding box (polygone) that contains the function (curve) in the desired interval.  You can use MC to numerically integrate any function, even non-integrable and noncontinuous functions."
   ]
  },
  {
   "cell_type": "markdown",
   "metadata": {},
   "source": [
    "#### Example\n",
    "\n",
    "Suppose we want to know the area under the curve $y=\\int  (x^2+1) \\, \\mathrm{d}x$ in  [0, 2]. The area is computed with the definite integral $\\int_0^2  (x^2+1)\\, \\mathrm{d}x$."
   ]
  },
  {
   "cell_type": "markdown",
   "metadata": {},
   "source": [
    "### a) Deterministic method"
   ]
  },
  {
   "cell_type": "code",
   "execution_count": 3,
   "metadata": {
    "collapsed": false
   },
   "outputs": [],
   "source": [
    "def f(x):\n",
    "    return x**2+1"
   ]
  },
  {
   "cell_type": "code",
   "execution_count": 7,
   "metadata": {
    "collapsed": false
   },
   "outputs": [
    {
     "data": {
      "text/plain": [
       "4.664667"
      ]
     },
     "execution_count": 7,
     "metadata": {},
     "output_type": "execute_result"
    }
   ],
   "source": [
    "dx=0.001\n",
    "x=y=np.arange(0,2,dx)\n",
    "y=f(x)\n",
    "np.sum(y)*dx"
   ]
  },
  {
   "cell_type": "markdown",
   "metadata": {},
   "source": [
    "### b) Random method\n",
    "\n",
    "Generate randomly positioned point within a rectangle, and compute the ratio of points that fall under the curve. Its accuracy depends on the number of points generated: a few thousand points will give you a fairly accurate result."
   ]
  },
  {
   "cell_type": "code",
   "execution_count": 8,
   "metadata": {
    "collapsed": false
   },
   "outputs": [
    {
     "data": {
      "image/png": "[encoded data removed]",
      "text/plain": [
       "<Figure size 432x288 with 1 Axes>"
      ]
     },
     "metadata": {},
     "output_type": "display_data"
    }
   ],
   "source": [
    "xmin=0\n",
    "xmax=2\n",
    "ymin=0\n",
    "ymax=f(xmax)\n",
    "N=200000\n",
    "xdata=np.random.uniform(xmin,xmax,N)\n",
    "ydata=np.random.uniform(ymin,ymax,N)\n",
    "plt.plot(x,y)\n",
    "eye=ydata<=f(xdata)\n",
    "plt.scatter(xdata[eye],ydata[eye],marker=',',edgecolors='r',s=2)\n",
    "plt.scatter(xdata[~eye],ydata[~eye],marker=',',edgecolors='g',s=2)\n",
    "\n",
    "plt.axis('off')\n",
    "plt.show()"
   ]
  },
  {
   "cell_type": "code",
   "execution_count": 9,
   "metadata": {
    "collapsed": false
   },
   "outputs": [
    {
     "data": {
      "text/plain": [
       "4.6747499999999995"
      ]
     },
     "execution_count": 9,
     "metadata": {},
     "output_type": "execute_result"
    }
   ],
   "source": [
    "box_area=(xmax-xmin)*(ymax-ymin)\n",
    "counter=0\n",
    "for i in range(N):\n",
    "    if ydata[i]<=f(xdata[i]):\n",
    "        counter+=1\n",
    "fnArea=box_area*(counter/N)\n",
    "fnArea"
   ]
  },
  {
   "cell_type": "markdown",
   "metadata": {},
   "source": [
    "## B.1- Approximation of $\\pi$\n",
    "\n",
    "Let's estimate the value of $\\pi$ by finding the area of a circle of radius r bounded a square. The area of the square is is $A= 4r^2$. We also know that the surface of a circle is $C = \\pi r^2$, so we compute $\\pi = C / r^2$. \n",
    "\n",
    "The approach is to generate a set of uniformly distributed random points within the box, and count how many fall inside the circle."
   ]
  },
  {
   "cell_type": "code",
   "execution_count": 10,
   "metadata": {
    "collapsed": false
   },
   "outputs": [
    {
     "data": {
      "image/png": "[encoded data removed]",
      "text/plain": [
       "<Figure size 432x288 with 1 Axes>"
      ]
     },
     "metadata": {},
     "output_type": "display_data"
    }
   ],
   "source": [
    "N=200000\n",
    "radius =  1\n",
    "box_area = (2*radius)**2\n",
    "#poits inside the box\n",
    "points = np.random.uniform(-radius,radius,(N,2))\n",
    "#distance from (0,0)\n",
    "distances = np.linalg.norm(points,axis=1)\n",
    "in_circle = distances < radius\n",
    "\n",
    "#plot\n",
    "plt.scatter(points[in_circle,0],points[in_circle, 1],marker=',',edgecolors='r',s=2)\n",
    "plt.scatter(points[~in_circle,0],points[~in_circle, 1],marker=',',edgecolors='b',s=2)\n",
    "plt.axis('equal')\n",
    "plt.axis('off')\n",
    "plt.show()"
   ]
  },
  {
   "cell_type": "code",
   "execution_count": 11,
   "metadata": {
    "collapsed": false
   },
   "outputs": [
    {
     "data": {
      "text/plain": [
       "(3.14218, 4)"
      ]
     },
     "execution_count": 11,
     "metadata": {},
     "output_type": "execute_result"
    }
   ],
   "source": [
    "number_points_inside_circle=np.count_nonzero(in_circle)\n",
    "#surface of area \n",
    "circle_area=box_area*(float(number_points_inside_circle)/N)\n",
    "circle_area,box_area"
   ]
  },
  {
   "cell_type": "code",
   "execution_count": 158,
   "metadata": {
    "collapsed": false
   },
   "outputs": [
    {
     "data": {
      "text/plain": [
       "3.1422"
      ]
     },
     "execution_count": 158,
     "metadata": {},
     "output_type": "execute_result"
    }
   ],
   "source": [
    "approx_pi=circle_area/(radius**2);approx_pi"
   ]
  },
  {
   "cell_type": "markdown",
   "metadata": {},
   "source": [
    "### Exercise\n",
    "\n",
    "Propose Python code that distributes 10 scholarships to 50 AIMS students. "
   ]
  },
  {
   "cell_type": "code",
   "execution_count": 181,
   "metadata": {
    "collapsed": false
   },
   "outputs": [
    {
     "name": "stderr",
     "output_type": "stream",
     "text": [
      "/usr/lib/python3/dist-packages/ipykernel/__main__.py:2: DeprecationWarning: This function is deprecated. Please call randint(1, 50 + 1) instead\n",
      "  from ipykernel import kernelapp as app\n"
     ]
    },
    {
     "data": {
      "text/plain": [
       "array([27, 14, 10, 41, 31, 36, 22, 39, 46, 48])"
      ]
     },
     "execution_count": 181,
     "metadata": {},
     "output_type": "execute_result"
    }
   ],
   "source": [
    "# your answer\n",
    "np.random.random_integers(1,50,10)"
   ]
  },
  {
   "cell_type": "code",
   "execution_count": 13,
   "metadata": {
    "collapsed": false
   },
   "outputs": [
    {
     "data": {
      "text/plain": [
       "array([30,  9, 35, 17, 41, 45, 28, 18,  3, 24])"
      ]
     },
     "execution_count": 13,
     "metadata": {},
     "output_type": "execute_result"
    }
   ],
   "source": [
    "np.random.choice(51,10,replace=False)"
   ]
  },
  {
   "cell_type": "code",
   "execution_count": 182,
   "metadata": {
    "collapsed": false
   },
   "outputs": [],
   "source": [
    "x=5"
   ]
  },
  {
   "cell_type": "markdown",
   "metadata": {},
   "source": [
    "#### A list of ages contains 1700 values which represent the ages of 1700 AIMS alumunies. One needs to Know  the percentage of those who are under 30 years old by only extracting 300 out of 1700. propose two solutions to solve this problem. Which method is best ?why?"
   ]
  },
  {
   "cell_type": "code",
   "execution_count": 37,
   "metadata": {
    "collapsed": false
   },
   "outputs": [
    {
     "data": {
      "text/plain": [
       "(345.6666666666667, 402)"
      ]
     },
     "execution_count": 37,
     "metadata": {},
     "output_type": "execute_result"
    }
   ],
   "source": [
    "import numpy as np\n",
    "ages=np.random.randint(22,60,1700)\n",
    "counter=ages<=30\n",
    "a=np.count_nonzero(counter)\n",
    "portion_ages=np.random.choice(ages,300,replace=False)\n",
    "counter_=portion_ages<=30\n",
    "np.count_nonzero(counter_)*(1700/300) ,a"
   ]
  },
  {
   "cell_type": "code",
   "execution_count": null,
   "metadata": {
    "collapsed": true
   },
   "outputs": [],
   "source": []
  },
  {
   "cell_type": "markdown",
   "metadata": {},
   "source": [
    "### Exercises"
   ]
  },
  {
   "cell_type": "markdown",
   "metadata": {},
   "source": [
    "For each of the questions students should do the following:\n",
    "\n",
    "* specifications\n",
    "* algorithms\n",
    "* Python codes\n",
    "* testing\n",
    "* debugging \n",
    "* and documentation\n",
    "\n",
    "### Data generation\n",
    "\n",
    "Given a representative sample from a normal distribution (population). A sample is representative when it possesses all the necessary information of its population. Let assume the unknown population has 500 items and the sample is given by\n",
    "\n",
    "25.125,  14.947,  10.047 ,  15.725, 12.841,  14.436,  20.00,  20.221, 20.322,  23.703,  \n",
    "15.287,  20.659, 12.658,  13.987,  18.174,  20.179, 21.264,   5.227,  16.916,  16.658\n",
    "\n",
    "Propose two approaches to answer each of the following:\n",
    "\n",
    "1. the least frequent item of the population (not of the sample)\n",
    "2. items in the neighborhoud of the mean of the population with standard deviation of 1\n",
    "3. Repeat 1 and 2 (Python codes only) for N=1000, N=1200, N=1600, N=1800, N=2000 and N=2500\n",
    "4. Visualise information obtained from the above question using the most convenient representations.\n",
    "5. discuss the two approaches proposed."
   ]
  },
  {
   "cell_type": "markdown",
   "metadata": {},
   "source": [
    "### Approximation\n",
    "\n",
    "#### Newton\n",
    "\n",
    "Recall the Newton-Raphson method for approximating a root of function f.\n",
    "\n",
    "1. Use iteration to implement the method. Assume that you have procedures to return the values of f(x ) and f'(x ), given the value of x.\n",
    "2. Show, by example, perhaps on a graph, that it is possible for the algorithm not to terminate.\n",
    "3. Is it possible for the loop to terminate and not return the right answer? Give an example.\n",
    "4. Specifying your implementation of the Newton-Raphson method. Those examples demonstrate the importance of this specification: it tells the user of the method when the method returns an accurate answer. Thus it must make some assumptions about the function f ."
   ]
  },
  {
   "cell_type": "markdown",
   "metadata": {},
   "source": [
    "#### Numerical integration\n",
    "\n",
    "1. Find a numerical solution to evaluate the area under the curve $y= \\frac{1}{x^2}$ in [-2, 2]. \n",
    "2. Find a numerical solution to evaluate the area under the curve $y= \\mathrm{e}^{\\sin(x)}$ in [0, $\\pi$]. "
   ]
  },
  {
   "cell_type": "code",
   "execution_count": null,
   "metadata": {
    "collapsed": true
   },
   "outputs": [],
   "source": []
  }
 ],
 "metadata": {
  "kernelspec": {
   "display_name": "Python 3",
   "language": "python",
   "name": "python3"
  },
  "language_info": {
   "codemirror_mode": {
    "name": "ipython",
    "version": 3
   },
   "file_extension": ".py",
   "mimetype": "text/x-python",
   "name": "python",
   "nbconvert_exporter": "python",
   "pygments_lexer": "ipython3",
   "version": "3.5.3"
  }
 },
 "nbformat": 4,
 "nbformat_minor": 2
}
