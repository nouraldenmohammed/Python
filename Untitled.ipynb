{
 "cells": [
  {
   "cell_type": "code",
   "execution_count": 27,
   "metadata": {
    "collapsed": false
   },
   "outputs": [],
   "source": [
    "def freq(l):\n",
    "    y=set([(x,l.count(x) ) for x in l if l.count(x)>1 and str(x).isdigit() ])\n",
    "    return y"
   ]
  },
  {
   "cell_type": "code",
   "execution_count": 28,
   "metadata": {
    "collapsed": true
   },
   "outputs": [],
   "source": [
    "z=[1,2,2,3,3,3,.4,.4,.4,.4,.4]"
   ]
  },
  {
   "cell_type": "code",
   "execution_count": 20,
   "metadata": {
    "collapsed": false
   },
   "outputs": [
    {
     "data": {
      "text/plain": [
       "5"
      ]
     },
     "execution_count": 20,
     "metadata": {},
     "output_type": "execute_result"
    }
   ],
   "source": [
    "#count : it count the how many times the number occures\n",
    "z.count(4)"
   ]
  },
  {
   "cell_type": "code",
   "execution_count": 25,
   "metadata": {
    "collapsed": false
   },
   "outputs": [
    {
     "data": {
      "text/plain": [
       "{1, 2, 3, 4}"
      ]
     },
     "execution_count": 25,
     "metadata": {},
     "output_type": "execute_result"
    }
   ],
   "source": [
    "#set : return the number in the list without repetition\n",
    "set(z)"
   ]
  },
  {
   "cell_type": "code",
   "execution_count": 29,
   "metadata": {
    "collapsed": false
   },
   "outputs": [
    {
     "data": {
      "text/plain": [
       "{(2, 2), (3, 3)}"
      ]
     },
     "execution_count": 29,
     "metadata": {},
     "output_type": "execute_result"
    }
   ],
   "source": [
    "freq(z)"
   ]
  },
  {
   "cell_type": "code",
   "execution_count": 1,
   "metadata": {
    "collapsed": true
   },
   "outputs": [],
   "source": [
    "import random"
   ]
  },
  {
   "cell_type": "code",
   "execution_count": 34,
   "metadata": {
    "collapsed": false
   },
   "outputs": [
    {
     "data": {
      "text/plain": [
       "True"
      ]
     },
     "execution_count": 34,
     "metadata": {},
     "output_type": "execute_result"
    }
   ],
   "source": [
    "str(x).isdigit()"
   ]
  },
  {
   "cell_type": "code",
   "execution_count": 36,
   "metadata": {
    "collapsed": false
   },
   "outputs": [
    {
     "data": {
      "text/plain": [
       "3"
      ]
     },
     "execution_count": 36,
     "metadata": {},
     "output_type": "execute_result"
    }
   ],
   "source": [
    "random.choice([1,2,3])\n",
    "\n"
   ]
  },
  {
   "cell_type": "markdown",
   "metadata": {},
   "source": [
    "$\n",
    "\\documentclass[10pt,a4paper]{report}\n",
    "\\usepackage[latin1]{inputenc}\n",
    "\\usepackage{amsmath}\n",
    "\\usepackage{amsfonts}\n",
    "\\usepackage{amssymb}\n",
    "\\usepackage{graphicx}\n",
    "\\usepackage{tikz}\n",
    "\\usetikzlibrary{arrows}\n",
    "\\begin{document}\n",
    "\\begin{tikzpicture}[->,>=stealth',shorten >=1pt,auto,node distance=3cm,\n",
    "\tthick,main node/.style={circle,draw,font=\\sffamily\\Large\\bfseries}]\n",
    "\t\n",
    "\t\\node[main node] (1) {0};\n",
    "\t\\node[main node] (2) [below left of=1] {1};\n",
    "\t\\node[main node] (3) [below right of=2] {2};\n",
    "\t\\node[main node] (4) [below right of=1] {3};\n",
    "\t\n",
    "\t\\path[every node/.style={font=\\sffamily\\small}]\n",
    "\t(1) edge node  {} (4)\n",
    "\t(4) edge node  {} (1)\n",
    "\t\n",
    "\t(1) edge node [right] {} (3)\n",
    "\t(3) edge node [right] {} (1)\n",
    "\t(1) edge node [right] {} (2)\n",
    "\t(2) edge node [right] {} (1)\n",
    "\t\n",
    "\t(2) edge node [right] {} (4)\n",
    "\t(4) edge node [right] {} (2)\n",
    "\t;\n",
    "\t\\end{tikzpicture}\n",
    "\\end{document}$"
   ]
  },
  {
   "cell_type": "markdown",
   "metadata": {},
   "source": [
    "$\\exp(x)$"
   ]
  },
  {
   "cell_type": "code",
   "execution_count": 35,
   "metadata": {
    "collapsed": true
   },
   "outputs": [],
   "source": []
  },
  {
   "cell_type": "code",
   "execution_count": 39,
   "metadata": {
    "collapsed": false
   },
   "outputs": [],
   "source": [
    "vert={0:[1,2,3],1:[0,3],2:[0],3:[0,1]}"
   ]
  },
  {
   "cell_type": "code",
   "execution_count": 214,
   "metadata": {
    "collapsed": false
   },
   "outputs": [],
   "source": [
    "\n",
    "def visited_vertices(N):\n",
    "    import random\n",
    "    vert={0:[1,2,3],1:[0,3],2:[0],3:[0,1]}\n",
    "    v=random.choice(vert[0])\n",
    "    h=[0]\n",
    "    for i in range(N):\n",
    "        h.append(v)\n",
    "        v=random.choice(vert[v])\n",
    "        print(h)\n",
    "    freq=set([(x,h.count(x))  for x in h])    \n",
    "    print(freq)\n"
   ]
  },
  {
   "cell_type": "code",
   "execution_count": 220,
   "metadata": {
    "collapsed": false
   },
   "outputs": [
    {
     "name": "stdout",
     "output_type": "stream",
     "text": [
      "[0, 3]\n",
      "[0, 3, 0]\n",
      "{(3, 1), (0, 2)}\n"
     ]
    }
   ],
   "source": [
    "visited_vertices(2)\n"
   ]
  },
  {
   "cell_type": "code",
   "execution_count": 173,
   "metadata": {
    "collapsed": true
   },
   "outputs": [],
   "source": [
    "import random"
   ]
  },
  {
   "cell_type": "code",
   "execution_count": 94,
   "metadata": {
    "collapsed": false
   },
   "outputs": [
    {
     "data": {
      "text/plain": [
       "1"
      ]
     },
     "execution_count": 94,
     "metadata": {},
     "output_type": "execute_result"
    }
   ],
   "source": [
    "v=random.choice(vert[3]);v"
   ]
  },
  {
   "cell_type": "code",
   "execution_count": 206,
   "metadata": {
    "collapsed": false
   },
   "outputs": [
    {
     "data": {
      "text/plain": [
       "0.7550350740823142"
      ]
     },
     "execution_count": 206,
     "metadata": {},
     "output_type": "execute_result"
    }
   ],
   "source": []
  },
  {
   "cell_type": "code",
   "execution_count": null,
   "metadata": {
    "collapsed": true
   },
   "outputs": [],
   "source": []
  },
  {
   "cell_type": "code",
   "execution_count": null,
   "metadata": {
    "collapsed": true
   },
   "outputs": [],
   "source": []
  }
 ],
 "metadata": {
  "kernelspec": {
   "display_name": "Python 3",
   "language": "python",
   "name": "python3"
  },
  "language_info": {
   "codemirror_mode": {
    "name": "ipython",
    "version": 3
   },
   "file_extension": ".py",
   "mimetype": "text/x-python",
   "name": "python",
   "nbconvert_exporter": "python",
   "pygments_lexer": "ipython3",
   "version": "3.5.3"
  }
 },
 "nbformat": 4,
 "nbformat_minor": 2
}
