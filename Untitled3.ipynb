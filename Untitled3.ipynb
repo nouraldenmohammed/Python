{
 "cells": [
  {
   "cell_type": "code",
   "execution_count": 1,
   "metadata": {
    "collapsed": false
   },
   "outputs": [],
   "source": [
    "a=[1,4,4,5,5,5,6,6,6,6,6,7,8]"
   ]
  },
  {
   "cell_type": "code",
   "execution_count": 2,
   "metadata": {
    "collapsed": false
   },
   "outputs": [
    {
     "data": {
      "text/plain": [
       "{1: 1, 4: 2, 5: 3, 6: 5, 7: 1, 8: 1}"
      ]
     },
     "execution_count": 2,
     "metadata": {},
     "output_type": "execute_result"
    }
   ],
   "source": [
    "a=[1,4,4,5,5,5,6,6,6,6,6,7,8]\n",
    "{i:a.count(i) for i in a}"
   ]
  },
  {
   "cell_type": "code",
   "execution_count": 13,
   "metadata": {
    "collapsed": false
   },
   "outputs": [],
   "source": [
    "def occ(a):\n",
    "    a.sort()\n",
    "    i=0\n",
    "    A,B=[],[]\n",
    "    while i<len(a):\n",
    "        s=a[i]\n",
    "        count=1\n",
    "        for j in range(i+1,len(a)):\n",
    "            if s==a[j]:\n",
    "                count+=1\n",
    "        i+=count\n",
    "        A.append(s)\n",
    "        B.append(count)\n",
    "    for i in range(len(A)):\n",
    "        print(\"the number {0} occures {1}\" .format(A[i],B[i]))\n",
    "    "
   ]
  },
  {
   "cell_type": "code",
   "execution_count": 14,
   "metadata": {
    "collapsed": true
   },
   "outputs": [],
   "source": [
    "a=[6,7,6]"
   ]
  },
  {
   "cell_type": "code",
   "execution_count": 15,
   "metadata": {
    "collapsed": false
   },
   "outputs": [
    {
     "name": "stdout",
     "output_type": "stream",
     "text": [
      "the number 6 occures 2\n",
      "the number 7 occures 1\n"
     ]
    }
   ],
   "source": [
    "occ(a)"
   ]
  },
  {
   "cell_type": "markdown",
   "metadata": {},
   "source": [
    "$\\exp(x)$"
   ]
  },
  {
   "cell_type": "code",
   "execution_count": null,
   "metadata": {
    "collapsed": true
   },
   "outputs": [],
   "source": []
  }
 ],
 "metadata": {
  "kernelspec": {
   "display_name": "Python 3",
   "language": "python",
   "name": "python3"
  },
  "language_info": {
   "codemirror_mode": {
    "name": "ipython",
    "version": 3
   },
   "file_extension": ".py",
   "mimetype": "text/x-python",
   "name": "python",
   "nbconvert_exporter": "python",
   "pygments_lexer": "ipython3",
   "version": "3.5.3"
  }
 },
 "nbformat": 4,
 "nbformat_minor": 2
}
