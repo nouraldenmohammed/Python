{
 "cells": [
  {
   "cell_type": "markdown",
   "metadata": {},
   "source": [
    "# 05 User-defined data types"
   ]
  },
  {
   "cell_type": "markdown",
   "metadata": {},
   "source": [
    "A data type has attributes and methods associated with it. User-defined data types  are created using the `class` syntax.  "
   ]
  },
  {
   "cell_type": "markdown",
   "metadata": {},
   "source": [
    "_An example_. Suppose we want to represent students, perhaps AIMS students, in Python. Each student will have specific attributes and methods to access these attributes. For example, each student will have a name, a country, a list of courses, etc. We'll use the `class` syntax to create the `Student` data type."
   ]
  },
  {
   "cell_type": "code",
   "execution_count": 10,
   "metadata": {
    "collapsed": true
   },
   "outputs": [],
   "source": [
    "class Student:\n",
    "    def __init__(self,n,s,c):\n",
    "        self.name=n\n",
    "        self.surname=s\n",
    "        self.country=c\n",
    "        \n",
    "        "
   ]
  },
  {
   "cell_type": "code",
   "execution_count": 3,
   "metadata": {
    "collapsed": false
   },
   "outputs": [],
   "source": [
    "student1=Student()"
   ]
  },
  {
   "cell_type": "code",
   "execution_count": 11,
   "metadata": {
    "collapsed": false
   },
   "outputs": [],
   "source": [
    "student2=Student('Nouralden','Mohammed','Sudan')"
   ]
  },
  {
   "cell_type": "code",
   "execution_count": 13,
   "metadata": {
    "collapsed": false
   },
   "outputs": [
    {
     "data": {
      "text/plain": [
       "'Nouralden'"
      ]
     },
     "execution_count": 13,
     "metadata": {},
     "output_type": "execute_result"
    }
   ],
   "source": [
    "student2.name"
   ]
  },
  {
   "cell_type": "markdown",
   "metadata": {
    "collapsed": true
   },
   "source": [
    "A `Student` has attributes. We use the method `__init__` to create attributes for an instance of the class, and set them to the values we have passed as arguments. So now we can set up the `Student` to have a name, a surname and a country of origin."
   ]
  },
  {
   "cell_type": "code",
   "execution_count": null,
   "metadata": {
    "collapsed": true
   },
   "outputs": [],
   "source": []
  },
  {
   "cell_type": "code",
   "execution_count": null,
   "metadata": {
    "collapsed": false
   },
   "outputs": [],
   "source": []
  },
  {
   "cell_type": "markdown",
   "metadata": {
    "collapsed": false
   },
   "source": [
    "Note the explicit argument `self`. It is a self-referencing pointer which refers to the current class instance. \n",
    "In the __init__ method `self` refers to the newly created object. "
   ]
  },
  {
   "cell_type": "code",
   "execution_count": 17,
   "metadata": {
    "collapsed": false
   },
   "outputs": [
    {
     "name": "stdout",
     "output_type": "stream",
     "text": [
      "Nouralden Mohammed is from Sudan\n"
     ]
    }
   ],
   "source": [
    "print('{} {} is from {}'.format(student2.name,student2.surname,student2.country))"
   ]
  },
  {
   "cell_type": "code",
   "execution_count": null,
   "metadata": {
    "collapsed": false
   },
   "outputs": [],
   "source": []
  },
  {
   "cell_type": "code",
   "execution_count": null,
   "metadata": {
    "collapsed": false
   },
   "outputs": [],
   "source": []
  },
  {
   "cell_type": "markdown",
   "metadata": {},
   "source": [
    "Let's create a method that prints out the names and countries for all the objects of type `Student`."
   ]
  },
  {
   "cell_type": "code",
   "execution_count": 24,
   "metadata": {
    "collapsed": false
   },
   "outputs": [],
   "source": [
    "class Student:\n",
    "    skills_courses={'Python','Mathematical problem solving'}\n",
    "    def __init__(self,n,s,c):\n",
    "        self.name=n\n",
    "        self.surname=s\n",
    "        self.country=c\n",
    "        \n",
    "    def displayName(self):\n",
    "        return '{0} {1} is from {2}'.format(self.name,self.surname,self.country)"
   ]
  },
  {
   "cell_type": "code",
   "execution_count": 25,
   "metadata": {
    "collapsed": false
   },
   "outputs": [
    {
     "data": {
      "text/plain": [
       "'Samah Osman is from Sudan'"
      ]
     },
     "execution_count": 25,
     "metadata": {},
     "output_type": "execute_result"
    }
   ],
   "source": [
    "student1=Student('Mathews','Mwansa','Zambia')\n",
    "student2=Student('Samah','Osman','Sudan')\n",
    "student2.displayName()"
   ]
  },
  {
   "cell_type": "markdown",
   "metadata": {},
   "source": [
    "Now suppose you want to add a list of skill courses to the class. Skills courses are the same for all the students. \n",
    "\n",
    "First, create the class variable or set of skills courses. We'll put some courses in there in the meantime."
   ]
  },
  {
   "cell_type": "code",
   "execution_count": 26,
   "metadata": {
    "collapsed": false
   },
   "outputs": [
    {
     "data": {
      "text/plain": [
       "{'Mathematical problem solving', 'Python'}"
      ]
     },
     "execution_count": 26,
     "metadata": {},
     "output_type": "execute_result"
    }
   ],
   "source": [
    "student1.skills_courses"
   ]
  },
  {
   "cell_type": "code",
   "execution_count": null,
   "metadata": {
    "collapsed": true
   },
   "outputs": [],
   "source": []
  },
  {
   "cell_type": "code",
   "execution_count": null,
   "metadata": {
    "collapsed": false
   },
   "outputs": [],
   "source": []
  },
  {
   "cell_type": "code",
   "execution_count": null,
   "metadata": {
    "collapsed": false
   },
   "outputs": [],
   "source": []
  },
  {
   "cell_type": "code",
   "execution_count": null,
   "metadata": {
    "collapsed": false
   },
   "outputs": [],
   "source": []
  },
  {
   "cell_type": "markdown",
   "metadata": {},
   "source": [
    "Use the `@classmethod` decorator for a class method that modifies the class variable. We'll use a class method that refers to the class with `cls` instead of the class instance. "
   ]
  },
  {
   "cell_type": "code",
   "execution_count": null,
   "metadata": {
    "collapsed": true
   },
   "outputs": [],
   "source": []
  },
  {
   "cell_type": "code",
   "execution_count": null,
   "metadata": {
    "collapsed": true
   },
   "outputs": [],
   "source": []
  },
  {
   "cell_type": "code",
   "execution_count": 27,
   "metadata": {
    "collapsed": false
   },
   "outputs": [
    {
     "name": "stdout",
     "output_type": "stream",
     "text": [
      "Once deleted, variables cannot be recovered. Proceed (y/[n])? y\n"
     ]
    }
   ],
   "source": [
    "%reset"
   ]
  },
  {
   "cell_type": "markdown",
   "metadata": {},
   "source": [
    "Now we want to add review courses to the `Student` data type. Note, skills courses are different for each student. We'll use a method that refers to the class instance."
   ]
  },
  {
   "cell_type": "code",
   "execution_count": 63,
   "metadata": {
    "collapsed": true
   },
   "outputs": [],
   "source": [
    "  class Student:\n",
    "    skills_courses={'Python','Mathematical problem solving'}\n",
    "    def __init__(self,n,s,c):\n",
    "        self.name=n\n",
    "        self.surname=s\n",
    "        self.country=c\n",
    "        self.review_courses=set()\n",
    "        \n",
    "    def displayName(self):\n",
    "        return '{0} {1} is from {2}'.format(self.name,self.surname,self.country)\n",
    "    def addReviewCourse(self,crs):\n",
    "        self.review_courses.add(crs)"
   ]
  },
  {
   "cell_type": "code",
   "execution_count": 64,
   "metadata": {
    "collapsed": true
   },
   "outputs": [],
   "source": [
    "student1=Student('Mathews','Mwansa','Zambia')\n",
    "student2=Student('Samah','Osman','Sudan')"
   ]
  },
  {
   "cell_type": "code",
   "execution_count": 59,
   "metadata": {
    "collapsed": false
   },
   "outputs": [],
   "source": [
    "student1.addReviewCourse('A')"
   ]
  },
  {
   "cell_type": "code",
   "execution_count": 60,
   "metadata": {
    "collapsed": false
   },
   "outputs": [],
   "source": [
    "student1.addReviewCourse('B')"
   ]
  },
  {
   "cell_type": "code",
   "execution_count": 62,
   "metadata": {
    "collapsed": false
   },
   "outputs": [
    {
     "data": {
      "text/plain": [
       "{'A', 'B'}"
      ]
     },
     "execution_count": 62,
     "metadata": {},
     "output_type": "execute_result"
    }
   ],
   "source": [
    "student1.review_courses"
   ]
  },
  {
   "cell_type": "code",
   "execution_count": null,
   "metadata": {
    "collapsed": false
   },
   "outputs": [],
   "source": []
  },
  {
   "cell_type": "markdown",
   "metadata": {},
   "source": [
    "When defining a data type, there are some default attributes provided. Use `dir` to determine the default attributes and user-defined attributes and methods."
   ]
  },
  {
   "cell_type": "code",
   "execution_count": null,
   "metadata": {
    "collapsed": false
   },
   "outputs": [],
   "source": [
    "#dir(Student)"
   ]
  },
  {
   "cell_type": "code",
   "execution_count": null,
   "metadata": {
    "collapsed": false
   },
   "outputs": [],
   "source": []
  },
  {
   "cell_type": "code",
   "execution_count": null,
   "metadata": {
    "collapsed": true
   },
   "outputs": [],
   "source": []
  },
  {
   "cell_type": "markdown",
   "metadata": {},
   "source": [
    "## Exercise "
   ]
  },
  {
   "cell_type": "markdown",
   "metadata": {},
   "source": [
    "_The exercise can be found on pages 86 and 87 of the Programming through Design Space book that is available online._"
   ]
  },
  {
   "cell_type": "markdown",
   "metadata": {
    "collapsed": true
   },
   "source": [
    "**Banking.** \n",
    "The purpose of this exercise is to design a data type to manage _a\n",
    "single bank account_. The account is to be held in US dollars, $USD$,\n",
    "but to function in the currencies of the AIMS centres,\n",
    "$$Currency := \\{GHS, RWF, TZS, XAF, XOF, ZAR \\},$$ \n",
    "which may be assumed to satisfy:\n",
    "\n",
    "\n",
    "![alt text](currencytable.png \"Title\")\n",
    "\n",
    "The module is to support these operations, with balance in USD.\n",
    "\n",
    "- $Clear (x , c)$. Set the account to 0 USD and output as x the previous balance converted to currency c : Currency.\n",
    "\n",
    "- $Deposit (x , c)$ Deposit the amount x in nominated currency c :\n",
    "Currency into the account (in USD).\n",
    "\n",
    "- $Withdraw (x , c)$. Withdraw the amount x in nominated currency\n",
    "c : Currency from the account provided the balance remains non-\n",
    "negative; otherwise the transaction fails.\n",
    "\n",
    "    (a). Specify those operations. What are their preconditions?\n",
    "    \n",
    "    (b). Implement a procedure to convert between c : Currency and USD, and conversely. What is the type of your procedure?\n",
    "    \n",
    "    (c). Implement (and test) each operation."
   ]
  },
  {
   "cell_type": "code",
   "execution_count": 33,
   "metadata": {
    "collapsed": false
   },
   "outputs": [],
   "source": [
    "class Banking:\n",
    "    Currency={'GHS':3.899,'RWF':804.320,'TZS':2139.200,'XAF':587.570,'XOF':587.570,'ZAR':13.437}\n",
    "    def __init__(self):\n",
    "        self.x=0\n",
    "    def clear(self,x,c):\n",
    "        self.x=0\n",
    "        return (self.Currency[c]*x)\n",
    "    def Deposit(self,c,s=0):\n",
    "        self.x+=float(s)*float(self.Currency[c])\n",
    "        return self.x\n",
    "    def Withdraw(self,c,s=0):\n",
    "        self.x-=float(s)*float(self.Currency[c])\n",
    "        return self.x\n",
    "    \n",
    "    "
   ]
  },
  {
   "cell_type": "code",
   "execution_count": 34,
   "metadata": {
    "collapsed": false
   },
   "outputs": [],
   "source": [
    "Mathews=Banking()"
   ]
  },
  {
   "cell_type": "code",
   "execution_count": 27,
   "metadata": {
    "collapsed": false
   },
   "outputs": [
    {
     "data": {
      "text/plain": [
       "8610548.0"
      ]
     },
     "execution_count": 27,
     "metadata": {},
     "output_type": "execute_result"
    }
   ],
   "source": [
    "Mathews.Deposit('ZAR',1000)"
   ]
  },
  {
   "cell_type": "code",
   "execution_count": 19,
   "metadata": {
    "collapsed": false
   },
   "outputs": [
    {
     "data": {
      "text/plain": [
       "21392.0"
      ]
     },
     "execution_count": 19,
     "metadata": {},
     "output_type": "execute_result"
    }
   ],
   "source": [
    "Mathews.clear(10,'TZS')"
   ]
  },
  {
   "cell_type": "code",
   "execution_count": 39,
   "metadata": {
    "collapsed": false
   },
   "outputs": [
    {
     "data": {
      "text/plain": [
       "21372747200.0"
      ]
     },
     "execution_count": 39,
     "metadata": {},
     "output_type": "execute_result"
    }
   ],
   "source": [
    "Mathews.Deposit('TZS',10000000)"
   ]
  },
  {
   "cell_type": "code",
   "execution_count": 29,
   "metadata": {
    "collapsed": false
   },
   "outputs": [
    {
     "data": {
      "text/plain": [
       "8610548.0"
      ]
     },
     "execution_count": 29,
     "metadata": {},
     "output_type": "execute_result"
    }
   ],
   "source": [
    "Mathews.x"
   ]
  },
  {
   "cell_type": "code",
   "execution_count": 64,
   "metadata": {
    "collapsed": false
   },
   "outputs": [
    {
     "data": {
      "text/plain": [
       "2085720000.0000002"
      ]
     },
     "execution_count": 64,
     "metadata": {},
     "output_type": "execute_result"
    }
   ],
   "source": [
    "Mathews.Withdraw('TZS',1000000)"
   ]
  },
  {
   "cell_type": "code",
   "execution_count": null,
   "metadata": {
    "collapsed": true
   },
   "outputs": [],
   "source": []
  },
  {
   "cell_type": "code",
   "execution_count": null,
   "metadata": {
    "collapsed": true
   },
   "outputs": [],
   "source": []
  }
 ],
 "metadata": {
  "kernelspec": {
   "display_name": "Python 3",
   "language": "python",
   "name": "python3"
  },
  "language_info": {
   "codemirror_mode": {
    "name": "ipython",
    "version": 3
   },
   "file_extension": ".py",
   "mimetype": "text/x-python",
   "name": "python",
   "nbconvert_exporter": "python",
   "pygments_lexer": "ipython3",
   "version": "3.5.3"
  }
 },
 "nbformat": 4,
 "nbformat_minor": 0
}
