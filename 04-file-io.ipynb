{
 "cells": [
  {
   "cell_type": "markdown",
   "metadata": {},
   "source": [
    "# File input and output"
   ]
  },
  {
   "cell_type": "markdown",
   "metadata": {},
   "source": [
    "This notebook describes interaction with Python file objects to read and write to files."
   ]
  },
  {
   "cell_type": "markdown",
   "metadata": {},
   "source": [
    "### Reading a file"
   ]
  },
  {
   "cell_type": "markdown",
   "metadata": {},
   "source": [
    "It is recommended to use a context manager (using `with` keyword) to open files. A context manager automatically closes the file, and will automatically close the file if any exceptions are thrown.\n",
    "\n",
    "The `open()` the file in `r`, `w`, `a` mode."
   ]
  },
  {
   "cell_type": "code",
   "execution_count": 5,
   "metadata": {
    "collapsed": false
   },
   "outputs": [
    {
     "name": "stdout",
     "output_type": "stream",
     "text": [
      "['49.9,1079\\n', '50.8,1146\\n', '51.8,1115\\n', '52.6,1161\\n', '57.6,1325\\n', '61.4,1351\\n', '62.3,1402\\n', '64.9,1365\\n', '43.1,870\\n', '48.1,1372\\n', '52.2,1132\\n', '53.5,1172\\n', '55,1034\\n', '55,1155\\n', '56,1392\\n', '57.8,1090\\n', '59,982\\n', '59,1178\\n', '59.2,1342\\n', '59.5,1027\\n', '60,1316\\n', '62.1,1574\\n', '64.9,1526\\n', '66,1268\\n', '66.4,1205\\n', '72.8,1382\\n', '74.8,1273\\n', '77.1,1439\\n', '82,1536\\n', '82,1151\\n', '83.4,1248\\n', '86.2,1466\\n', '88.6,1323\\n', '89.3,1300\\n', '91.6,1519\\n', '99.8,1639\\n', '103,1382\\n', '104.5,1414\\n', '107.7,1473\\n', '110.2,2074\\n', '122,1777\\n', '123.1,1640\\n', '125.2,1630\\n', '143.3,1708\\n']\n"
     ]
    }
   ],
   "source": [
    "f=open('weight-and-metabolic.csv','r')\n",
    "print(f.readlines())\n",
    "f.close()"
   ]
  },
  {
   "cell_type": "markdown",
   "metadata": {},
   "source": [
    "To read the entire file contents, can use `read()`."
   ]
  },
  {
   "cell_type": "code",
   "execution_count": 7,
   "metadata": {
    "collapsed": false
   },
   "outputs": [
    {
     "name": "stdout",
     "output_type": "stream",
     "text": [
      "49.9,1079\n",
      "50.8,1146\n",
      "51.8,1115\n",
      "52.6,1161\n",
      "57.6,1325\n",
      "61.4,1351\n",
      "62.3,1402\n",
      "64.9,1365\n",
      "43.1,870\n",
      "48.1,1372\n",
      "52.2,1132\n",
      "53.5,1172\n",
      "55,1034\n",
      "55,1155\n",
      "56,1392\n",
      "57.8,1090\n",
      "59,982\n",
      "59,1178\n",
      "59.2,1342\n",
      "59.5,1027\n",
      "60,1316\n",
      "62.1,1574\n",
      "64.9,1526\n",
      "66,1268\n",
      "66.4,1205\n",
      "72.8,1382\n",
      "74.8,1273\n",
      "77.1,1439\n",
      "82,1536\n",
      "82,1151\n",
      "83.4,1248\n",
      "86.2,1466\n",
      "88.6,1323\n",
      "89.3,1300\n",
      "91.6,1519\n",
      "99.8,1639\n",
      "103,1382\n",
      "104.5,1414\n",
      "107.7,1473\n",
      "110.2,2074\n",
      "122,1777\n",
      "123.1,1640\n",
      "125.2,1630\n",
      "143.3,1708\n",
      "\n"
     ]
    }
   ],
   "source": [
    "f=open('weight-and-metabolic.csv','r')\n",
    "print(f.read())\n",
    "f.close()"
   ]
  },
  {
   "cell_type": "markdown",
   "metadata": {},
   "source": [
    "Or read with the function `readlines()` that returns a list with elements appended with the newline character."
   ]
  },
  {
   "cell_type": "code",
   "execution_count": null,
   "metadata": {
    "collapsed": false
   },
   "outputs": [],
   "source": []
  },
  {
   "cell_type": "markdown",
   "metadata": {},
   "source": [
    "Or read the file contents line by line with `readline()`.\n",
    "\n",
    "Read one line."
   ]
  },
  {
   "cell_type": "code",
   "execution_count": 9,
   "metadata": {
    "collapsed": false
   },
   "outputs": [
    {
     "name": "stdout",
     "output_type": "stream",
     "text": [
      "49.9,1079\n",
      "\n",
      "50.8,1146\n",
      "\n",
      "51.8,1115\n",
      "\n",
      "52.6,1161\n",
      "\n",
      "57.6,1325\n",
      "\n",
      "61.4,1351\n",
      "\n",
      "62.3,1402\n",
      "\n",
      "64.9,1365\n",
      "\n",
      "43.1,870\n",
      "\n",
      "48.1,1372\n",
      "\n",
      "52.2,1132\n",
      "\n",
      "53.5,1172\n",
      "\n",
      "55,1034\n",
      "\n",
      "55,1155\n",
      "\n",
      "56,1392\n",
      "\n",
      "57.8,1090\n",
      "\n",
      "59,982\n",
      "\n",
      "59,1178\n",
      "\n",
      "59.2,1342\n",
      "\n",
      "59.5,1027\n",
      "\n",
      "60,1316\n",
      "\n",
      "62.1,1574\n",
      "\n",
      "64.9,1526\n",
      "\n",
      "66,1268\n",
      "\n",
      "66.4,1205\n",
      "\n",
      "72.8,1382\n",
      "\n",
      "74.8,1273\n",
      "\n",
      "77.1,1439\n",
      "\n",
      "82,1536\n",
      "\n",
      "82,1151\n",
      "\n",
      "83.4,1248\n",
      "\n",
      "86.2,1466\n",
      "\n",
      "88.6,1323\n",
      "\n",
      "89.3,1300\n",
      "\n",
      "91.6,1519\n",
      "\n",
      "99.8,1639\n",
      "\n",
      "103,1382\n",
      "\n",
      "104.5,1414\n",
      "\n",
      "107.7,1473\n",
      "\n",
      "110.2,2074\n",
      "\n",
      "122,1777\n",
      "\n",
      "123.1,1640\n",
      "\n",
      "125.2,1630\n",
      "\n",
      "143.3,1708\n",
      "\n"
     ]
    }
   ],
   "source": [
    "f=open('weight-and-metabolic.csv','r')\n",
    "for i in f:\n",
    "    print(i)\n",
    "f.close()"
   ]
  },
  {
   "cell_type": "code",
   "execution_count": null,
   "metadata": {
    "collapsed": false
   },
   "outputs": [],
   "source": []
  },
  {
   "cell_type": "markdown",
   "metadata": {},
   "source": [
    "Control the number of characters read with the function `read()`."
   ]
  },
  {
   "cell_type": "code",
   "execution_count": 10,
   "metadata": {
    "collapsed": false
   },
   "outputs": [
    {
     "name": "stdout",
     "output_type": "stream",
     "text": [
      "Once deleted, variables cannot be recovered. Proceed (y/[n])? y\n"
     ]
    }
   ],
   "source": [
    "%reset"
   ]
  },
  {
   "cell_type": "code",
   "execution_count": null,
   "metadata": {
    "collapsed": false
   },
   "outputs": [],
   "source": []
  },
  {
   "cell_type": "code",
   "execution_count": null,
   "metadata": {
    "collapsed": true
   },
   "outputs": [],
   "source": []
  },
  {
   "cell_type": "markdown",
   "metadata": {},
   "source": [
    "### Writing to a file"
   ]
  },
  {
   "cell_type": "code",
   "execution_count": 12,
   "metadata": {
    "collapsed": false
   },
   "outputs": [
    {
     "name": "stdout",
     "output_type": "stream",
     "text": [
      "Africa is storied landscape\n",
      "Nouralden\n",
      "\n"
     ]
    }
   ],
   "source": [
    "with open(\"text.txt\",'w') as f:\n",
    "    f.write(\"Africa is storied landscape\")\n",
    "    f.write(\"\\nNouralden\\n\")\n",
    "with open(\"text.txt\",'r') as f:\n",
    "    print(f.read())"
   ]
  },
  {
   "cell_type": "markdown",
   "metadata": {},
   "source": [
    "### Reading and writing"
   ]
  },
  {
   "cell_type": "markdown",
   "metadata": {},
   "source": [
    "Combining reading and writing. Determine the average weight and average metabolic rate, and write the results to a file."
   ]
  },
  {
   "cell_type": "code",
   "execution_count": null,
   "metadata": {
    "collapsed": false
   },
   "outputs": [],
   "source": [
    "%reset"
   ]
  },
  {
   "cell_type": "code",
   "execution_count": 93,
   "metadata": {
    "collapsed": false
   },
   "outputs": [],
   "source": [
    "f=open('weight-and-metabolic.csv','r') \n",
    "A, B = [], []\n",
    "for i in f:\n",
    "    a, b = i.split(',')\n",
    "    A.append(float(a))\n",
    "    B.append(float(b))\n",
    "avg_a=sum(A)/len(A)    \n",
    "avg_b=sum(B)/len(B) \n",
    "f.close()\n",
    "g=open('nouralden.csv','w')\n",
    "g.write(str(avg_a)+','+str(avg_b)+'\\n')\n",
    "g.close()"
   ]
  },
  {
   "cell_type": "code",
   "execution_count": 86,
   "metadata": {
    "collapsed": false
   },
   "outputs": [
    {
     "name": "stdout",
     "output_type": "stream",
     "text": [
      "['49.9', '50.8', '51.8', '52.6', '57.6', '61.4', '62.3', '64.9', '43.1', '48.1', '52.2', '53.5', '55', '55', '56', '57.8', '59', '59', '59.2', '59.5', '60', '62.1', '64.9', '66', '66.4', '72.8', '74.8', '77.1', '82', '82', '83.4', '86.2', '88.6', '89.3', '91.6', '99.8', '103', '104.5', '107.7', '110.2', '122', '123.1', '125.2', '143.3']\n"
     ]
    }
   ],
   "source": [
    "#import pandas as pd\n",
    "f=open('weight-and-metabolic.csv','r') \n",
    "A, B = [], []\n",
    "for i in f:\n",
    "    a,b=i.split(',')\n",
    "    A.append(a)\n",
    "    B.append(b)\n",
    "print(A)"
   ]
  },
  {
   "cell_type": "markdown",
   "metadata": {},
   "source": [
    "### Exercise"
   ]
  },
  {
   "cell_type": "code",
   "execution_count": 26,
   "metadata": {
    "collapsed": false
   },
   "outputs": [
    {
     "ename": "IndexError",
     "evalue": "list index out of range",
     "output_type": "error",
     "traceback": [
      "\u001b[0;31m---------------------------------------------------------------------------\u001b[0m",
      "\u001b[0;31mIndexError\u001b[0m                                Traceback (most recent call last)",
      "\u001b[0;32m<ipython-input-26-561b712cb800>\u001b[0m in \u001b[0;36m<module>\u001b[0;34m()\u001b[0m\n\u001b[0;32m----> 1\u001b[0;31m \u001b[0mprint\u001b[0m\u001b[0;34m(\u001b[0m\u001b[0mf\u001b[0m\u001b[0;34m.\u001b[0m\u001b[0mreadlines\u001b[0m\u001b[0;34m(\u001b[0m\u001b[0;34m)\u001b[0m\u001b[0;34m[\u001b[0m\u001b[0;36m0\u001b[0m\u001b[0;34m]\u001b[0m\u001b[0;34m)\u001b[0m\u001b[0;34m\u001b[0m\u001b[0m\n\u001b[0m",
      "\u001b[0;31mIndexError\u001b[0m: list index out of range"
     ]
    }
   ],
   "source": []
  },
  {
   "cell_type": "markdown",
   "metadata": {},
   "source": [
    "Read the weight and height values from the file `weight-and-height.csv`. Determine the average weight and average height. Write the results to a new file. If you can find a better way to read and write files (i.e., with another module), do so."
   ]
  },
  {
   "cell_type": "code",
   "execution_count": null,
   "metadata": {
    "collapsed": true
   },
   "outputs": [],
   "source": []
  },
  {
   "cell_type": "markdown",
   "metadata": {},
   "source": [
    "## References"
   ]
  },
  {
   "cell_type": "markdown",
   "metadata": {},
   "source": [
    "[Python Tutorial: File Objects - Reading and Writing to Files](https://www.youtube.com/watch?v=Uh2ebFW8OYM)"
   ]
  },
  {
   "cell_type": "code",
   "execution_count": null,
   "metadata": {
    "collapsed": true
   },
   "outputs": [],
   "source": []
  }
 ],
 "metadata": {
  "kernelspec": {
   "display_name": "Python 3",
   "language": "python",
   "name": "python3"
  },
  "language_info": {
   "codemirror_mode": {
    "name": "ipython",
    "version": 3
   },
   "file_extension": ".py",
   "mimetype": "text/x-python",
   "name": "python",
   "nbconvert_exporter": "python",
   "pygments_lexer": "ipython3",
   "version": "3.5.3"
  }
 },
 "nbformat": 4,
 "nbformat_minor": 2
}
