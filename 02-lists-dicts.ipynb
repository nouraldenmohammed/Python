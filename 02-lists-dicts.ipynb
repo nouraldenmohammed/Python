{
 "cells": [
  {
   "cell_type": "markdown",
   "metadata": {},
   "source": [
    "# Lists, dictionaries, recursion"
   ]
  },
  {
   "cell_type": "code",
   "execution_count": null,
   "metadata": {
    "collapsed": true
   },
   "outputs": [],
   "source": []
  },
  {
   "cell_type": "markdown",
   "metadata": {},
   "source": [
    "This notebook discusses the topic of list comprehensions and introduces user-defined functions and dictionaries."
   ]
  },
  {
   "cell_type": "markdown",
   "metadata": {},
   "source": [
    "### User-defined functions"
   ]
  },
  {
   "cell_type": "markdown",
   "metadata": {},
   "source": [
    "A user-defined function uses the `def` keyword to define a function:\n",
    "\n",
    "    def functionName(arg1, arg2):\n",
    "        <function body>"
   ]
  },
  {
   "cell_type": "code",
   "execution_count": 1,
   "metadata": {
    "collapsed": true
   },
   "outputs": [],
   "source": [
    "def add1(x,y):\n",
    "    return x+y"
   ]
  },
  {
   "cell_type": "code",
   "execution_count": 2,
   "metadata": {
    "collapsed": false
   },
   "outputs": [
    {
     "data": {
      "text/plain": [
       "15"
      ]
     },
     "execution_count": 2,
     "metadata": {},
     "output_type": "execute_result"
    }
   ],
   "source": [
    "add1(8,7)"
   ]
  },
  {
   "cell_type": "code",
   "execution_count": 3,
   "metadata": {
    "collapsed": false
   },
   "outputs": [
    {
     "data": {
      "text/plain": [
       "90"
      ]
     },
     "execution_count": 3,
     "metadata": {},
     "output_type": "execute_result"
    }
   ],
   "source": [
    "add1(3,87)"
   ]
  },
  {
   "cell_type": "code",
   "execution_count": 4,
   "metadata": {
    "collapsed": true
   },
   "outputs": [],
   "source": [
    "def mul1(y,x=2):\n",
    "    return x*y"
   ]
  },
  {
   "cell_type": "code",
   "execution_count": 6,
   "metadata": {
    "collapsed": false
   },
   "outputs": [
    {
     "data": {
      "text/plain": [
       "50"
      ]
     },
     "execution_count": 6,
     "metadata": {},
     "output_type": "execute_result"
    }
   ],
   "source": [
    "mul1(10,5)"
   ]
  },
  {
   "cell_type": "markdown",
   "metadata": {},
   "source": [
    "### List Comprehension"
   ]
  },
  {
   "cell_type": "markdown",
   "metadata": {},
   "source": [
    "A list comprehension is a way to define a list. For example: $[x \\text{ from } \\mathbb{N} \\text{ }| \\text{  } exp(x)]$, lists those elements $x$, in order from $\\mathbb{N}$, which satisfy the expression $exp(x)$. "
   ]
  },
  {
   "cell_type": "code",
   "execution_count": 9,
   "metadata": {
    "collapsed": false
   },
   "outputs": [
    {
     "data": {
      "text/plain": [
       "[0, 1, 2, 3, 4, 5, 6, 7, 8, 9]"
      ]
     },
     "execution_count": 9,
     "metadata": {},
     "output_type": "execute_result"
    }
   ],
   "source": [
    "[i for i in range (10)] "
   ]
  },
  {
   "cell_type": "markdown",
   "metadata": {},
   "source": [
    "Expressions may include conditional statements."
   ]
  },
  {
   "cell_type": "code",
   "execution_count": 15,
   "metadata": {
    "collapsed": false
   },
   "outputs": [
    {
     "name": "stdout",
     "output_type": "stream",
     "text": [
      "[0, 2, 4, 6, 8]\n"
     ]
    }
   ],
   "source": [
    "numbers=[]\n",
    "for i in range(10):\n",
    "    if i%2==0:\n",
    "        numbers.append(i)\n",
    "       \n",
    "print(numbers)"
   ]
  },
  {
   "cell_type": "code",
   "execution_count": 5,
   "metadata": {
    "collapsed": false
   },
   "outputs": [],
   "source": [
    "l={i for i in range(10) if i%2==1}"
   ]
  },
  {
   "cell_type": "code",
   "execution_count": 7,
   "metadata": {
    "collapsed": false
   },
   "outputs": [],
   "source": []
  },
  {
   "cell_type": "markdown",
   "metadata": {},
   "source": [
    "Another example: create a list with odd numbers."
   ]
  },
  {
   "cell_type": "code",
   "execution_count": 2,
   "metadata": {
    "collapsed": false
   },
   "outputs": [
    {
     "data": {
      "text/plain": [
       "[1, 3, 5, 7, 9]"
      ]
     },
     "execution_count": 2,
     "metadata": {},
     "output_type": "execute_result"
    }
   ],
   "source": [
    "[i for i in range(10) if i%2==1]"
   ]
  },
  {
   "cell_type": "code",
   "execution_count": null,
   "metadata": {
    "collapsed": false
   },
   "outputs": [],
   "source": []
  },
  {
   "cell_type": "markdown",
   "metadata": {},
   "source": [
    "It is possible to have one expression followed by another expression. "
   ]
  },
  {
   "cell_type": "code",
   "execution_count": null,
   "metadata": {
    "collapsed": true
   },
   "outputs": [],
   "source": []
  },
  {
   "cell_type": "code",
   "execution_count": null,
   "metadata": {
    "collapsed": false
   },
   "outputs": [],
   "source": []
  },
  {
   "cell_type": "code",
   "execution_count": null,
   "metadata": {
    "collapsed": true
   },
   "outputs": [],
   "source": []
  },
  {
   "cell_type": "markdown",
   "metadata": {},
   "source": [
    "***NOTE***: Python also has set comprehension. It uses curly braces {} instead."
   ]
  },
  {
   "cell_type": "markdown",
   "metadata": {},
   "source": [
    "**Class exercise**. Generate the list elements using nested list comprehension.\n",
    "$$[x^y \\text{  }| \\text{  } x \\text{  } from \\text{  } range(4), \\text{  }even(x), \\text{  } y \\text{  } from \\text{  } [x+1, 4), \\text{  }odd(y)]$$"
   ]
  },
  {
   "cell_type": "code",
   "execution_count": 27,
   "metadata": {
    "collapsed": false
   },
   "outputs": [
    {
     "data": {
      "text/plain": [
       "[0, 0, 8]"
      ]
     },
     "execution_count": 27,
     "metadata": {},
     "output_type": "execute_result"
    }
   ],
   "source": [
    "[x**y for x in range(4)  if x%2==0 for y in range(x+1,4) if y%2==1 ]"
   ]
  },
  {
   "cell_type": "code",
   "execution_count": 26,
   "metadata": {
    "collapsed": false
   },
   "outputs": [
    {
     "name": "stdout",
     "output_type": "stream",
     "text": [
      "[0, 0, 8]\n"
     ]
    }
   ],
   "source": [
    "a=[]\n",
    "for x in range(4):\n",
    "    if x%2==0:\n",
    "        for y in range(x+1,4):\n",
    "            if y%2==1:\n",
    "                m=x**y\n",
    "                a.append(m)\n",
    "print(a)\n",
    "            "
   ]
  },
  {
   "cell_type": "code",
   "execution_count": 28,
   "metadata": {
    "collapsed": false
   },
   "outputs": [
    {
     "data": {
      "text/plain": [
       "[3]"
      ]
     },
     "execution_count": 28,
     "metadata": {},
     "output_type": "execute_result"
    }
   ],
   "source": [
    "[x]"
   ]
  },
  {
   "cell_type": "code",
   "execution_count": 20,
   "metadata": {
    "collapsed": true
   },
   "outputs": [],
   "source": [
    "alist=[[1,2,3],[4,5,6],[7,8,9]]"
   ]
  },
  {
   "cell_type": "code",
   "execution_count": 22,
   "metadata": {
    "collapsed": false
   },
   "outputs": [],
   "source": [
    "alist2=[y for x in alist for y in x]"
   ]
  },
  {
   "cell_type": "code",
   "execution_count": 23,
   "metadata": {
    "collapsed": false
   },
   "outputs": [
    {
     "data": {
      "text/plain": [
       "[1, 2, 3, 4, 5, 6, 7, 8, 9]"
      ]
     },
     "execution_count": 23,
     "metadata": {},
     "output_type": "execute_result"
    }
   ],
   "source": [
    "alist2"
   ]
  },
  {
   "cell_type": "markdown",
   "metadata": {},
   "source": [
    "### Dictionaries"
   ]
  },
  {
   "cell_type": "markdown",
   "metadata": {},
   "source": [
    "A dictionary is an unordered set of _key:value_ pairs. It is a partial function from a set of keys to a set of values. A dictionary is indexed by the key that may be immutable (strings, numbers, tuples)."
   ]
  },
  {
   "cell_type": "code",
   "execution_count": 8,
   "metadata": {
    "collapsed": true
   },
   "outputs": [],
   "source": [
    "students = {'south africa': ['ylaney', 'zakiena', 'mhla'], \n",
    "           'madagascar': ['andriamahazosoa', 'irene','emmanuella'], \n",
    "           'namibia': ['naftali'], \n",
    "           'sudan':['nouralden', 'samah', 'banan'],\n",
    "           'kenya':['hillary', 'faith'],\n",
    "           'benin': ['n\\'dah', 'abigail']}"
   ]
  },
  {
   "cell_type": "code",
   "execution_count": 15,
   "metadata": {
    "collapsed": false
   },
   "outputs": [
    {
     "data": {
      "text/plain": [
       "{'benin': [\"n'dah\", 'abigail'],\n",
       " 'kenya': ['hillary', 'faith'],\n",
       " 'madagascar': ['andriamahazosoa', 'irene', 'emmanuella'],\n",
       " 'namibia': ['naftali'],\n",
       " 'south africa': ['ylaney', 'zakiena', 'mhla'],\n",
       " 'sudan': ['nouralden', 'samah', 'banan']}"
      ]
     },
     "execution_count": 15,
     "metadata": {},
     "output_type": "execute_result"
    }
   ],
   "source": [
    "students"
   ]
  },
  {
   "cell_type": "markdown",
   "metadata": {},
   "source": [
    "Return the items in the dictionary with the function `items()`."
   ]
  },
  {
   "cell_type": "code",
   "execution_count": 11,
   "metadata": {
    "collapsed": false
   },
   "outputs": [
    {
     "data": {
      "text/plain": [
       "dict_items([('benin', [\"n'dah\", 'abigail']), ('madagascar', ['andriamahazosoa', 'irene', 'emmanuella']), ('south africa', ['ylaney', 'zakiena', 'mhla']), ('kenya', ['hillary', 'faith']), ('sudan', ['nouralden', 'samah', 'banan']), ('namibia', ['naftali'])])"
      ]
     },
     "execution_count": 11,
     "metadata": {},
     "output_type": "execute_result"
    }
   ],
   "source": [
    "students.items()"
   ]
  },
  {
   "cell_type": "code",
   "execution_count": 19,
   "metadata": {
    "collapsed": false
   },
   "outputs": [
    {
     "name": "stdout",
     "output_type": "stream",
     "text": [
      "n'dah\n",
      "abigail\n",
      "andriamahazosoa\n",
      "irene\n",
      "emmanuella\n",
      "ylaney\n",
      "zakiena\n",
      "mhla\n",
      "hillary\n",
      "faith\n",
      "nouralden\n",
      "samah\n",
      "banan\n",
      "naftali\n"
     ]
    }
   ],
   "source": [
    "for i in students:\n",
    "    for j in range(len(students[i])):\n",
    "        print(students[i][j])"
   ]
  },
  {
   "cell_type": "code",
   "execution_count": 28,
   "metadata": {
    "collapsed": false
   },
   "outputs": [
    {
     "data": {
      "text/plain": [
       "dict_values([['andriamahazosoa', 'irene', 'emmanuella'], ['ylaney', 'zakiena', 'mhla'], ['hillary', 'faith'], ['nouralden', 'samah', 'banan'], ['naftali']])"
      ]
     },
     "execution_count": 28,
     "metadata": {},
     "output_type": "execute_result"
    }
   ],
   "source": [
    "students.values()"
   ]
  },
  {
   "cell_type": "code",
   "execution_count": 21,
   "metadata": {
    "collapsed": false
   },
   "outputs": [
    {
     "data": {
      "text/plain": [
       "{'kenya': ['hillary', 'faith'],\n",
       " 'madagascar': ['andriamahazosoa', 'irene', 'emmanuella'],\n",
       " 'namibia': ['naftali'],\n",
       " 'south africa': ['ylaney', 'zakiena', 'mhla'],\n",
       " 'sudan': ['nouralden', 'samah', 'banan']}"
      ]
     },
     "execution_count": 21,
     "metadata": {},
     "output_type": "execute_result"
    }
   ],
   "source": [
    "students"
   ]
  },
  {
   "cell_type": "markdown",
   "metadata": {},
   "source": [
    "Get the keys in the dictionary."
   ]
  },
  {
   "cell_type": "code",
   "execution_count": 54,
   "metadata": {
    "collapsed": false
   },
   "outputs": [
    {
     "name": "stdout",
     "output_type": "stream",
     "text": [
      "n'dah\n",
      "abigail\n",
      "nouralden\n",
      "samah\n",
      "banan\n",
      "hillary\n",
      "faith\n",
      "andriamahazosoa\n",
      "irene\n",
      "emmanuella\n",
      "ylaney\n",
      "zakiena\n",
      "mhla\n",
      "naftali\n"
     ]
    }
   ],
   "source": [
    "for i in students:\n",
    "    for j in range(len(students[i])):\n",
    "        print(students[i][j])\n",
    "    "
   ]
  },
  {
   "cell_type": "markdown",
   "metadata": {},
   "source": [
    "Return a single key value from the dictionary."
   ]
  },
  {
   "cell_type": "code",
   "execution_count": 79,
   "metadata": {
    "collapsed": false
   },
   "outputs": [],
   "source": [
    "R={1:['one'],1:['un'],1:'ein',2:['two'],2:['ehjk'],2:['gdfsd']}"
   ]
  },
  {
   "cell_type": "code",
   "execution_count": 70,
   "metadata": {
    "collapsed": false
   },
   "outputs": [
    {
     "data": {
      "text/plain": [
       "{1: ['ein'], 2: ['gdfsd']}"
      ]
     },
     "execution_count": 70,
     "metadata": {},
     "output_type": "execute_result"
    }
   ],
   "source": [
    "R"
   ]
  },
  {
   "cell_type": "markdown",
   "metadata": {},
   "source": [
    "Return the values in the dictionary."
   ]
  },
  {
   "cell_type": "code",
   "execution_count": 80,
   "metadata": {
    "collapsed": false
   },
   "outputs": [],
   "source": [
    "R[1] =  [R[1],\"nour\"]"
   ]
  },
  {
   "cell_type": "code",
   "execution_count": 81,
   "metadata": {
    "collapsed": false
   },
   "outputs": [
    {
     "data": {
      "text/plain": [
       "{1: ['ein', 'nour'], 2: ['gdfsd']}"
      ]
     },
     "execution_count": 81,
     "metadata": {},
     "output_type": "execute_result"
    }
   ],
   "source": [
    "R"
   ]
  },
  {
   "cell_type": "markdown",
   "metadata": {},
   "source": [
    "Determine whether key in dict:"
   ]
  },
  {
   "cell_type": "code",
   "execution_count": 29,
   "metadata": {
    "collapsed": false
   },
   "outputs": [
    {
     "data": {
      "text/plain": [
       "True"
      ]
     },
     "execution_count": 29,
     "metadata": {},
     "output_type": "execute_result"
    }
   ],
   "source": [
    "'sudan' in students"
   ]
  },
  {
   "cell_type": "code",
   "execution_count": null,
   "metadata": {
    "collapsed": true
   },
   "outputs": [],
   "source": []
  },
  {
   "cell_type": "markdown",
   "metadata": {},
   "source": [
    "Check to see if the item was removed."
   ]
  },
  {
   "cell_type": "code",
   "execution_count": 107,
   "metadata": {
    "collapsed": false
   },
   "outputs": [],
   "source": [
    " del students['sudan']"
   ]
  },
  {
   "cell_type": "markdown",
   "metadata": {},
   "source": [
    "Is the deleted key in the dictionary?"
   ]
  },
  {
   "cell_type": "code",
   "execution_count": 108,
   "metadata": {
    "collapsed": false
   },
   "outputs": [
    {
     "ename": "KeyError",
     "evalue": "'sudan'",
     "output_type": "error",
     "traceback": [
      "\u001b[0;31m---------------------------------------------------------------------------\u001b[0m",
      "\u001b[0;31mKeyError\u001b[0m                                  Traceback (most recent call last)",
      "\u001b[0;32m<ipython-input-108-807e52527593>\u001b[0m in \u001b[0;36m<module>\u001b[0;34m()\u001b[0m\n\u001b[0;32m----> 1\u001b[0;31m \u001b[0mstudents\u001b[0m\u001b[0;34m[\u001b[0m\u001b[0;34m'sudan'\u001b[0m\u001b[0;34m]\u001b[0m\u001b[0;34m\u001b[0m\u001b[0m\n\u001b[0m",
      "\u001b[0;31mKeyError\u001b[0m: 'sudan'"
     ]
    }
   ],
   "source": [
    "students['sudan']"
   ]
  },
  {
   "cell_type": "markdown",
   "metadata": {},
   "source": [
    "Updating a dictionary."
   ]
  },
  {
   "cell_type": "code",
   "execution_count": 30,
   "metadata": {
    "collapsed": false
   },
   "outputs": [
    {
     "data": {
      "text/plain": [
       "{'kenya': ['hillary', 'faith'],\n",
       " 'madagascar': ['andriamahazosoa', 'irene', 'emmanuella'],\n",
       " 'namibia': ['naftali'],\n",
       " 'south africa': ['ylaney', 'zakiena', 'mhla'],\n",
       " 'sudan': 'Nour, bana ,Mohammed'}"
      ]
     },
     "execution_count": 30,
     "metadata": {},
     "output_type": "execute_result"
    }
   ],
   "source": [
    "students['sudan']='Nour, bana ,Mohammed';students"
   ]
  },
  {
   "cell_type": "code",
   "execution_count": 31,
   "metadata": {
    "collapsed": false
   },
   "outputs": [],
   "source": [
    "a=list(students.values())"
   ]
  },
  {
   "cell_type": "code",
   "execution_count": 32,
   "metadata": {
    "collapsed": false
   },
   "outputs": [
    {
     "data": {
      "text/plain": [
       "[['andriamahazosoa', 'irene', 'emmanuella'],\n",
       " ['ylaney', 'zakiena', 'mhla'],\n",
       " ['hillary', 'faith'],\n",
       " 'Nour, bana ,Mohammed',\n",
       " ['naftali']]"
      ]
     },
     "execution_count": 32,
     "metadata": {},
     "output_type": "execute_result"
    }
   ],
   "source": [
    "a"
   ]
  },
  {
   "cell_type": "code",
   "execution_count": null,
   "metadata": {
    "collapsed": true
   },
   "outputs": [],
   "source": []
  },
  {
   "cell_type": "markdown",
   "metadata": {},
   "source": [
    "### Exercise 1 (Graph traversal)"
   ]
  },
  {
   "cell_type": "markdown",
   "metadata": {},
   "source": [
    "A graph $(V,E)$ consists of a set $V$ of vertices and a relation $E : V \\leftrightarrow V$ determining adjacency of pairs of vertices. In this question we consider the (undirected) graph\n",
    "\n",
    "$$\n",
    "\\begin{array}{rcl}\n",
    "V & := & [0,4) \\\\ \n",
    "E & := & \\{ (0,1), (1,0), (1,3), (3,1), (0,3), (3,0), (0,2), (2,0) \\}\n",
    "\\end{array}\n",
    "$$\n",
    "\n",
    "and simulate a robot's walk around it, moving between adjacent vertices.\n",
    "The robot starts at vertex $0$ and, from each vertex $v$ where it \n",
    "finds itself, chooses its next vertex randomly (uniformly) from the \n",
    "neighbours of $v$.\n",
    "\n",
    "a. \n",
    "Draw the graph $(V,E)$.\n",
    "\n",
    "b. \n",
    "Recall from class the function $\\overline{\\overline{E}}$ which assigns to each vertex $v$ the set $\\overline{\\overline{E}}(v)$ of vertices adjancent to $v$, i.e.\\ its neighbours.\n",
    "Write down that \n",
    "function for $(V,E)$ and hence express the graph as a Python dictionary.\n",
    "\n",
    "c. \n",
    "Describe an algorithm for the robot's progress, \n",
    "with a variable $v : V$ for its current position\n",
    "and a list $h$ keeping a history of vertices visited. \n",
    "Your algorithm should use a natural number $N$ \n",
    "for the number of steps the robots takes.\n",
    "\n",
    "d.\n",
    "Now implement and test your algorithm.\n",
    "\n",
    "e.\n",
    "We're interested to know whether or not the robot spends about \n",
    "the same amount of time at each vertex.\n",
    "So instead of returning the history $h$ we want to return the \n",
    "frequency of each vertex in $h$. \n",
    "\n",
    "Return to design space and modify your algorithm appropriately. \n",
    "Now downcode the new algorithm and test it.\n",
    "\n",
    "f.\n",
    "Make a conjecture about  frequency with which the robot visits the vertices.\n"
   ]
  },
  {
   "cell_type": "code",
   "execution_count": null,
   "metadata": {
    "collapsed": true
   },
   "outputs": [],
   "source": [
    "from random import choice"
   ]
  },
  {
   "cell_type": "code",
   "execution_count": null,
   "metadata": {
    "collapsed": true
   },
   "outputs": [],
   "source": []
  },
  {
   "cell_type": "code",
   "execution_count": null,
   "metadata": {
    "collapsed": false
   },
   "outputs": [],
   "source": []
  },
  {
   "cell_type": "code",
   "execution_count": null,
   "metadata": {
    "collapsed": false
   },
   "outputs": [],
   "source": []
  },
  {
   "cell_type": "code",
   "execution_count": null,
   "metadata": {
    "collapsed": true
   },
   "outputs": [],
   "source": []
  },
  {
   "cell_type": "markdown",
   "metadata": {},
   "source": [
    "### Exercise 2. (Loop termination)"
   ]
  },
  {
   "cell_type": "markdown",
   "metadata": {},
   "source": [
    "A `for` loop performs a fixed number of iterations, but for a `while` loop it may be difficult to say how many iterations it performs and even whether it terminates. The *Collatz problem* is to decide whether or not the following (recursive) algorithm terminates at every positive integer input. \n",
    "\n",
    "\n",
    "\n",
    "$$\n",
    "\\begin{array}{l}\n",
    "c : \\mathbb{N}^+ \\rightarrow \\mathbb{N}^+ \\\\\n",
    "\\begin{array}[t]{rcll}\n",
    "c (1)             & = & 1 \\\\\n",
    "c (n)             & = & c (n/2)       & \\quad\\quad \\mbox{for even } n>0  \\\\\n",
    "                     & = & c (3n{+}1) & \\quad\\quad \\mbox{for odd } n>1 \\,.\n",
    "\\end{array}\n",
    "\\end{array}\n",
    "$$\n",
    "\n",
    "a. Express the function $c$ in Python and experiment on some values. What do you think is the answer to the Collatz problem?\n",
    "\n",
    "b. Augment your program with a variable $r$ which, on any input, counts the number of iterations to termination. Experiment again. Give values of $r$ for various inputs $n$. (You might like to consult\n",
    "wikipedia's article on the Collatz conjecture for a discussion and to see such a plot.)\n",
    "\n",
    "c. Your program for $c$ probably uses either recursion or a while-loop. Can it be expressed using a for-loop (i.e. with a fixed number of iterations)? Justify your answer.\n"
   ]
  },
  {
   "cell_type": "code",
   "execution_count": null,
   "metadata": {
    "collapsed": true
   },
   "outputs": [],
   "source": []
  },
  {
   "cell_type": "markdown",
   "metadata": {},
   "source": [
    "## References"
   ]
  },
  {
   "cell_type": "markdown",
   "metadata": {},
   "source": [
    "__[Built-in Functions](https://docs.python.org/3/library/functions.html)__"
   ]
  },
  {
   "cell_type": "code",
   "execution_count": null,
   "metadata": {
    "collapsed": true
   },
   "outputs": [],
   "source": []
  }
 ],
 "metadata": {
  "kernelspec": {
   "display_name": "Python 3",
   "language": "python",
   "name": "python3"
  },
  "language_info": {
   "codemirror_mode": {
    "name": "ipython",
    "version": 3
   },
   "file_extension": ".py",
   "mimetype": "text/x-python",
   "name": "python",
   "nbconvert_exporter": "python",
   "pygments_lexer": "ipython3",
   "version": "3.5.3"
  }
 },
 "nbformat": 4,
 "nbformat_minor": 2
}
