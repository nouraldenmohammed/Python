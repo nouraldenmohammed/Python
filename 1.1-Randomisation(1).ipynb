{
 "cells": [
  {
   "cell_type": "markdown",
   "metadata": {},
   "source": [
    "# <font color=\"blue\">1.1- Randomisation</font>\n",
    "\n",
    "One defines a deterministic model as a mathematical model in which outputs are precisely determined through known relationships among states and events. In such models, a given input $x$ will always produce the same output. \n",
    "\n",
    "E.g. $f(p, q)=p\\times q$ where $p$, $q$ and $f(p, q)$ denote the price, quantity and the total amount of an item respectively. So $f(5, 2)=10$, always.\n",
    "\n",
    "On the other hand, random models use values in the form of probability distributions, the outputs may (partially) or not depend on the input. \n",
    "\n",
    "E.g. $f(p, q) = r( [r_{min}, r_{max}])$ where $r$ denotes a random function that picts a value in the range. So $f(5, 2)=8$ or $f(5, 2)=12$ or $f(5, 2)=9$. This may become interesting if over different random experiments, we still have the same output.\n",
    "\n",
    "<b>Randomisation is a sampling method used in scientific experiments to:</b>\n",
    "\n",
    "<br>\n",
    "<font color=\"blue\">\n",
    "<ul>\n",
    "<li>Reduce selection bias.</li>\n",
    "<li>Control temporal effects.</li>\n",
    "<li>Perform statistical inference.</li>\n",
    "</ul>\n",
    "</font>\n",
    "\n",
    "<br>\n",
    "<font color=\"red\">\n",
    "<u><b>Learning Objectives</b></u>\n",
    "<div class=\"panel-body\">\n",
    "<ul>\n",
    "<li>Importance of randomisation.</li>\n",
    "<li>Use of randomisation and its applications.</li>\n",
    "</ul>\n",
    "</div>\n",
    "</font>"
   ]
  },
  {
   "cell_type": "markdown",
   "metadata": {},
   "source": [
    "## <font color=\"blue\">A-Random Walk (RW)</font>\n",
    "\n",
    "RW (or stochastic process) is a mathematical method that describes a path that consists of a succession of random steps or positions. \n",
    "\n",
    "<u>Examples:</u>\n",
    "<ul>\n",
    "<li>The walk of a drunk.</li>\n",
    "<li>The travel of a molecule in a liquid.</li>\n",
    "<li>The price of a fluctuating stock of an item.</li>\n",
    "<li>...</li>\n",
    "</ul>"
   ]
  },
  {
   "cell_type": "code",
   "execution_count": 1,
   "metadata": {
    "collapsed": true
   },
   "outputs": [],
   "source": [
    "#import libraries\n",
    "import numpy as np"
   ]
  },
  {
   "cell_type": "code",
   "execution_count": 3,
   "metadata": {
    "collapsed": false
   },
   "outputs": [
    {
     "data": {
      "text/plain": [
       "array([[ 1.60160762,  3.34871848,  2.73049072,  2.4410924 ],\n",
       "       [ 1.56423266,  3.15691752,  3.1539559 ,  1.86111591],\n",
       "       [ 1.08801765,  2.74907436,  2.3278153 ,  3.52774504],\n",
       "       [ 1.7073629 ,  2.93835865,  1.85326554,  1.93016329]])"
      ]
     },
     "execution_count": 3,
     "metadata": {},
     "output_type": "execute_result"
    }
   ],
   "source": [
    "np.random.uniform(low=1,high =4, size=(4,4))"
   ]
  },
  {
   "cell_type": "code",
   "execution_count": 12,
   "metadata": {
    "collapsed": false
   },
   "outputs": [
    {
     "data": {
      "text/plain": [
       "4"
      ]
     },
     "execution_count": 12,
     "metadata": {},
     "output_type": "execute_result"
    }
   ],
   "source": [
    "x = [4,5,3,2,1,8,9]\n",
    "np.random.choice(x)"
   ]
  },
  {
   "cell_type": "markdown",
   "metadata": {},
   "source": [
    "## Walk in a graph\n",
    "\n",
    "Given the following graph $G$, one needs extract a walk of a path of length $n$."
   ]
  },
  {
   "cell_type": "code",
   "execution_count": 15,
   "metadata": {
    "collapsed": false
   },
   "outputs": [
    {
     "data": {
      "text/plain": [
       "6"
      ]
     },
     "execution_count": 15,
     "metadata": {},
     "output_type": "execute_result"
    }
   ],
   "source": [
    "np.random.randint(10)"
   ]
  },
  {
   "cell_type": "code",
   "execution_count": 16,
   "metadata": {
    "collapsed": true
   },
   "outputs": [],
   "source": [
    "import networkx as nx"
   ]
  },
  {
   "cell_type": "code",
   "execution_count": 20,
   "metadata": {
    "collapsed": false
   },
   "outputs": [],
   "source": [
    "G = nx.Graph()\n",
    "G.add_edge(\"A\", \"B\")\n",
    "G.add_edge(\"A\", \"C\")\n",
    "G.add_edge(\"B\", \"C\")\n",
    "G.add_edge(\"D\", \"B\")\n",
    "G.add_edge(\"C\", \"E\")\n",
    "G.add_edge(\"D\", \"E\")\n",
    "G.add_edge(\"E\", \"F\")\n",
    "G.add_edge(\"F\", \"G\")\n",
    "G.add_edge(\"G\", \"A\")\n",
    "G.add_edge(\"G\", \"H\")\n",
    "G.add_edge(\"F\", \"H\")\n",
    "G.add_edge(\"D\", \"H\")\n",
    "G.add_edge(\"F\", \"A\")"
   ]
  },
  {
   "cell_type": "code",
   "execution_count": 22,
   "metadata": {
    "collapsed": false
   },
   "outputs": [
    {
     "data": {
      "image/png": "[encoded data removed]",
      "text/plain": [
       "<Figure size 432x288 with 1 Axes>"
      ]
     },
     "metadata": {},
     "output_type": "display_data"
    }
   ],
   "source": [
    "import matplotlib.pyplot as plt\n",
    "nx.draw_networkx(G,  with_labels=True)\n",
    "plt.axis('off')\n",
    "plt.show()"
   ]
  },
  {
   "cell_type": "code",
   "execution_count": 23,
   "metadata": {
    "collapsed": false
   },
   "outputs": [
    {
     "data": {
      "text/plain": [
       "NodeView(('G', 'E', 'A', 'B', 'F', 'D', 'C', 'H'))"
      ]
     },
     "execution_count": 23,
     "metadata": {},
     "output_type": "execute_result"
    }
   ],
   "source": [
    "G.nodes()"
   ]
  },
  {
   "cell_type": "code",
   "execution_count": 33,
   "metadata": {
    "collapsed": false
   },
   "outputs": [
    {
     "data": {
      "text/plain": [
       "['F', 'H', 'F', 'A', 'F', 'H', 'G', 'A']"
      ]
     },
     "execution_count": 33,
     "metadata": {},
     "output_type": "execute_result"
    }
   ],
   "source": [
    "n_step = 8\n",
    "rand_path = []\n",
    "current_node = np.random.choice(G.nodes())\n",
    "for i in range(n_step):\n",
    "    rand_path.append(current_node)\n",
    "    current_node = np.random.choice(list(G.neighbors(current_node)))\n",
    "rand_path"
   ]
  },
  {
   "cell_type": "code",
   "execution_count": 34,
   "metadata": {
    "collapsed": false
   },
   "outputs": [
    {
     "data": {
      "text/plain": [
       "{'A': ['G', 'C', 'B', 'F'],\n",
       " 'B': ['D', 'C', 'A'],\n",
       " 'C': ['E', 'B', 'A'],\n",
       " 'D': ['E', 'B', 'H'],\n",
       " 'E': ['D', 'C', 'F'],\n",
       " 'F': ['G', 'E', 'A', 'H'],\n",
       " 'G': ['H', 'A', 'F'],\n",
       " 'H': ['D', 'G', 'F']}"
      ]
     },
     "execution_count": 34,
     "metadata": {},
     "output_type": "execute_result"
    }
   ],
   "source": [
    "dict_G={}\n",
    "for node in G.nodes():\n",
    "    dict_G[node]=list(G.neighbors(node))\n",
    "dict_G"
   ]
  },
  {
   "cell_type": "code",
   "execution_count": null,
   "metadata": {
    "collapsed": true
   },
   "outputs": [],
   "source": []
  },
  {
   "cell_type": "markdown",
   "metadata": {},
   "source": [
    "### b) Random walk"
   ]
  },
  {
   "cell_type": "code",
   "execution_count": 4,
   "metadata": {
    "collapsed": false
   },
   "outputs": [],
   "source": []
  },
  {
   "cell_type": "markdown",
   "metadata": {},
   "source": [
    "## <font color=\"blue\">B-Monte Carlo (MC)</font>\n",
    "\n",
    "MC is a computational method that relies on generated random sampling to obtain numerical results. It uses randomness to solve problems that might be deterministic. They are most useful when it is difficult or impossible to use other approaches. \n",
    "\n",
    "<b>Monte Carlo:</b>\n",
    "<font color=\"blue\">\n",
    "<ul>\n",
    "<li>Optimizes.</li>\n",
    "<li>Performs numerical integration.</li>\n",
    "<li>Generates samples from a probability distribution.</li>\n",
    "</ul>\n",
    "</font>"
   ]
  },
  {
   "cell_type": "markdown",
   "metadata": {},
   "source": [
    "## B.0- Numerical Integration\n",
    "\n",
    "Integrals are trivial to compute using a MC. A bounded integration of a function is the area under this function within a polygone. Thus, to find the area under a curve (function), one needs to create a bounding box (polygone) that contains the function (curve) in the desired interval.  You can use MC to numerically integrate any function, even non-integrable and noncontinuous functions."
   ]
  },
  {
   "cell_type": "markdown",
   "metadata": {},
   "source": [
    "#### Example\n",
    "\n",
    "Suppose we want to know the area under the curve $y=\\int  (x^2+1) \\, \\mathrm{d}x$ in  [0, 2]. The area is computed with the definite integral $\\int_0^2  (x^2+1)\\, \\mathrm{d}x$."
   ]
  },
  {
   "cell_type": "markdown",
   "metadata": {},
   "source": [
    "### a) Deterministic method"
   ]
  },
  {
   "cell_type": "code",
   "execution_count": 1,
   "metadata": {
    "collapsed": true
   },
   "outputs": [],
   "source": [
    "def f(x):\n",
    "    return x**2+1"
   ]
  },
  {
   "cell_type": "code",
   "execution_count": 4,
   "metadata": {
    "collapsed": false
   },
   "outputs": [
    {
     "data": {
      "text/plain": [
       "{'edgeitems': 3,\n",
       " 'floatmode': 'maxprec',\n",
       " 'formatter': None,\n",
       " 'infstr': 'inf',\n",
       " 'legacy': False,\n",
       " 'linewidth': 75,\n",
       " 'nanstr': 'nan',\n",
       " 'precision': 8,\n",
       " 'sign': '-',\n",
       " 'suppress': False,\n",
       " 'threshold': 1000}"
      ]
     },
     "execution_count": 4,
     "metadata": {},
     "output_type": "execute_result"
    }
   ],
   "source": [
    "import numpy as np\n",
    "import matplotlib.pyplot as plt\n",
    "np.get_printoptions()"
   ]
  },
  {
   "cell_type": "code",
   "execution_count": 5,
   "metadata": {
    "collapsed": false
   },
   "outputs": [
    {
     "data": {
      "text/plain": [
       "4.664667"
      ]
     },
     "execution_count": 5,
     "metadata": {},
     "output_type": "execute_result"
    }
   ],
   "source": [
    "dx = 0.001\n",
    "x = np.arange(0, 2, dx)\n",
    "y =f(x)\n",
    "np.sum(y)*dx"
   ]
  },
  {
   "cell_type": "markdown",
   "metadata": {},
   "source": [
    "### b) Random method\n",
    "\n",
    "Generate randomly positioned point within a rectangle, and compute the ratio of points that fall under the curve. Its accuracy depends on the number of points generated: a few thousand points will give you a fairly accurate result."
   ]
  },
  {
   "cell_type": "code",
   "execution_count": null,
   "metadata": {
    "collapsed": true
   },
   "outputs": [],
   "source": []
  },
  {
   "cell_type": "code",
   "execution_count": 6,
   "metadata": {
    "collapsed": false
   },
   "outputs": [
    {
     "ename": "NameError",
     "evalue": "name 'counter' is not defined",
     "output_type": "error",
     "traceback": [
      "\u001b[0;31m---------------------------------------------------------------------------\u001b[0m",
      "\u001b[0;31mNameError\u001b[0m                                 Traceback (most recent call last)",
      "\u001b[0;32m<ipython-input-6-0c40fb139021>\u001b[0m in \u001b[0;36m<module>\u001b[0;34m()\u001b[0m\n\u001b[0;32m----> 1\u001b[0;31m \u001b[0mcounter\u001b[0m\u001b[0;34m\u001b[0m\u001b[0m\n\u001b[0m",
      "\u001b[0;31mNameError\u001b[0m: name 'counter' is not defined"
     ]
    }
   ],
   "source": [
    "counter"
   ]
  },
  {
   "cell_type": "code",
   "execution_count": 7,
   "metadata": {
    "collapsed": false
   },
   "outputs": [
    {
     "data": {
      "image/png": "[encoded data removed]",
      "text/plain": [
       "<Figure size 432x288 with 1 Axes>"
      ]
     },
     "metadata": {},
     "output_type": "display_data"
    }
   ],
   "source": [
    "xmin = 0\n",
    "xmax = 2\n",
    "ymin = 0\n",
    "ymax = f(xmax)\n",
    "N= 20000\n",
    "xdata = np.random.uniform(xmin, xmax, N)\n",
    "ydata =  np.random.uniform(ymin, ymax, N)\n",
    "eye = ydata<=f(xdata)\n",
    "plt.plot(x, y)\n",
    "plt.scatter(xdata[eye], ydata[eye], marker=',', edgecolors='r', s=2)\n",
    "plt.scatter(xdata[~eye], ydata[~eye], marker=',', edgecolors='g', s=2)\n",
    "plt.axis('off')\n",
    "plt.show()"
   ]
  },
  {
   "cell_type": "code",
   "execution_count": 53,
   "metadata": {
    "collapsed": false
   },
   "outputs": [
    {
     "data": {
      "text/plain": [
       "4.6735"
      ]
     },
     "execution_count": 53,
     "metadata": {},
     "output_type": "execute_result"
    }
   ],
   "source": [
    "box_area = (xmax-xmin)*(ymax-ymin)\n",
    "counter = 0\n",
    "for i in range(N):\n",
    "    if ydata[i]<=f(xdata[i]):\n",
    "        counter = counter + 1\n",
    "# inference\n",
    "fnArea = box_area*float(counter)/N\n",
    "fnArea"
   ]
  },
  {
   "cell_type": "markdown",
   "metadata": {},
   "source": [
    "## B.1- Approximation of $\\pi$\n",
    "\n",
    "Let's estimate the value of $\\pi$ by finding the area of a circle of radius r bounded a square. The area of the square is is $A= 4r^2$. We also know that the surface of a circle is $C = \\pi r^2$, so we compute $\\pi = C / r^2$. \n",
    "\n",
    "The approach is to generate a set of uniformly distributed random points within the box, and count how many fall inside the circle."
   ]
  },
  {
   "cell_type": "code",
   "execution_count": 69,
   "metadata": {
    "collapsed": false
   },
   "outputs": [
    {
     "data": {
      "image/png": "[encoded data removed]",
      "text/plain": [
       "<Figure size 432x288 with 1 Axes>"
      ]
     },
     "metadata": {},
     "output_type": "display_data"
    }
   ],
   "source": [
    "N= 2000\n",
    "radius = 1\n",
    "box_area = (2*radius)**2\n",
    "# points inside the box\n",
    "points = np.random.uniform(-radius, radius, (N, 2))\n",
    "# distance from (0,0)\n",
    "distances = np.linalg.norm(points, axis =1)\n",
    "in_circle = distances < radius\n",
    "\n",
    "#plot\n",
    "plt.scatter(points[in_circle, 0], points[in_circle, 1], marker=',',\n",
    "            edgecolors='r', s=2)\n",
    "plt.scatter(points[~in_circle, 0], points[~in_circle, 1], marker=',',\n",
    "            edgecolors='g', s=2)\n",
    "plt.axis('equal')\n",
    "plt.axis('off')\n",
    "plt.show()"
   ]
  },
  {
   "cell_type": "code",
   "execution_count": 70,
   "metadata": {
    "collapsed": false
   },
   "outputs": [
    {
     "data": {
      "text/plain": [
       "(3.222, 4)"
      ]
     },
     "execution_count": 70,
     "metadata": {},
     "output_type": "execute_result"
    }
   ],
   "source": [
    "number_points_inside_circle = np.count_nonzero(in_circle)\n",
    "# surface of the circle\n",
    "circle_area = box_area*float(number_points_inside_circle)/N\n",
    "circle_area, box_area"
   ]
  },
  {
   "cell_type": "code",
   "execution_count": 71,
   "metadata": {
    "collapsed": false
   },
   "outputs": [
    {
     "data": {
      "text/plain": [
       "3.222"
      ]
     },
     "execution_count": 71,
     "metadata": {},
     "output_type": "execute_result"
    }
   ],
   "source": [
    "approx_pi = circle_area/(radius**2)\n",
    "approx_pi"
   ]
  },
  {
   "cell_type": "code",
   "execution_count": null,
   "metadata": {
    "collapsed": true
   },
   "outputs": [],
   "source": []
  },
  {
   "cell_type": "markdown",
   "metadata": {},
   "source": [
    "### Exercise\n",
    "\n",
    "Propose Python code that distributes 10 scholarships to 50 AIMS students. "
   ]
  },
  {
   "cell_type": "code",
   "execution_count": 72,
   "metadata": {
    "collapsed": false
   },
   "outputs": [
    {
     "data": {
      "text/plain": [
       "array([14, 13, 29, 15, 12, 28, 25, 24, 17, 41])"
      ]
     },
     "execution_count": 72,
     "metadata": {},
     "output_type": "execute_result"
    }
   ],
   "source": [
    "# your answer\n",
    "np.random.choice(50, 10, replace=False)"
   ]
  },
  {
   "cell_type": "markdown",
   "metadata": {},
   "source": [
    "A list of ages contains 1700 values which represent the ages of 1700 AIMS alumnies. One needs to know the percentage of those who are under 30 years old by only extracting 300 out of 1700. Propose two solutions to solve this problem. Which method is the best? Why? \n",
    "\n"
   ]
  },
  {
   "cell_type": "code",
   "execution_count": 82,
   "metadata": {
    "collapsed": false
   },
   "outputs": [
    {
     "name": "stdout",
     "output_type": "stream",
     "text": [
      "Help on built-in function randint:\n",
      "\n",
      "randint(...) method of mtrand.RandomState instance\n",
      "    randint(low, high=None, size=None, dtype='l')\n",
      "    \n",
      "    Return random integers from `low` (inclusive) to `high` (exclusive).\n",
      "    \n",
      "    Return random integers from the \"discrete uniform\" distribution of\n",
      "    the specified dtype in the \"half-open\" interval [`low`, `high`). If\n",
      "    `high` is None (the default), then results are from [0, `low`).\n",
      "    \n",
      "    Parameters\n",
      "    ----------\n",
      "    low : int\n",
      "        Lowest (signed) integer to be drawn from the distribution (unless\n",
      "        ``high=None``, in which case this parameter is one above the\n",
      "        *highest* such integer).\n",
      "    high : int, optional\n",
      "        If provided, one above the largest (signed) integer to be drawn\n",
      "        from the distribution (see above for behavior if ``high=None``).\n",
      "    size : int or tuple of ints, optional\n",
      "        Output shape.  If the given shape is, e.g., ``(m, n, k)``, then\n",
      "        ``m * n * k`` samples are drawn.  Default is None, in which case a\n",
      "        single value is returned.\n",
      "    dtype : dtype, optional\n",
      "        Desired dtype of the result. All dtypes are determined by their\n",
      "        name, i.e., 'int64', 'int', etc, so byteorder is not available\n",
      "        and a specific precision may have different C types depending\n",
      "        on the platform. The default value is 'np.int'.\n",
      "    \n",
      "        .. versionadded:: 1.11.0\n",
      "    \n",
      "    Returns\n",
      "    -------\n",
      "    out : int or ndarray of ints\n",
      "        `size`-shaped array of random integers from the appropriate\n",
      "        distribution, or a single such random int if `size` not provided.\n",
      "    \n",
      "    See Also\n",
      "    --------\n",
      "    random.random_integers : similar to `randint`, only for the closed\n",
      "        interval [`low`, `high`], and 1 is the lowest value if `high` is\n",
      "        omitted. In particular, this other one is the one to use to generate\n",
      "        uniformly distributed discrete non-integers.\n",
      "    \n",
      "    Examples\n",
      "    --------\n",
      "    >>> np.random.randint(2, size=10)\n",
      "    array([1, 0, 0, 0, 1, 1, 0, 0, 1, 0])\n",
      "    >>> np.random.randint(1, size=10)\n",
      "    array([0, 0, 0, 0, 0, 0, 0, 0, 0, 0])\n",
      "    \n",
      "    Generate a 2 x 4 array of ints between 0 and 4, inclusive:\n",
      "    \n",
      "    >>> np.random.randint(5, size=(2, 4))\n",
      "    array([[4, 0, 2, 1],\n",
      "           [3, 2, 2, 0]])\n",
      "\n"
     ]
    }
   ],
   "source": [
    "help(np.random.randint)"
   ]
  },
  {
   "cell_type": "code",
   "execution_count": null,
   "metadata": {
    "collapsed": true
   },
   "outputs": [],
   "source": []
  },
  {
   "cell_type": "code",
   "execution_count": 83,
   "metadata": {
    "collapsed": false
   },
   "outputs": [
    {
     "data": {
      "text/plain": [
       "array([51, 32, 31, ..., 52, 40, 50])"
      ]
     },
     "execution_count": 83,
     "metadata": {},
     "output_type": "execute_result"
    }
   ],
   "source": [
    "ages = np.random.randint(24, 60, 1700)\n",
    "#ages = np.random.choice(lo, 1700)\n",
    "ages"
   ]
  },
  {
   "cell_type": "code",
   "execution_count": 84,
   "metadata": {
    "collapsed": true
   },
   "outputs": [],
   "source": [
    "counter = ages<=30"
   ]
  },
  {
   "cell_type": "code",
   "execution_count": 85,
   "metadata": {
    "collapsed": false
   },
   "outputs": [
    {
     "data": {
      "text/plain": [
       "328"
      ]
     },
     "execution_count": 85,
     "metadata": {},
     "output_type": "execute_result"
    }
   ],
   "source": [
    "np.count_nonzero(counter)"
   ]
  },
  {
   "cell_type": "code",
   "execution_count": 86,
   "metadata": {
    "collapsed": false
   },
   "outputs": [
    {
     "data": {
      "text/plain": [
       "334.33333333333337"
      ]
     },
     "execution_count": 86,
     "metadata": {},
     "output_type": "execute_result"
    }
   ],
   "source": [
    "portion_ages = np.random.choice(ages, 300, replace =False)\n",
    "counter_ = portion_ages<=30\n",
    "np.count_nonzero(counter_)*(1700/300)"
   ]
  },
  {
   "cell_type": "markdown",
   "metadata": {},
   "source": [
    "### Exercises"
   ]
  },
  {
   "cell_type": "markdown",
   "metadata": {},
   "source": [
    "For each of the questions students should do the following:\n",
    "\n",
    "* specifications\n",
    "* Python codes\n",
    "* testing and debugging \n",
    "* and documentation\n",
    "\n",
    "### Data generation\n",
    "\n",
    "Given a representative sample from a normal distribution (population). A sample is representative when it possesses all the necessary information of its population. Let assume the unknown population has 500 items and the sample is given by\n",
    "\n",
    "25.125,  14.947,  10.047 ,  15.725, 12.841,  14.436,  20.00,  20.221, 20.322,  23.703,  \n",
    "15.287,  20.659, 12.658,  13.987,  18.174,  20.179, 21.264,   5.227,  16.916,  16.658\n",
    "\n",
    "\n",
    "0. estimate the mean and the standard deviation of the population.\n",
    "\n",
    "    Propose two approaches to answer each of the following:\n",
    "\n",
    "1. how many standard deviation from the mean should an element be in order to occur with probability less than 1% (from the population not from the sample)\n",
    "2. items in the neighborhood of the mean of the population with standard deviation of 1\n",
    "3. Repeat 2 and 3 (Python codes only) for N=1000, N=1200, N=1600, N=1800, N=2000 and N=2500. Check the representativeness of the sample against each population.\n",
    "4. Visualise the normal distribution over the population obtained from the above question using the most convenient representations.\n",
    "5. discuss the two approaches proposed."
   ]
  },
  {
   "cell_type": "markdown",
   "metadata": {},
   "source": [
    "### Approximation\n",
    "\n",
    "#### Newton\n",
    "\n",
    "Recall the Newton-Raphson method for approximating a root of function f.\n",
    "\n",
    "1. Use iteration to implement the method. Assume that you have procedures to return the values of f(x ) and f'(x ), given the value of x.\n",
    "2. Show, by example, perhaps on a graph, that it is possible for the algorithm not to terminate.\n",
    "3. Is it possible for the loop to terminate and not return the right answer? Give an example.\n",
    "4. Specifying your implementation of the Newton-Raphson method. Those examples demonstrate the importance of this specification: it tells the user of the method when the method returns an accurate answer. Thus it must make some assumptions about the function f ."
   ]
  },
  {
   "cell_type": "markdown",
   "metadata": {},
   "source": [
    "#### Numerical integration\n",
    "\n",
    "1. Find a numerical solution to evaluate the area under the curve $y= \\frac{1}{x^2}$ in [0, 2]. \n",
    "2. Find a numerical solution to evaluate the area under the curve $y= \\mathrm{e}^{\\sin(x)}$ in [0, $\\pi$]. "
   ]
  },
  {
   "cell_type": "code",
   "execution_count": null,
   "metadata": {
    "collapsed": true
   },
   "outputs": [],
   "source": []
  }
 ],
 "metadata": {
  "kernelspec": {
   "display_name": "Python 3",
   "language": "python",
   "name": "python3"
  },
  "language_info": {
   "codemirror_mode": {
    "name": "ipython",
    "version": 3
   },
   "file_extension": ".py",
   "mimetype": "text/x-python",
   "name": "python",
   "nbconvert_exporter": "python",
   "pygments_lexer": "ipython3",
   "version": "3.5.3"
  }
 },
 "nbformat": 4,
 "nbformat_minor": 2
}
